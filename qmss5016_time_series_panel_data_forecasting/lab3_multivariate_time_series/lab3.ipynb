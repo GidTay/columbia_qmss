{
 "cells": [
  {
   "cell_type": "markdown",
   "metadata": {
    "id": "b1rmFKvOOwHT"
   },
   "source": [
    "## Lab 3 (QMSS5016 Time Series, Panel Data & Forecasting)\n",
    "**Submitted by**: Gideon Tay\\\n",
    "**My UNI**: gt2528\\\n",
    "**Contact me at**: gideon.tay@columbia.edu"
   ]
  },
  {
   "cell_type": "markdown",
   "metadata": {
    "id": "_6SHMneC4-xo"
   },
   "source": [
    "I have two datasets:\n",
    "- Google search volume for the word 'deals' in the United States from 2009-2019.\n",
    "    - Data from [Google Trends](https://trends.google.com/trends/explore?date=2009-01-01%202019-12-01&geo=US&q=deals&hl=en-US)\n",
    "- Month-on-month percentage changes in the Consumer Price Index for all urban consumers in the United States from 2009-2019. \n",
    "    - Data from [US Bureau of Labor Statistics](https://data.bls.gov/pdq/SurveyOutputServlet)\n",
    "\n",
    "I would think that when people search for more deals, the month-on-month inflation decreases, as people look for special offers and discounts on items, possibly due to greater price sensitivity or yearly deal seasons, firms lower prices in response, and average prices fall.\n",
    "\n",
    "I have already merged the two datasets together beforehand. Let's start by importing required libraries and loading in the data:"
   ]
  },
  {
   "cell_type": "code",
   "execution_count": 2,
   "metadata": {
    "colab": {
     "base_uri": "https://localhost:8080/",
     "height": 262
    },
    "id": "GmV25lJz0Wpe",
    "outputId": "96537f6f-8e07-4169-fbc6-af2feba5330e"
   },
   "outputs": [
    {
     "data": {
      "text/html": [
       "<div>\n",
       "<style scoped>\n",
       "    .dataframe tbody tr th:only-of-type {\n",
       "        vertical-align: middle;\n",
       "    }\n",
       "\n",
       "    .dataframe tbody tr th {\n",
       "        vertical-align: top;\n",
       "    }\n",
       "\n",
       "    .dataframe thead th {\n",
       "        text-align: right;\n",
       "    }\n",
       "</style>\n",
       "<table border=\"1\" class=\"dataframe\">\n",
       "  <thead>\n",
       "    <tr style=\"text-align: right;\">\n",
       "      <th></th>\n",
       "      <th>Month</th>\n",
       "      <th>MoMInflation</th>\n",
       "      <th>DealsSearchVolume</th>\n",
       "    </tr>\n",
       "  </thead>\n",
       "  <tbody>\n",
       "    <tr>\n",
       "      <th>0</th>\n",
       "      <td>2009-01</td>\n",
       "      <td>0.3</td>\n",
       "      <td>24</td>\n",
       "    </tr>\n",
       "    <tr>\n",
       "      <th>1</th>\n",
       "      <td>2009-02</td>\n",
       "      <td>0.4</td>\n",
       "      <td>23</td>\n",
       "    </tr>\n",
       "    <tr>\n",
       "      <th>2</th>\n",
       "      <td>2009-03</td>\n",
       "      <td>0.4</td>\n",
       "      <td>23</td>\n",
       "    </tr>\n",
       "    <tr>\n",
       "      <th>3</th>\n",
       "      <td>2009-04</td>\n",
       "      <td>0.2</td>\n",
       "      <td>20</td>\n",
       "    </tr>\n",
       "    <tr>\n",
       "      <th>4</th>\n",
       "      <td>2009-05</td>\n",
       "      <td>0.0</td>\n",
       "      <td>22</td>\n",
       "    </tr>\n",
       "  </tbody>\n",
       "</table>\n",
       "</div>"
      ],
      "text/plain": [
       "     Month  MoMInflation  DealsSearchVolume\n",
       "0  2009-01           0.3                 24\n",
       "1  2009-02           0.4                 23\n",
       "2  2009-03           0.4                 23\n",
       "3  2009-04           0.2                 20\n",
       "4  2009-05           0.0                 22"
      ]
     },
     "execution_count": 2,
     "metadata": {},
     "output_type": "execute_result"
    }
   ],
   "source": [
    "# Import required libraries\n",
    "import pandas as pd\n",
    "import numpy as np\n",
    "import matplotlib.pyplot as plt\n",
    "from statsmodels.formula.api import ols\n",
    "from statsmodels.tsa.stattools import kpss\n",
    "from pmdarima import auto_arima\n",
    "from statsmodels.tsa.arima.model import ARIMA\n",
    "from statsmodels.stats.outliers_influence import variance_inflation_factor\n",
    "\n",
    "# Read in the uploaded file and display first few rows\n",
    "data = pd.read_csv(\"Merged_Deals_and_Inflation_Data.csv\")\n",
    "data.head()"
   ]
  },
  {
   "cell_type": "markdown",
   "metadata": {
    "id": "j3ii5SuGKMZ2"
   },
   "source": [
    "### 1. Create a multivariate time series; perform any interpolations.\n",
    "\n",
    "Let's first check if there are any missing values in this dataframe:"
   ]
  },
  {
   "cell_type": "code",
   "execution_count": 3,
   "metadata": {},
   "outputs": [
    {
     "name": "stdout",
     "output_type": "stream",
     "text": [
      "Any missing values: False\n"
     ]
    }
   ],
   "source": [
    "# Check if there are any missing values\n",
    "has_missing = data.isnull().values.any()\n",
    "print(\"Any missing values:\", has_missing)"
   ]
  },
  {
   "cell_type": "markdown",
   "metadata": {},
   "source": [
    "Since there are no missing values, we do not need to perform any interpolation of data.\n",
    "\n",
    "Let's create dummies for each month to possibly capture seasonal effects:"
   ]
  },
  {
   "cell_type": "code",
   "execution_count": 4,
   "metadata": {
    "id": "bDtfVpT93G4W"
   },
   "outputs": [
    {
     "data": {
      "text/html": [
       "<div>\n",
       "<style scoped>\n",
       "    .dataframe tbody tr th:only-of-type {\n",
       "        vertical-align: middle;\n",
       "    }\n",
       "\n",
       "    .dataframe tbody tr th {\n",
       "        vertical-align: top;\n",
       "    }\n",
       "\n",
       "    .dataframe thead th {\n",
       "        text-align: right;\n",
       "    }\n",
       "</style>\n",
       "<table border=\"1\" class=\"dataframe\">\n",
       "  <thead>\n",
       "    <tr style=\"text-align: right;\">\n",
       "      <th></th>\n",
       "      <th>MoMInflation</th>\n",
       "      <th>DealsSearchVolume</th>\n",
       "      <th>Month_Num</th>\n",
       "      <th>Month_2</th>\n",
       "      <th>Month_3</th>\n",
       "      <th>Month_4</th>\n",
       "      <th>Month_5</th>\n",
       "      <th>Month_6</th>\n",
       "      <th>Month_7</th>\n",
       "      <th>Month_8</th>\n",
       "      <th>Month_9</th>\n",
       "      <th>Month_10</th>\n",
       "      <th>Month_11</th>\n",
       "      <th>Month_12</th>\n",
       "    </tr>\n",
       "    <tr>\n",
       "      <th>Month</th>\n",
       "      <th></th>\n",
       "      <th></th>\n",
       "      <th></th>\n",
       "      <th></th>\n",
       "      <th></th>\n",
       "      <th></th>\n",
       "      <th></th>\n",
       "      <th></th>\n",
       "      <th></th>\n",
       "      <th></th>\n",
       "      <th></th>\n",
       "      <th></th>\n",
       "      <th></th>\n",
       "      <th></th>\n",
       "    </tr>\n",
       "  </thead>\n",
       "  <tbody>\n",
       "    <tr>\n",
       "      <th>2009-01-01</th>\n",
       "      <td>0.3</td>\n",
       "      <td>24</td>\n",
       "      <td>1</td>\n",
       "      <td>False</td>\n",
       "      <td>False</td>\n",
       "      <td>False</td>\n",
       "      <td>False</td>\n",
       "      <td>False</td>\n",
       "      <td>False</td>\n",
       "      <td>False</td>\n",
       "      <td>False</td>\n",
       "      <td>False</td>\n",
       "      <td>False</td>\n",
       "      <td>False</td>\n",
       "    </tr>\n",
       "    <tr>\n",
       "      <th>2009-02-01</th>\n",
       "      <td>0.4</td>\n",
       "      <td>23</td>\n",
       "      <td>2</td>\n",
       "      <td>True</td>\n",
       "      <td>False</td>\n",
       "      <td>False</td>\n",
       "      <td>False</td>\n",
       "      <td>False</td>\n",
       "      <td>False</td>\n",
       "      <td>False</td>\n",
       "      <td>False</td>\n",
       "      <td>False</td>\n",
       "      <td>False</td>\n",
       "      <td>False</td>\n",
       "    </tr>\n",
       "    <tr>\n",
       "      <th>2009-03-01</th>\n",
       "      <td>0.4</td>\n",
       "      <td>23</td>\n",
       "      <td>3</td>\n",
       "      <td>False</td>\n",
       "      <td>True</td>\n",
       "      <td>False</td>\n",
       "      <td>False</td>\n",
       "      <td>False</td>\n",
       "      <td>False</td>\n",
       "      <td>False</td>\n",
       "      <td>False</td>\n",
       "      <td>False</td>\n",
       "      <td>False</td>\n",
       "      <td>False</td>\n",
       "    </tr>\n",
       "    <tr>\n",
       "      <th>2009-04-01</th>\n",
       "      <td>0.2</td>\n",
       "      <td>20</td>\n",
       "      <td>4</td>\n",
       "      <td>False</td>\n",
       "      <td>False</td>\n",
       "      <td>True</td>\n",
       "      <td>False</td>\n",
       "      <td>False</td>\n",
       "      <td>False</td>\n",
       "      <td>False</td>\n",
       "      <td>False</td>\n",
       "      <td>False</td>\n",
       "      <td>False</td>\n",
       "      <td>False</td>\n",
       "    </tr>\n",
       "    <tr>\n",
       "      <th>2009-05-01</th>\n",
       "      <td>0.0</td>\n",
       "      <td>22</td>\n",
       "      <td>5</td>\n",
       "      <td>False</td>\n",
       "      <td>False</td>\n",
       "      <td>False</td>\n",
       "      <td>True</td>\n",
       "      <td>False</td>\n",
       "      <td>False</td>\n",
       "      <td>False</td>\n",
       "      <td>False</td>\n",
       "      <td>False</td>\n",
       "      <td>False</td>\n",
       "      <td>False</td>\n",
       "    </tr>\n",
       "    <tr>\n",
       "      <th>2009-06-01</th>\n",
       "      <td>0.1</td>\n",
       "      <td>24</td>\n",
       "      <td>6</td>\n",
       "      <td>False</td>\n",
       "      <td>False</td>\n",
       "      <td>False</td>\n",
       "      <td>False</td>\n",
       "      <td>True</td>\n",
       "      <td>False</td>\n",
       "      <td>False</td>\n",
       "      <td>False</td>\n",
       "      <td>False</td>\n",
       "      <td>False</td>\n",
       "      <td>False</td>\n",
       "    </tr>\n",
       "    <tr>\n",
       "      <th>2009-07-01</th>\n",
       "      <td>0.0</td>\n",
       "      <td>26</td>\n",
       "      <td>7</td>\n",
       "      <td>False</td>\n",
       "      <td>False</td>\n",
       "      <td>False</td>\n",
       "      <td>False</td>\n",
       "      <td>False</td>\n",
       "      <td>True</td>\n",
       "      <td>False</td>\n",
       "      <td>False</td>\n",
       "      <td>False</td>\n",
       "      <td>False</td>\n",
       "      <td>False</td>\n",
       "    </tr>\n",
       "    <tr>\n",
       "      <th>2009-08-01</th>\n",
       "      <td>0.1</td>\n",
       "      <td>23</td>\n",
       "      <td>8</td>\n",
       "      <td>False</td>\n",
       "      <td>False</td>\n",
       "      <td>False</td>\n",
       "      <td>False</td>\n",
       "      <td>False</td>\n",
       "      <td>False</td>\n",
       "      <td>True</td>\n",
       "      <td>False</td>\n",
       "      <td>False</td>\n",
       "      <td>False</td>\n",
       "      <td>False</td>\n",
       "    </tr>\n",
       "    <tr>\n",
       "      <th>2009-09-01</th>\n",
       "      <td>0.2</td>\n",
       "      <td>19</td>\n",
       "      <td>9</td>\n",
       "      <td>False</td>\n",
       "      <td>False</td>\n",
       "      <td>False</td>\n",
       "      <td>False</td>\n",
       "      <td>False</td>\n",
       "      <td>False</td>\n",
       "      <td>False</td>\n",
       "      <td>True</td>\n",
       "      <td>False</td>\n",
       "      <td>False</td>\n",
       "      <td>False</td>\n",
       "    </tr>\n",
       "    <tr>\n",
       "      <th>2009-10-01</th>\n",
       "      <td>0.3</td>\n",
       "      <td>19</td>\n",
       "      <td>10</td>\n",
       "      <td>False</td>\n",
       "      <td>False</td>\n",
       "      <td>False</td>\n",
       "      <td>False</td>\n",
       "      <td>False</td>\n",
       "      <td>False</td>\n",
       "      <td>False</td>\n",
       "      <td>False</td>\n",
       "      <td>True</td>\n",
       "      <td>False</td>\n",
       "      <td>False</td>\n",
       "    </tr>\n",
       "    <tr>\n",
       "      <th>2009-11-01</th>\n",
       "      <td>-0.2</td>\n",
       "      <td>57</td>\n",
       "      <td>11</td>\n",
       "      <td>False</td>\n",
       "      <td>False</td>\n",
       "      <td>False</td>\n",
       "      <td>False</td>\n",
       "      <td>False</td>\n",
       "      <td>False</td>\n",
       "      <td>False</td>\n",
       "      <td>False</td>\n",
       "      <td>False</td>\n",
       "      <td>True</td>\n",
       "      <td>False</td>\n",
       "    </tr>\n",
       "    <tr>\n",
       "      <th>2009-12-01</th>\n",
       "      <td>-0.2</td>\n",
       "      <td>28</td>\n",
       "      <td>12</td>\n",
       "      <td>False</td>\n",
       "      <td>False</td>\n",
       "      <td>False</td>\n",
       "      <td>False</td>\n",
       "      <td>False</td>\n",
       "      <td>False</td>\n",
       "      <td>False</td>\n",
       "      <td>False</td>\n",
       "      <td>False</td>\n",
       "      <td>False</td>\n",
       "      <td>True</td>\n",
       "    </tr>\n",
       "    <tr>\n",
       "      <th>2010-01-01</th>\n",
       "      <td>0.0</td>\n",
       "      <td>23</td>\n",
       "      <td>1</td>\n",
       "      <td>False</td>\n",
       "      <td>False</td>\n",
       "      <td>False</td>\n",
       "      <td>False</td>\n",
       "      <td>False</td>\n",
       "      <td>False</td>\n",
       "      <td>False</td>\n",
       "      <td>False</td>\n",
       "      <td>False</td>\n",
       "      <td>False</td>\n",
       "      <td>False</td>\n",
       "    </tr>\n",
       "  </tbody>\n",
       "</table>\n",
       "</div>"
      ],
      "text/plain": [
       "            MoMInflation  DealsSearchVolume  Month_Num  Month_2  Month_3  \\\n",
       "Month                                                                      \n",
       "2009-01-01           0.3                 24          1    False    False   \n",
       "2009-02-01           0.4                 23          2     True    False   \n",
       "2009-03-01           0.4                 23          3    False     True   \n",
       "2009-04-01           0.2                 20          4    False    False   \n",
       "2009-05-01           0.0                 22          5    False    False   \n",
       "2009-06-01           0.1                 24          6    False    False   \n",
       "2009-07-01           0.0                 26          7    False    False   \n",
       "2009-08-01           0.1                 23          8    False    False   \n",
       "2009-09-01           0.2                 19          9    False    False   \n",
       "2009-10-01           0.3                 19         10    False    False   \n",
       "2009-11-01          -0.2                 57         11    False    False   \n",
       "2009-12-01          -0.2                 28         12    False    False   \n",
       "2010-01-01           0.0                 23          1    False    False   \n",
       "\n",
       "            Month_4  Month_5  Month_6  Month_7  Month_8  Month_9  Month_10  \\\n",
       "Month                                                                        \n",
       "2009-01-01    False    False    False    False    False    False     False   \n",
       "2009-02-01    False    False    False    False    False    False     False   \n",
       "2009-03-01    False    False    False    False    False    False     False   \n",
       "2009-04-01     True    False    False    False    False    False     False   \n",
       "2009-05-01    False     True    False    False    False    False     False   \n",
       "2009-06-01    False    False     True    False    False    False     False   \n",
       "2009-07-01    False    False    False     True    False    False     False   \n",
       "2009-08-01    False    False    False    False     True    False     False   \n",
       "2009-09-01    False    False    False    False    False     True     False   \n",
       "2009-10-01    False    False    False    False    False    False      True   \n",
       "2009-11-01    False    False    False    False    False    False     False   \n",
       "2009-12-01    False    False    False    False    False    False     False   \n",
       "2010-01-01    False    False    False    False    False    False     False   \n",
       "\n",
       "            Month_11  Month_12  \n",
       "Month                           \n",
       "2009-01-01     False     False  \n",
       "2009-02-01     False     False  \n",
       "2009-03-01     False     False  \n",
       "2009-04-01     False     False  \n",
       "2009-05-01     False     False  \n",
       "2009-06-01     False     False  \n",
       "2009-07-01     False     False  \n",
       "2009-08-01     False     False  \n",
       "2009-09-01     False     False  \n",
       "2009-10-01     False     False  \n",
       "2009-11-01      True     False  \n",
       "2009-12-01     False      True  \n",
       "2010-01-01     False     False  "
      ]
     },
     "execution_count": 4,
     "metadata": {},
     "output_type": "execute_result"
    }
   ],
   "source": [
    "# Convert 'Month' to a datetime object and set as index\n",
    "data['Month'] = pd.to_datetime(data['Month'])\n",
    "data.set_index('Month', inplace=True)\n",
    "\n",
    "# Create monthly dummies\n",
    "data['Month_Num'] = data.index.month\n",
    "monthly_dummies = pd.get_dummies(\n",
    "    data['Month_Num'], prefix='Month', drop_first=True\n",
    ")\n",
    "data = pd.concat([data, monthly_dummies], axis=1)\n",
    "\n",
    "# Display first 13 rows of dataframe\n",
    "data.head(13)"
   ]
  },
  {
   "cell_type": "markdown",
   "metadata": {
    "id": "wBV5b-6bKTZ-"
   },
   "source": [
    "### 2. Graph the relationships between X and Y. Explain how you think Y should relate to your key Xs."
   ]
  },
  {
   "cell_type": "markdown",
   "metadata": {
    "id": "AJOamC8S5mOA"
   },
   "source": [
    "Let's visualize the relationship between month-on-month inflation and search volume for 'deals' over time. Note that since they have different scales, it is hard to plot them on the same y-axis. To visualize them better, I use 2 separate y-axis for each variable:"
   ]
  },
  {
   "cell_type": "code",
   "execution_count": 5,
   "metadata": {
    "colab": {
     "base_uri": "https://localhost:8080/",
     "height": 564
    },
    "id": "Z_8P6qDCPX6b",
    "outputId": "cc4f4c8c-30ad-4551-9bd7-ceab65e491b8"
   },
   "outputs": [
    {
     "data": {
      "image/png": "[encoded data removed]",
      "text/plain": [
       "<Figure size 1400x600 with 2 Axes>"
      ]
     },
     "metadata": {},
     "output_type": "display_data"
    }
   ],
   "source": [
    "# Plot 'MoMInflation' on the left y-axis\n",
    "fig, ax1 = plt.subplots(figsize=(14, 6))\n",
    "ax1.plot(data.index, data['MoMInflation'], label='MoM Inflation', color='blue')\n",
    "ax1.set_xlabel('Time')\n",
    "ax1.set_ylabel('MoM Inflation', color='blue')\n",
    "ax1.tick_params(axis='y', labelcolor='blue')\n",
    "\n",
    "# Create a second y-axis for 'DealsSearchVolume'\n",
    "ax2 = ax1.twinx()  # Create a twin Axes sharing the x-axis\n",
    "ax2.plot(data.index, data['DealsSearchVolume'], label='Deals Search Volume', color='orange')\n",
    "ax2.set_ylabel('Deals Search Volume', color='orange')\n",
    "ax2.tick_params(axis='y', labelcolor='orange')\n",
    "\n",
    "# Add title and grid\n",
    "plt.title('MoM Inflation and Deals Search Volume Over Time')\n",
    "ax1.grid(True)"
   ]
  },
  {
   "cell_type": "markdown",
   "metadata": {},
   "source": [
    "This provides an intuitive understanding of how these variables vary together. The graphs reveal a seasonal pattern in both month-on-month inflation and 'deals' search volume, suggesting a potential correlation that warrants further exploration.\n",
    "\n",
    "- In particular, we see that months with high 'deals' search volume (orange peaks) coincide with months with low MoM inflation (blue troughs).\n",
    "- Each year, there appears to be a second shallower blue trough between a tall and short blue spike. This shallower blue trough which roughly corresponds to a smaller orange peak as well.\n",
    "\n",
    "Visually, we thus observe some form of negative relation between the two variables as expected. I would think that when people search for more deals, the month-on-month inflation decreases, as people look for special offers and discounts on items, possibly due to greater price sensitivity or yearly deal seasons, firms lower prices in response, and average prices fall.\n",
    "\n",
    "The large spike in deal search seems to occur near the year end during the Christmas period and this corresponds to a large drop in month-on-month inflation from November to December.\n",
    "\n",
    "Let's plot a scatter plot too:"
   ]
  },
  {
   "cell_type": "code",
   "execution_count": 6,
   "metadata": {
    "colab": {
     "base_uri": "https://localhost:8080/",
     "height": 564
    },
    "id": "jABoEgJT3J_e",
    "outputId": "3ba58ea7-8df4-461f-a8ba-98f177711e85"
   },
   "outputs": [
    {
     "data": {
      "image/png": "[encoded data removed]",
      "text/plain": [
       "<Figure size 800x600 with 1 Axes>"
      ]
     },
     "metadata": {},
     "output_type": "display_data"
    }
   ],
   "source": [
    "# Plot a scatterplot\n",
    "plt.figure(figsize=(8, 6))\n",
    "plt.scatter(\n",
    "    data['DealsSearchVolume'], \n",
    "    data['MoMInflation'],\n",
    "    color='red', alpha=0.5\n",
    "    )\n",
    "plt.title('MoM Inflation vs. Deals Search Volume')\n",
    "plt.ylabel('MoM Inflation')\n",
    "plt.xlabel('Deals Search Volume')\n",
    "plt.grid(True)\n",
    "plt.show()"
   ]
  },
  {
   "cell_type": "markdown",
   "metadata": {},
   "source": [
    "The relation between the two variables is rather unclear, but there appears to be a very rough negative relation."
   ]
  },
  {
   "cell_type": "markdown",
   "metadata": {
    "id": "hQTxtJu2KacN"
   },
   "source": [
    "### 3. Run a simple time series regression, with one X and no trend. Interpret it."
   ]
  },
  {
   "cell_type": "markdown",
   "metadata": {
    "id": "8R95zX0u510I"
   },
   "source": [
    "We will run a \"naive\" model predicting search as a function of MoM inflation:"
   ]
  },
  {
   "cell_type": "code",
   "execution_count": 7,
   "metadata": {
    "colab": {
     "base_uri": "https://localhost:8080/"
    },
    "id": "JIXk0lbM3P2W",
    "outputId": "d96a6bca-3cae-466e-8446-05804462883f"
   },
   "outputs": [
    {
     "name": "stdout",
     "output_type": "stream",
     "text": [
      "                            OLS Regression Results                            \n",
      "==============================================================================\n",
      "Dep. Variable:           MoMInflation   R-squared:                       0.202\n",
      "Model:                            OLS   Adj. R-squared:                  0.196\n",
      "Method:                 Least Squares   F-statistic:                     32.94\n",
      "Date:                Sat, 07 Dec 2024   Prob (F-statistic):           6.37e-08\n",
      "Time:                        01:05:13   Log-Likelihood:                 79.433\n",
      "No. Observations:                 132   AIC:                            -154.9\n",
      "Df Residuals:                     130   BIC:                            -149.1\n",
      "Df Model:                           1                                         \n",
      "Covariance Type:            nonrobust                                         \n",
      "=====================================================================================\n",
      "                        coef    std err          t      P>|t|      [0.025      0.975]\n",
      "-------------------------------------------------------------------------------------\n",
      "Intercept             0.2799      0.025     11.311      0.000       0.231       0.329\n",
      "DealsSearchVolume    -0.0048      0.001     -5.739      0.000      -0.006      -0.003\n",
      "==============================================================================\n",
      "Omnibus:                        0.446   Durbin-Watson:                   1.346\n",
      "Prob(Omnibus):                  0.800   Jarque-Bera (JB):                0.590\n",
      "Skew:                          -0.015   Prob(JB):                        0.745\n",
      "Kurtosis:                       2.674   Cond. No.                         63.3\n",
      "==============================================================================\n",
      "\n",
      "Notes:\n",
      "[1] Standard Errors assume that the covariance matrix of the errors is correctly specified.\n"
     ]
    }
   ],
   "source": [
    "# Regression with Only Deal Search Volume Predicting MoM Inflation\n",
    "model_search_only = ols('MoMInflation ~ DealsSearchVolume', data=data).fit()\n",
    "print(model_search_only.summary())"
   ]
  },
  {
   "cell_type": "markdown",
   "metadata": {},
   "source": [
    "**Interpretation**: we see that the results show a significant negative relationship, with 'deals' search volume explaining about 20% of the variability in MoM Inflation."
   ]
  },
  {
   "cell_type": "markdown",
   "metadata": {
    "id": "e2ioTa4yKhd-"
   },
   "source": [
    "### 4. Run a time series regression with one X and trend. Interpret it. Perform autocorrelation diagnostics. Explain what you found."
   ]
  },
  {
   "cell_type": "markdown",
   "metadata": {
    "id": "uMKxBAyv6Cqx"
   },
   "source": [
    "We know that usually, it is too simple to just correlate two time series variables together, so we must do more.  Adding a trend and monthly dummies in the fourth step accounts for time effects and seasonality, providing a more nuanced model. This allows us to distill their relationship beyond broader temporal patterns."
   ]
  },
  {
   "cell_type": "code",
   "execution_count": 8,
   "metadata": {
    "colab": {
     "base_uri": "https://localhost:8080/"
    },
    "id": "uNZkA3mw3SH-",
    "outputId": "88908546-6828-4592-91be-a72e13d1688d"
   },
   "outputs": [
    {
     "name": "stdout",
     "output_type": "stream",
     "text": [
      "                            OLS Regression Results                            \n",
      "==============================================================================\n",
      "Dep. Variable:           MoMInflation   R-squared:                       0.768\n",
      "Model:                            OLS   Adj. R-squared:                  0.743\n",
      "Method:                 Least Squares   F-statistic:                     30.11\n",
      "Date:                Sat, 07 Dec 2024   Prob (F-statistic):           2.06e-31\n",
      "Time:                        01:05:13   Log-Likelihood:                 161.06\n",
      "No. Observations:                 132   AIC:                            -294.1\n",
      "Df Residuals:                     118   BIC:                            -253.8\n",
      "Df Model:                          13                                         \n",
      "Covariance Type:            nonrobust                                         \n",
      "=====================================================================================\n",
      "                        coef    std err          t      P>|t|      [0.025      0.975]\n",
      "-------------------------------------------------------------------------------------\n",
      "Intercept             0.2411      0.039      6.197      0.000       0.164       0.318\n",
      "Month_2[T.True]       0.0995      0.032      3.089      0.003       0.036       0.163\n",
      "Month_3[T.True]       0.0441      0.032      1.368      0.174      -0.020       0.108\n",
      "Month_4[T.True]      -0.0754      0.032     -2.323      0.022      -0.140      -0.011\n",
      "Month_5[T.True]      -0.1480      0.032     -4.587      0.000      -0.212      -0.084\n",
      "Month_6[T.True]      -0.1571      0.032     -4.875      0.000      -0.221      -0.093\n",
      "Month_7[T.True]      -0.2293      0.032     -7.071      0.000      -0.294      -0.165\n",
      "Month_8[T.True]      -0.1130      0.032     -3.503      0.001      -0.177      -0.049\n",
      "Month_9[T.True]      -0.0600      0.033     -1.842      0.068      -0.125       0.005\n",
      "Month_10[T.True]     -0.0515      0.033     -1.578      0.117      -0.116       0.013\n",
      "Month_11[T.True]     -0.2761      0.076     -3.653      0.000      -0.426      -0.126\n",
      "Month_12[T.True]     -0.3566      0.035    -10.320      0.000      -0.425      -0.288\n",
      "DealsSearchVolume    -0.0004      0.001     -0.291      0.772      -0.003       0.003\n",
      "Trend                 0.0005      0.000      2.903      0.004       0.000       0.001\n",
      "==============================================================================\n",
      "Omnibus:                        5.568   Durbin-Watson:                   1.283\n",
      "Prob(Omnibus):                  0.062   Jarque-Bera (JB):                5.274\n",
      "Skew:                          -0.372   Prob(JB):                       0.0716\n",
      "Kurtosis:                       3.636   Cond. No.                     1.05e+03\n",
      "==============================================================================\n",
      "\n",
      "Notes:\n",
      "[1] Standard Errors assume that the covariance matrix of the errors is correctly specified.\n",
      "[2] The condition number is large, 1.05e+03. This might indicate that there are\n",
      "strong multicollinearity or other numerical problems.\n"
     ]
    }
   ],
   "source": [
    "# Create a trend variable\n",
    "data['Trend'] = np.arange(1, len(data) + 1)\n",
    "\n",
    "# OLS regression with trend and monthly dummies\n",
    "model_with_trend = ols(\n",
    "    'MoMInflation ~ DealsSearchVolume + Trend + ' + \n",
    "    ' + '.join(monthly_dummies.columns),\n",
    "    data=data\n",
    ").fit()\n",
    "print(model_with_trend.summary())"
   ]
  },
  {
   "cell_type": "markdown",
   "metadata": {},
   "source": [
    "**Interpretation**: \n",
    "- The findings indicate that both trend and certain months significantly affect search volume, suggesting seasonality and gradual positive trend of higher MoM inflation over time (very small positive coefficient on Trend). \n",
    "- Large negative coefficient on Month_12, suggesting that MoM inflation is low in December. This is statistically significant (p-value<0.01). This could be due to Christmas holiday discounts. \n",
    "- However, after controlling for seasonality and trend, DealsSearchVolume is no longer statistically significant (p-value>0.1).\n",
    "- This suggests that 'deals' search volume is only related to MoM inflation to the extent that people search for deals during specific seasons (e.g. Christmas) and firms lower prices during those seasons. \n",
    "- It possibly suggests that people do not really search for 'deals' for other reasons such as increased price sensitivity unrelated to seasons, so firms do not reduce prices and MoM inflation is not lower when people search for 'deals' outside typical seasons.\n",
    "\n",
    "**Autocorrelation diagnostics**: The Durbin-Watson statistic is less than and still pretty far away from 2.0, suggesting maybe still some positive autocorrelation in MoM inflation (DW < 2 suggests negative autocorrelation)."
   ]
  },
  {
   "cell_type": "markdown",
   "metadata": {
    "id": "4zqNJysPKn0W"
   },
   "source": [
    "### 5. Consider running a time series regression with many Xs and trend. Interpret that. Check VIF."
   ]
  },
  {
   "cell_type": "markdown",
   "metadata": {
    "id": "6rUucb1H6lXp"
   },
   "source": [
    "To address multicollinearity, we calculate the Variance Inflation Factor (VIF) for the predictors. This ensures that our regression estimates are not distorted by highly correlated variables."
   ]
  },
  {
   "cell_type": "code",
   "execution_count": 9,
   "metadata": {
    "colab": {
     "base_uri": "https://localhost:8080/"
    },
    "id": "xm8WvInd3U51",
    "outputId": "692553e9-1e1d-4c98-aa62-0568b5a38100"
   },
   "outputs": [
    {
     "name": "stdout",
     "output_type": "stream",
     "text": [
      "            Variable       VIF\n",
      "0  DealsSearchVolume  4.928433\n",
      "1          Month_Num  4.704739\n",
      "2              Trend  3.039500\n"
     ]
    }
   ],
   "source": [
    "# Select the predictors (X variables) from the data\n",
    "predictors = data.drop(columns=['MoMInflation']) # Drop y variable MoMInflation\n",
    "\n",
    "# Ensure predictors are numeric and contain no missing values\n",
    "predictors_cleaned = predictors.select_dtypes(include=[np.number]).dropna()\n",
    "\n",
    "# Recalculate VIF\n",
    "vif_data = pd.DataFrame()\n",
    "vif_data['Variable'] = predictors_cleaned.columns\n",
    "vif_data['VIF'] = [\n",
    "    variance_inflation_factor(predictors_cleaned.values, i) \n",
    "    for i in range(predictors_cleaned.shape[1])\n",
    "]\n",
    "\n",
    "# Display the VIF results\n",
    "print(vif_data)\n"
   ]
  },
  {
   "cell_type": "markdown",
   "metadata": {},
   "source": [
    "The analysis reveals moderate multicollinearity for DealsSearchVolume, Month_Num, and Trend. \n",
    "- VIF = 1: indicates no multicollinearity, the variable is not correlated with other predictors in the model. \n",
    "- VIF between 1 and 5: Moderate level of correlation, usually considered acceptable. \n",
    "\n",
    "Although there is some multicollinearity, they are still within an acceptable range as VIF < 5."
   ]
  },
  {
   "cell_type": "markdown",
   "metadata": {
    "id": "4ZlX-gfXKsw3"
   },
   "source": [
    "### 6. Run a first differenced time series regression. Interpret that."
   ]
  },
  {
   "cell_type": "markdown",
   "metadata": {
    "id": "5btdRgY_6vnR"
   },
   "source": [
    "We perform a first-differenced regression with \"change in month\" dummies to focus on short-term changes and seasonal transitions. This step removes trends and isolates month-to-month shifts in MoM inflation."
   ]
  },
  {
   "cell_type": "code",
   "execution_count": 10,
   "metadata": {
    "colab": {
     "base_uri": "https://localhost:8080/"
    },
    "id": "9sXpbUVi3XOY",
    "outputId": "fc1fb868-ebef-4add-ddb6-daf9c149689d"
   },
   "outputs": [
    {
     "name": "stdout",
     "output_type": "stream",
     "text": [
      "                            OLS Regression Results                            \n",
      "==============================================================================\n",
      "Dep. Variable:      Diff_MoMInflation   R-squared:                       0.747\n",
      "Model:                            OLS   Adj. R-squared:                  0.723\n",
      "Method:                 Least Squares   F-statistic:                     31.90\n",
      "Date:                Sat, 07 Dec 2024   Prob (F-statistic):           2.01e-30\n",
      "Time:                        01:05:13   Log-Likelihood:                 143.27\n",
      "No. Observations:                 131   AIC:                            -262.5\n",
      "Df Residuals:                     119   BIC:                            -228.0\n",
      "Df Model:                          11                                         \n",
      "Covariance Type:            nonrobust                                         \n",
      "==========================================================================================\n",
      "                             coef    std err          t      P>|t|      [0.025      0.975]\n",
      "------------------------------------------------------------------------------------------\n",
      "Intercept                  0.1596      0.028      5.654      0.000       0.104       0.215\n",
      "Month_2[T.True]           -0.0589      0.026     -2.262      0.025      -0.110      -0.007\n",
      "Month_3[T.True]           -0.1567      0.035     -4.456      0.000      -0.226      -0.087\n",
      "Month_4[T.True]           -0.1223      0.026     -4.700      0.000      -0.174      -0.071\n",
      "Month_5[T.True]           -0.1092      0.047     -2.344      0.021      -0.201      -0.017\n",
      "Month_6[T.True]           -0.0576      0.029     -1.986      0.049      -0.115      -0.000\n",
      "Month_7[T.True]           -0.1728      0.054     -3.204      0.002      -0.280      -0.066\n",
      "Month_8[T.True]            0.1289      0.032      4.034      0.000       0.066       0.192\n",
      "Month_9[T.True]           -0.2371      0.059     -4.034      0.000      -0.353      -0.121\n",
      "Month_10[T.True]           0.0872      0.040      2.199      0.030       0.009       0.166\n",
      "Month_11[T.True]          -0.4429      0.036    -12.294      0.000      -0.514      -0.372\n",
      "Month_12[T.True]           0.1822      0.037      4.895      0.000       0.108       0.256\n",
      "Diff_DealsSearchVolume    -0.0010      0.001     -1.267      0.208      -0.003       0.001\n",
      "==============================================================================\n",
      "Omnibus:                        4.160   Durbin-Watson:                   2.646\n",
      "Prob(Omnibus):                  0.125   Jarque-Bera (JB):                3.608\n",
      "Skew:                          -0.375   Prob(JB):                        0.165\n",
      "Kurtosis:                       3.314   Cond. No.                     2.71e+17\n",
      "==============================================================================\n",
      "\n",
      "Notes:\n",
      "[1] Standard Errors assume that the covariance matrix of the errors is correctly specified.\n",
      "[2] The smallest eigenvalue is 6.57e-31. This might indicate that there are\n",
      "strong multicollinearity problems or that the design matrix is singular.\n"
     ]
    }
   ],
   "source": [
    "# Updated First-Differenced Model with \"Change in Month\" Dummies\n",
    "data['Diff_MoMInflation'] = data['MoMInflation'].diff()\n",
    "data['Diff_DealsSearchVolume'] = data['DealsSearchVolume'].diff()\n",
    "change_in_month_dummies = monthly_dummies.diff().iloc[1:]\n",
    "data_with_differences = pd.concat(\n",
    "    [data[['Diff_MoMInflation', 'Diff_DealsSearchVolume']], \n",
    "     change_in_month_dummies], axis=1\n",
    ").dropna()\n",
    "model_diff_with_change_dummies = ols(\n",
    "    'Diff_MoMInflation ~ Diff_DealsSearchVolume + ' +\n",
    "    ' + '.join(change_in_month_dummies.columns),\n",
    "    data=data_with_differences\n",
    ").fit()\n",
    "print(model_diff_with_change_dummies.summary())"
   ]
  },
  {
   "cell_type": "markdown",
   "metadata": {},
   "source": [
    "**Interpretation**: \n",
    "\n",
    "- Changes in 'deals' search volume between months is not significantly associated with changes in MoM inflation between months (p-value>0.1).\n",
    "- Durbin-Watson statistic is now above 2, by quite a bit. Differencing seems to have resolved our initial positive autocorrelation issue, where DW statistic was far below 2. However, now we may have negative autocorrelation."
   ]
  },
  {
   "cell_type": "markdown",
   "metadata": {
    "id": "MzZzUox0Kxd_"
   },
   "source": [
    "### 7. Check your variables for unit roots. Do some tests. Interpret them."
   ]
  },
  {
   "cell_type": "markdown",
   "metadata": {
    "id": "EOvMwDcO6y1a"
   },
   "source": [
    "Apply the KPSS test to assess the stationarity of the original and differenced series for both the MoM inflation and 'Deals' Search Volume variables:"
   ]
  },
  {
   "cell_type": "code",
   "execution_count": 11,
   "metadata": {
    "colab": {
     "base_uri": "https://localhost:8080/"
    },
    "id": "dUCqQRxv3Y31",
    "outputId": "7de3ac2c-98dc-459b-ce9d-2b52285eb6a2"
   },
   "outputs": [
    {
     "name": "stdout",
     "output_type": "stream",
     "text": [
      "KPSS Test Results (Original DealsSearchVolume): {'KPSS Statistic': 0.2840442934866382, 'p-value': 0.1, 'Critical Values': {'10%': 0.347, '5%': 0.463, '2.5%': 0.574, '1%': 0.739}}\n",
      "KPSS Test Results (Differenced DealsSearchVolume): {'KPSS Statistic': 0.3989788317817938, 'p-value': 0.07759533112853717, 'Critical Values': {'10%': 0.347, '5%': 0.463, '2.5%': 0.574, '1%': 0.739}}\n",
      "\n",
      "KPSS Test Results (Original MoMInflation): {'KPSS Statistic': 0.09322859578614048, 'p-value': 0.1, 'Critical Values': {'10%': 0.347, '5%': 0.463, '2.5%': 0.574, '1%': 0.739}}\n",
      "KPSS Test Results (Differenced MoMInflation): {'KPSS Statistic': 0.14136748274434152, 'p-value': 0.1, 'Critical Values': {'10%': 0.347, '5%': 0.463, '2.5%': 0.574, '1%': 0.739}}\n"
     ]
    },
    {
     "name": "stderr",
     "output_type": "stream",
     "text": [
      "C:\\Users\\gideo\\AppData\\Local\\Temp\\ipykernel_10424\\1126586665.py:3: InterpolationWarning: The test statistic is outside of the range of p-values available in the\n",
      "look-up table. The actual p-value is greater than the p-value returned.\n",
      "\n",
      "  statistic, p_value, _, critical_values = kpss(series, regression='c')\n",
      "C:\\Users\\gideo\\AppData\\Local\\Temp\\ipykernel_10424\\1126586665.py:3: InterpolationWarning: The test statistic is outside of the range of p-values available in the\n",
      "look-up table. The actual p-value is greater than the p-value returned.\n",
      "\n",
      "  statistic, p_value, _, critical_values = kpss(series, regression='c')\n",
      "C:\\Users\\gideo\\AppData\\Local\\Temp\\ipykernel_10424\\1126586665.py:3: InterpolationWarning: The test statistic is outside of the range of p-values available in the\n",
      "look-up table. The actual p-value is greater than the p-value returned.\n",
      "\n",
      "  statistic, p_value, _, critical_values = kpss(series, regression='c')\n"
     ]
    }
   ],
   "source": [
    "# Define KPSS Test for Stationarity\n",
    "def kpss_test(series):\n",
    "    statistic, p_value, _, critical_values = kpss(series, regression='c')\n",
    "    return {\n",
    "        'KPSS Statistic': statistic, \n",
    "        'p-value': p_value, \n",
    "        'Critical Values': critical_values\n",
    "    }\n",
    "\n",
    "# KPSS Test for DealsSearchVolume and MoM Inflation\n",
    "kpss_original = kpss_test(data['DealsSearchVolume'].dropna())\n",
    "kpss_diff = kpss_test(data['Diff_DealsSearchVolume'].dropna())\n",
    "kpss_original2 = kpss_test(data['MoMInflation'].dropna())\n",
    "kpss_diff2 = kpss_test(data['Diff_MoMInflation'].dropna())\n",
    "\n",
    "# Print results\n",
    "print(\"KPSS Test Results (Original DealsSearchVolume):\", kpss_original)\n",
    "print(\"KPSS Test Results (Differenced DealsSearchVolume):\", kpss_diff)\n",
    "print(\"\")\n",
    "print(\"KPSS Test Results (Original MoMInflation):\", kpss_original2)\n",
    "print(\"KPSS Test Results (Differenced MoMInflation):\", kpss_diff2)"
   ]
  },
  {
   "cell_type": "markdown",
   "metadata": {
    "id": "kfg7EPwELwv_"
   },
   "source": [
    "The test confirms that the original series for both variables are already stationarity (p>.05), and we fail to reject the null of stationarity. We still fail to reject the null of stationarity after differencing.\n",
    "\n",
    "We thus do not have a unit root problem."
   ]
  },
  {
   "cell_type": "markdown",
   "metadata": {
    "id": "QO2-je3oK4Yv"
   },
   "source": [
    "### 8. Perform an Automatic ARIMA on the residuals from one of your earlier models. Tell me what it says.\n",
    "\n",
    "The `auto_arima` function automatically finds the best ARIMA model based on the residuals. It tries different combinations of AR, I, MA, and seasonal parameters and uses AIC/BIC to select the best model. I will perform an automatic ARIMA on the residuals of my OLS model with trend and monthly dummies:"
   ]
  },
  {
   "cell_type": "code",
   "execution_count": 12,
   "metadata": {},
   "outputs": [
    {
     "name": "stdout",
     "output_type": "stream",
     "text": [
      "Performing stepwise search to minimize aic\n",
      " ARIMA(2,0,2)(0,0,0)[0]             : AIC=-330.085, Time=0.25 sec\n",
      " ARIMA(0,0,0)(0,0,0)[0]             : AIC=-320.115, Time=0.04 sec\n",
      " ARIMA(1,0,0)(0,0,0)[0]             : AIC=-335.836, Time=0.12 sec\n",
      " ARIMA(0,0,1)(0,0,0)[0]             : AIC=-333.827, Time=0.09 sec\n",
      " ARIMA(2,0,0)(0,0,0)[0]             : AIC=-333.836, Time=0.05 sec\n",
      " ARIMA(1,0,1)(0,0,0)[0]             : AIC=-333.836, Time=0.08 sec\n",
      " ARIMA(2,0,1)(0,0,0)[0]             : AIC=-331.836, Time=0.10 sec\n",
      " ARIMA(1,0,0)(0,0,0)[0] intercept   : AIC=-333.836, Time=0.05 sec\n",
      "\n",
      "Best model:  ARIMA(1,0,0)(0,0,0)[0]          \n",
      "Total fit time: 0.782 seconds\n",
      "                               SARIMAX Results                                \n",
      "==============================================================================\n",
      "Dep. Variable:                      y   No. Observations:                  132\n",
      "Model:               SARIMAX(1, 0, 0)   Log Likelihood                 169.918\n",
      "Date:                Sat, 07 Dec 2024   AIC                           -335.836\n",
      "Time:                        01:05:14   BIC                           -330.071\n",
      "Sample:                    01-01-2009   HQIC                          -333.493\n",
      "                         - 12-01-2019                                         \n",
      "Covariance Type:                  opg                                         \n",
      "==============================================================================\n",
      "                 coef    std err          z      P>|z|      [0.025      0.975]\n",
      "------------------------------------------------------------------------------\n",
      "ar.L1          0.3548      0.088      4.052      0.000       0.183       0.526\n",
      "sigma2         0.0045      0.000      9.940      0.000       0.004       0.005\n",
      "===================================================================================\n",
      "Ljung-Box (L1) (Q):                   0.00   Jarque-Bera (JB):                 8.89\n",
      "Prob(Q):                              1.00   Prob(JB):                         0.01\n",
      "Heteroskedasticity (H):               0.73   Skew:                            -0.39\n",
      "Prob(H) (two-sided):                  0.30   Kurtosis:                         4.00\n",
      "===================================================================================\n",
      "\n",
      "Warnings:\n",
      "[1] Covariance matrix calculated using the outer product of gradients (complex-step).\n"
     ]
    }
   ],
   "source": [
    "# Fit the OLS model\n",
    "model_with_trend = ols(\n",
    "    'MoMInflation ~ DealsSearchVolume + Trend + ' + \n",
    "    ' + '.join(monthly_dummies.columns),\n",
    "    data=data\n",
    ").fit()\n",
    "\n",
    "# Extract the residuals\n",
    "residuals = model_with_trend.resid\n",
    "\n",
    "# Automatically fit an ARIMA model to the residuals\n",
    "arima_model = auto_arima(residuals, seasonal=False, stepwise=True, trace=True)\n",
    "\n",
    "# Print the summary of the ARIMA model\n",
    "print(arima_model.summary())"
   ]
  },
  {
   "cell_type": "markdown",
   "metadata": {},
   "source": [
    "**Interpretation**:\n",
    "\n",
    "- ARIMA(1,0,0) is the best model with the lowest AIC (-335.836). Other models have higher AIC values. AIC balances model complexity and goodness of fit.\n",
    "- ARIMA(1,0,0) consists of:\n",
    "    - 1 autoregressive term (AR(1)): Indicates that the current value depends on one lagged value.\n",
    "    - 0 differencing (d=0): Data was stationary, so no differencing was needed.\n",
    "    - 0 moving average terms (MA(0)): No short-term shocks needed.\n",
    "- This indicates that the residuals primarily depend on the first lag, without other time-dependent structures.\n",
    "- ar.L1 (0.3548) is the coefficient of the first lag (AR(1)). It quantifies the dependency of residuals on their immediate past values.\n",
    "    - A positive value of 0.3548 means that residuals tend to continue in the same direction as the previous period, but with diminishing strength.\n",
    "    - The p-value (< 0.001) indicates this relationship is statistically significant.\n",
    "- Ljung-Box Test (Q): p-value = 1.00\n",
    "    - Tests for autocorrelation in residuals. A p-value = 1.00 suggests no significant autocorrelation remains, meaning the ARIMA model has successfully captured the time-dependent structure.\n",
    "- Heteroskedasticity (H): p-value = 0.30\n",
    "    - Tests for constant variance in residuals. A p-value = 0.30 suggests no significant heteroskedasticity."
   ]
  },
  {
   "cell_type": "markdown",
   "metadata": {
    "id": "dLMPN7fLLBH9"
   },
   "source": [
    "### 9. Run an ARIMA that follows from Step 8. Interpret that, too."
   ]
  },
  {
   "cell_type": "markdown",
   "metadata": {
    "id": "WU2VAh-IJLAG"
   },
   "source": [
    "From Step 8, we found the residuals to have no significant autocorrelation or heteroskedasticity. Hence, we can run an ARIMA model directly on the dependent variable `MoMInflation`. Step 8 showed ARIMA(1,0,0) model was the best fit for residuals in our OLS model of `MoMInflation` against trend and month dummies. \n",
    "\n",
    "Hence, we shall fix non-seasonal AR, differencing, and MA to (p=1, d=0, q=0) respectively. We also know there are 12 months, so we shall fix seasonal period length to m=12. We fix seasonal order to P=D=Q=1 as well for now and observe if they are significant:"
   ]
  },
  {
   "cell_type": "code",
   "execution_count": 13,
   "metadata": {
    "colab": {
     "base_uri": "https://localhost:8080/"
    },
    "id": "0lkwlXsk4HvA",
    "outputId": "8b0f4621-6a42-420b-9621-7a17a4c4a760"
   },
   "outputs": [
    {
     "name": "stderr",
     "output_type": "stream",
     "text": [
      "C:\\Users\\gideo\\anaconda3\\Lib\\site-packages\\statsmodels\\tsa\\base\\tsa_model.py:473: ValueWarning: No frequency information was provided, so inferred frequency MS will be used.\n",
      "  self._init_dates(dates, freq)\n",
      "C:\\Users\\gideo\\anaconda3\\Lib\\site-packages\\statsmodels\\tsa\\base\\tsa_model.py:473: ValueWarning: No frequency information was provided, so inferred frequency MS will be used.\n",
      "  self._init_dates(dates, freq)\n",
      "C:\\Users\\gideo\\anaconda3\\Lib\\site-packages\\statsmodels\\tsa\\base\\tsa_model.py:473: ValueWarning: No frequency information was provided, so inferred frequency MS will be used.\n",
      "  self._init_dates(dates, freq)\n"
     ]
    },
    {
     "name": "stdout",
     "output_type": "stream",
     "text": [
      "                                     SARIMAX Results                                      \n",
      "==========================================================================================\n",
      "Dep. Variable:                       MoMInflation   No. Observations:                  132\n",
      "Model:             ARIMA(1, 0, 0)x(1, 1, [1], 12)   Log Likelihood                 133.501\n",
      "Date:                            Sat, 07 Dec 2024   AIC                           -259.003\n",
      "Time:                                    01:05:15   BIC                           -247.853\n",
      "Sample:                                01-01-2009   HQIC                          -254.474\n",
      "                                     - 12-01-2019                                         \n",
      "Covariance Type:                              opg                                         \n",
      "==============================================================================\n",
      "                 coef    std err          z      P>|z|      [0.025      0.975]\n",
      "------------------------------------------------------------------------------\n",
      "ar.L1          0.3912      0.086      4.569      0.000       0.223       0.559\n",
      "ar.S.L12      -0.0037      0.149     -0.025      0.980      -0.296       0.288\n",
      "ma.S.L12      -0.7747      0.172     -4.492      0.000      -1.113      -0.437\n",
      "sigma2         0.0058      0.001      7.514      0.000       0.004       0.007\n",
      "===================================================================================\n",
      "Ljung-Box (L1) (Q):                   0.53   Jarque-Bera (JB):                 6.01\n",
      "Prob(Q):                              0.47   Prob(JB):                         0.05\n",
      "Heteroskedasticity (H):               0.75   Skew:                            -0.30\n",
      "Prob(H) (two-sided):                  0.38   Kurtosis:                         3.92\n",
      "===================================================================================\n",
      "\n",
      "Warnings:\n",
      "[1] Covariance matrix calculated using the outer product of gradients (complex-step).\n"
     ]
    }
   ],
   "source": [
    "# Fit SARIMAX with 12 seasonal periods (seasonal_order=(1, 1, 1, 12))\n",
    "sarimax_model = ARIMA(\n",
    "    data['MoMInflation'],\n",
    "    order=(1, 0, 0),  # non-seasonal ARIMA order from Step 8\n",
    "    seasonal_order=(1, 1, 1, 12)  # SARIMA seasonal order (P, D, Q, m)\n",
    ").fit()\n",
    "\n",
    "# Display the summary\n",
    "print(sarimax_model.summary())"
   ]
  },
  {
   "cell_type": "markdown",
   "metadata": {},
   "source": [
    "**Interpretation**:\n",
    "- Non-seasonal AR(1) coefficient (0.3912):\n",
    "    - The coefficient for the first-order autoregressive term is 0.3912, which indicates moderate positive autocorrelation at lag 1. The p-value of 0.000 suggests this parameter is statistically significant.\n",
    "- Seasonal AR(1) coefficient (-0.0037):\n",
    "    - The seasonal autoregressive term at lag 12 is close to zero, with a p-value of 0.980, indicating it is not statistically significant and likely doesn't contribute much to the model.\n",
    "- Seasonal AR(1) coefficient (-0.0037): \n",
    "    - The seasonal autoregressive term at lag 12 is close to zero, with a p-value of 0.980, indicating it is not statistically significant and likely doesn't contribute much to the model.\n",
    "- Seasonal MA(1) coefficient (-0.7747): \n",
    "    - The seasonal moving average term at lag 12 is negative, with a statistically significant p-value of 0.000. This suggests that seasonal shocks have a significant negative impact on the model.\n",
    "    - This makes sense, based on the visual representation of the data where we observe seasonal spikes in MoMInflation during months like December rather than a gradual decaying increase, which would suggest seasonal AR(1) instead.\n",
    " \n",
    "**Model Diagnostics**:\n",
    "\n",
    "- Ljung-Box (Q): The Ljung-Box test statistic is 0.53, with a p-value of 0.47. This suggests that there is no significant autocorrelation remaining in the residuals (i.e., the model has captured all significant dependencies).\n",
    "- Heteroskedasticity (H): The test statistic is 0.75, with a p-value of 0.38, indicating that the residuals do not show significant heteroskedasticity (i.e., variance does not change over time)."
   ]
  }
 ],
 "metadata": {
  "colab": {
   "gpuType": "T4",
   "provenance": []
  },
  "kernelspec": {
   "display_name": "Python 3 (ipykernel)",
   "language": "python",
   "name": "python3"
  },
  "language_info": {
   "codemirror_mode": {
    "name": "ipython",
    "version": 3
   },
   "file_extension": ".py",
   "mimetype": "text/x-python",
   "name": "python",
   "nbconvert_exporter": "python",
   "pygments_lexer": "ipython3",
   "version": "3.12.4"
  }
 },
 "nbformat": 4,
 "nbformat_minor": 4
}
