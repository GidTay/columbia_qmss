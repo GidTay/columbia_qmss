{
 "cells": [
  {
   "cell_type": "markdown",
   "metadata": {
    "id": "b1rmFKvOOwHT"
   },
   "source": [
    "# Lab 1 (QMSS5016 Time Series, Panel Data & Forecasting)\n",
    "**Submitted by**: Gideon Tay\\\n",
    "**My UNI**: gt2528\\\n",
    "**Contact me at**: gideon.tay@columbia.edu"
   ]
  },
  {
   "cell_type": "markdown",
   "metadata": {
    "id": "zR_T4TTtu41i"
   },
   "source": [
    "## Question 2. Conduct an unpooled regression comparison across time-periods. Compare at least two time periods, running regressions on each and comparing coefficients. Explain your results.\n",
    "\n",
    "**Overview**: For this lab, we will explore whether factors like education, gender, race etc. are good predictors of people's political views in terms of the extent to which they identify as liberal or conservative. Moreover, we would compare how the relevance, direction, and magnitude of these predictors differ in two separate time periods: 1980-1990 and 2010-2020."
   ]
  },
  {
   "cell_type": "markdown",
   "metadata": {},
   "source": [
    "### Import all necessary libraries for this lab"
   ]
  },
  {
   "cell_type": "code",
   "execution_count": 1,
   "metadata": {},
   "outputs": [],
   "source": [
    "# Libraries for data analysis\n",
    "import pandas as pd # also used to load in data, but used primarily for analysis\n",
    "import numpy as np\n",
    "import statsmodels.formula.api as smf\n",
    "from scipy.stats import norm\n",
    "\n",
    "# Libraries to load in data\n",
    "import requests\n",
    "import zipfile\n",
    "import io\n",
    "from tqdm.notebook import tqdm"
   ]
  },
  {
   "cell_type": "markdown",
   "metadata": {},
   "source": [
    "### Load in General Social Survey data\n",
    "We load in data for the following columns: 'id', 'age', 'year', 'sex', 'incom16', 'born', 'race', 'educ', 'attend', and 'polviews'. We only load in their numeric labels."
   ]
  },
  {
   "cell_type": "code",
   "execution_count": 2,
   "metadata": {
    "colab": {
     "base_uri": "https://localhost:8080/",
     "height": 439,
     "referenced_widgets": [
      "184be2802da0452f9ff260ea89977cb1",
      "4e68bd8c76fd4059b13a241e61bd6929",
      "e5a7f8fdbc624f5dad9a422add710b04",
      "1a4ab9e7b6cd44dd9e65a04ae1232892",
      "55888845a6754f50b369b93fe5c5beb5",
      "9cba0dc58535429e9a3962eaa3e676be",
      "fcf67a294c6048fd980af14fe8ff2790",
      "b55a521e898e4d9bbc12bedfc83add2c",
      "ba95f7f7cc9945e0bca15135a7b89efe",
      "ae3cec263be0419aa3a89f52ec6cea54",
      "5a93251e2d564f91b209c9ca5a6b24ac"
     ]
    },
    "id": "_2jbN5g_Td94",
    "outputId": "216c0559-7a19-40fb-c466-8f2dda9ad1ae"
   },
   "outputs": [
    {
     "data": {
      "application/vnd.jupyter.widget-view+json": {
       "model_id": "f287e2922aea4a3fb396a68ae24b5125",
       "version_major": 2,
       "version_minor": 0
      },
      "text/plain": [
       "  0%|          | 0.00/81.9M [00:00<?, ?iB/s]"
      ]
     },
     "metadata": {},
     "output_type": "display_data"
    },
    {
     "name": "stdout",
     "output_type": "stream",
     "text": [
      "Download completed!\n",
      "Loading selected columns from Stata file...\n",
      "Data with numeric labels loaded successfully!\n"
     ]
    },
    {
     "data": {
      "text/html": [
       "<div>\n",
       "<style scoped>\n",
       "    .dataframe tbody tr th:only-of-type {\n",
       "        vertical-align: middle;\n",
       "    }\n",
       "\n",
       "    .dataframe tbody tr th {\n",
       "        vertical-align: top;\n",
       "    }\n",
       "\n",
       "    .dataframe thead th {\n",
       "        text-align: right;\n",
       "    }\n",
       "</style>\n",
       "<table border=\"1\" class=\"dataframe\">\n",
       "  <thead>\n",
       "    <tr style=\"text-align: right;\">\n",
       "      <th></th>\n",
       "      <th>id</th>\n",
       "      <th>age</th>\n",
       "      <th>year</th>\n",
       "      <th>sex</th>\n",
       "      <th>incom16</th>\n",
       "      <th>born</th>\n",
       "      <th>race</th>\n",
       "      <th>educ</th>\n",
       "      <th>attend</th>\n",
       "      <th>polviews</th>\n",
       "    </tr>\n",
       "  </thead>\n",
       "  <tbody>\n",
       "    <tr>\n",
       "      <th>0</th>\n",
       "      <td>1</td>\n",
       "      <td>23.0</td>\n",
       "      <td>1972</td>\n",
       "      <td>2.0</td>\n",
       "      <td>3.0</td>\n",
       "      <td>NaN</td>\n",
       "      <td>1.0</td>\n",
       "      <td>16.0</td>\n",
       "      <td>2.0</td>\n",
       "      <td>NaN</td>\n",
       "    </tr>\n",
       "    <tr>\n",
       "      <th>1</th>\n",
       "      <td>2</td>\n",
       "      <td>70.0</td>\n",
       "      <td>1972</td>\n",
       "      <td>1.0</td>\n",
       "      <td>4.0</td>\n",
       "      <td>NaN</td>\n",
       "      <td>1.0</td>\n",
       "      <td>10.0</td>\n",
       "      <td>7.0</td>\n",
       "      <td>NaN</td>\n",
       "    </tr>\n",
       "    <tr>\n",
       "      <th>2</th>\n",
       "      <td>3</td>\n",
       "      <td>48.0</td>\n",
       "      <td>1972</td>\n",
       "      <td>2.0</td>\n",
       "      <td>3.0</td>\n",
       "      <td>NaN</td>\n",
       "      <td>1.0</td>\n",
       "      <td>12.0</td>\n",
       "      <td>4.0</td>\n",
       "      <td>NaN</td>\n",
       "    </tr>\n",
       "    <tr>\n",
       "      <th>3</th>\n",
       "      <td>4</td>\n",
       "      <td>27.0</td>\n",
       "      <td>1972</td>\n",
       "      <td>2.0</td>\n",
       "      <td>3.0</td>\n",
       "      <td>NaN</td>\n",
       "      <td>1.0</td>\n",
       "      <td>17.0</td>\n",
       "      <td>0.0</td>\n",
       "      <td>NaN</td>\n",
       "    </tr>\n",
       "    <tr>\n",
       "      <th>4</th>\n",
       "      <td>5</td>\n",
       "      <td>61.0</td>\n",
       "      <td>1972</td>\n",
       "      <td>2.0</td>\n",
       "      <td>2.0</td>\n",
       "      <td>NaN</td>\n",
       "      <td>1.0</td>\n",
       "      <td>12.0</td>\n",
       "      <td>0.0</td>\n",
       "      <td>NaN</td>\n",
       "    </tr>\n",
       "  </tbody>\n",
       "</table>\n",
       "</div>"
      ],
      "text/plain": [
       "   id   age  year  sex  incom16  born  race  educ  attend  polviews\n",
       "0   1  23.0  1972  2.0      3.0   NaN   1.0  16.0     2.0       NaN\n",
       "1   2  70.0  1972  1.0      4.0   NaN   1.0  10.0     7.0       NaN\n",
       "2   3  48.0  1972  2.0      3.0   NaN   1.0  12.0     4.0       NaN\n",
       "3   4  27.0  1972  2.0      3.0   NaN   1.0  17.0     0.0       NaN\n",
       "4   5  61.0  1972  2.0      2.0   NaN   1.0  12.0     0.0       NaN"
      ]
     },
     "execution_count": 2,
     "metadata": {},
     "output_type": "execute_result"
    }
   ],
   "source": [
    "# Step 1: Download the ZIP file with progress bar\n",
    "url = 'https://gss.norc.org/content/dam/gss/get-the-data/documents/stata/GSS_stata.zip'\n",
    "\n",
    "# Make a streaming request to get the content in chunks\n",
    "response = requests.get(url, stream=True)\n",
    "total_size = int(response.headers.get('content-length', 0))  # Get total file size\n",
    "block_size = 1024  # 1 Kilobyte\n",
    "\n",
    "# Progress bar for downloading\n",
    "tqdm_bar = tqdm(total=total_size, unit='iB', unit_scale=True)\n",
    "content = io.BytesIO()\n",
    "\n",
    "# Download the file in chunks with progress bar\n",
    "for data in response.iter_content(block_size):\n",
    "    tqdm_bar.update(len(data))\n",
    "    content.write(data)\n",
    "\n",
    "tqdm_bar.close()\n",
    "\n",
    "# Check if the download is successful\n",
    "if total_size != 0 and tqdm_bar.n != total_size:\n",
    "    print('Error in downloading the file.')\n",
    "else:\n",
    "    print('Download completed!')\n",
    "\n",
    "# Step 2: Extract the ZIP file in memory and display progress\n",
    "with zipfile.ZipFile(content) as z:\n",
    "    # List all files in the zip\n",
    "    file_list = z.namelist()\n",
    "\n",
    "    # Filter for the .dta file (assuming there is only one)\n",
    "    stata_files = [file for file in file_list if file.endswith('.dta')]\n",
    "\n",
    "    # If there is a Stata file, proceed to extract and read it\n",
    "    if stata_files:\n",
    "        stata_file = stata_files[0]  # Take the first .dta file\n",
    "        with z.open(stata_file) as stata_file_stream:\n",
    "            # Step 3a: Load only the selected columns into a pandas DataFrame with numeric labels\n",
    "            columns_to_load = ['id', 'age', 'year', 'sex', 'incom16', \n",
    "                               'born', 'race', 'educ', 'attend', 'polviews']\n",
    "            print('Loading selected columns from Stata file...')\n",
    "            df_numeric = pd.read_stata(\n",
    "                stata_file_stream, \n",
    "                columns=columns_to_load, \n",
    "                convert_categoricals=False)\n",
    "            print('Data with numeric labels loaded successfully!')\n",
    "\n",
    "# Step 3: Display the first few rows of the final DataFrame\n",
    "df_numeric.head()"
   ]
  },
  {
   "cell_type": "markdown",
   "metadata": {
    "id": "1xpubSVzvBSz"
   },
   "source": [
    "### Clean the data\n",
    "After loading in the data, we have to clean it. We remove rows containing missing values, or non-standard entries such as: \"Inapplicable\" (code: -100), \"No answer\" (code: -99), \"Do not Know/Cannot Choose\" (code: -98), and \"Skipped on Web\" (code: -97). These numeric codes for non-standard entries are consistent across all columns.\n",
    "\n",
    "We also remove rows with \"Lived in institution\" (code: 7) in the \"incom16\" column, as it breaks away from the ordinal pattern of 1 representing \"far below average\" and 5 representing \"far above average\" family income when the respondent was 16."
   ]
  },
  {
   "cell_type": "code",
   "execution_count": 3,
   "metadata": {
    "id": "U7OVWKo0GkWc"
   },
   "outputs": [],
   "source": [
    "# Produce a copy of the dataframe for cleaning and analysis\n",
    "df = df_numeric.copy()\n",
    "\n",
    "# Define the non-standard codes to be treated as missing values\n",
    "non_standard_codes = [-100, -99, -98, -97]\n",
    "\n",
    "# Replace the non-standard codes with NaN\n",
    "df.replace(non_standard_codes, np.nan, inplace=True)\n",
    "\n",
    "# Drop missing values\n",
    "df.dropna(inplace=True)\n",
    "\n",
    "# Remove rows with '7' (Lived in institution) in the incom16 column.\n",
    "df = df[df['incom16'] != 7]"
   ]
  },
  {
   "cell_type": "markdown",
   "metadata": {},
   "source": [
    "### Recode the data\n",
    "Next, we recode the data so a meaningful regression can be conducted on it. For example, it makes no sense for male = 1 and female = 2 as with the current 'sex' column. Instead, we recode it to a dummy variable where male = 1 and female = 0. We similarly produce dummy variables for race and birth origin (born in or outside of the U.S.)"
   ]
  },
  {
   "cell_type": "code",
   "execution_count": 4,
   "metadata": {},
   "outputs": [],
   "source": [
    "# Create a dummy variable for 'Male' where 1 = Male, 0 = Female\n",
    "df['male_dummy'] = df['sex'].apply(lambda x: 1 if x == 1 else 0)\n",
    "\n",
    "# Create a dummy variable where 1 = Born in US, 0 = Not born in US\n",
    "df['born_dummy'] = df['born'].apply(lambda x: 1 if x == 1 else 0)\n",
    "\n",
    "# Create dummy variables for 'black' and 'other' where white is the base category\n",
    "# Note that numeric codes are 1 for white, 2 for black, and 3 for other\n",
    "df['black_dummy'] = df['race'].apply(lambda x: 1 if x == 2 else 0)\n",
    "df['other_dummy'] = df['race'].apply(lambda x: 1 if x == 3 else 0)"
   ]
  },
  {
   "cell_type": "markdown",
   "metadata": {
    "id": "0P1AkuFPGqWG"
   },
   "source": [
    "### Explaining each variable we picked\n",
    "Before we begin analysis, here is an explanation of each variable of interest after recoding. Note that numbers in paranthesis indicate the numerical code of a corresponding response. The dependent variable we are interest in is \"polviews\" while the other variables would be tested as potential predictors of \"polviews\".\n",
    "\n",
    "- **age**: respondent's age in years from 18 to 89 years or older. Numerical code values range from 18 to 89.\n",
    "- **year**: year of the GSS survey.\n",
    "- **male_dummy**: respondent is male (1) or female (0).\n",
    "- **born_dummy**: respondent is born in this country (1) or not born in this country (0).\n",
    "- **black_dummy**: respondent is black (1) or not black (0).\n",
    "- **other_dummy**: respondent is neither white nor black (1) or respondent is white or black (0).\n",
    "- **incom16**: Thinking about the time when you were 16 years old, compared with American families in general then, would you say your family income was-- far below average (1), below average (2), average (3), above average (4), or far above average (5)?\n",
    "- **educ**: highest year of school that the respondent finished and got credit for. Responses range from no formal schooling (0) to 8 or more years of college (20).\n",
    "- **attend**: How often do you attend religious services? Responses range from never (0) to several times a week (8).\n",
    "- **polviews**: We hear a lot of talk these days about liberals and conservatives. I'm going to show you a seven-point scale on which the political views that people might hold are arranged from extremely liberal (1) to extremely conservative (7). Where would you place yourself on this scale?"
   ]
  },
  {
   "cell_type": "markdown",
   "metadata": {},
   "source": [
    "### Run a regression for the first time period: 1980-1990\n",
    "**Why this time period**: We chose this time period since GSS collected data for our variables of interest for this time period. Note that some of our variables only had data starting 1974 as the question was not included in earlier GSS surveys. Hence, studying the 1970 to 1980 period for example would be suboptimal as there would be significant missing data. We thus chose the next earliest decade of 1980-1990."
   ]
  },
  {
   "cell_type": "code",
   "execution_count": 5,
   "metadata": {
    "colab": {
     "base_uri": "https://localhost:8080/"
    },
    "id": "wCZc93rCGtKM",
    "outputId": "39c39a92-fe6c-41d5-d3d5-d80d9e7e9f99"
   },
   "outputs": [
    {
     "name": "stdout",
     "output_type": "stream",
     "text": [
      "                            OLS Regression Results                            \n",
      "==============================================================================\n",
      "Dep. Variable:               polviews   R-squared:                       0.045\n",
      "Model:                            OLS   Adj. R-squared:                  0.044\n",
      "Method:                 Least Squares   F-statistic:                     72.31\n",
      "Date:                Tue, 01 Oct 2024   Prob (F-statistic):          3.83e-131\n",
      "Time:                        13:22:26   Log-Likelihood:                -23176.\n",
      "No. Observations:               13789   AIC:                         4.637e+04\n",
      "Df Residuals:                   13779   BIC:                         4.645e+04\n",
      "Df Model:                           9                                         \n",
      "Covariance Type:            nonrobust                                         \n",
      "===============================================================================\n",
      "                  coef    std err          t      P>|t|      [0.025      0.975]\n",
      "-------------------------------------------------------------------------------\n",
      "Intercept       8.6151      7.285      1.183      0.237      -5.665      22.895\n",
      "age             0.0059      0.001      8.766      0.000       0.005       0.007\n",
      "year           -0.0025      0.004     -0.684      0.494      -0.010       0.005\n",
      "male_dummy      0.1248      0.023      5.528      0.000       0.081       0.169\n",
      "born_dummy      0.1110      0.048      2.299      0.022       0.016       0.206\n",
      "black_dummy    -0.4500      0.032    -13.864      0.000      -0.514      -0.386\n",
      "other_dummy    -0.1062      0.072     -1.479      0.139      -0.247       0.035\n",
      "incom16         0.0100      0.014      0.734      0.463      -0.017       0.037\n",
      "educ           -0.0153      0.004     -3.885      0.000      -0.023      -0.008\n",
      "attend          0.0719      0.004     16.731      0.000       0.063       0.080\n",
      "==============================================================================\n",
      "Omnibus:                       33.803   Durbin-Watson:                   1.945\n",
      "Prob(Omnibus):                  0.000   Jarque-Bera (JB):               28.749\n",
      "Skew:                          -0.052   Prob(JB):                     5.72e-07\n",
      "Kurtosis:                       2.802   Cond. No.                     1.31e+06\n",
      "==============================================================================\n",
      "\n",
      "Notes:\n",
      "[1] Standard Errors assume that the covariance matrix of the errors is correctly specified.\n",
      "[2] The condition number is large, 1.31e+06. This might indicate that there are\n",
      "strong multicollinearity or other numerical problems.\n"
     ]
    }
   ],
   "source": [
    "# Running the first regression for the 1980-1990 period\n",
    "polviews80 = smf.ols('polviews ~ age + year + male_dummy + born_dummy + '\n",
    "                     'black_dummy + other_dummy + incom16 + educ + attend', \n",
    "                     data=df.query('year >= 1980 & year <= 1990')).fit()\n",
    "\n",
    "# Print the summary of the model\n",
    "print(polviews80.summary())"
   ]
  },
  {
   "cell_type": "markdown",
   "metadata": {},
   "source": [
    "**Analysis of results**:\n",
    "Most variables appear to be statistically significant (p < 0.05) predictors of political views, holding the other variables constant. Collectively, the predictors explain about 4.5% of the variance in political views (R<sup>2</sup> = 0.045).\n",
    "\n",
    "In particular, people who are older, male (compared to females), born in the country, and who attend religious services often tend to be more conservative (positive coefficients). Meanwhile, people who are black (compared to whites) and who have completed more years of education tend to be more liberal (negative coefficients).\n",
    "\n",
    "However, 3 variables 'year', 'other_dummy' and 'incom16' are not statistically significant predictors:\n",
    "\n",
    "- **year**: This makes it seem like there is no clear unidirectional movement in political views toward being more liberal or conservative over the 1980-1990 period. However, since the question is phrased in a relative sense on how a respondent views his extent of conservativeness/ liberalness to other people in society, it is perfectly possible that society has collectively become more conservative or liberal over the time period, but each person's perception of their relative conservativeness/ liberalness have not changed on average over the years. Hence, this must be interpreted with caution.\n",
    "- **other_dummy**: since 'white' is the omitted category for the race dummy variables, this suggests that the 'other' race group (non-black and non-white) is not systematically more conservative or liberal compared to whites. However, this does not preclude the possibility of variation within the 'other' race group (e.g. hypothetically if asian americans are more conservative and hispanics are more liberal, compared to whites, and the effects cancel out so there is no net effect).\n",
    "- **incom16**: this variable is a good proxy for the socio-economic background of respondents' upbringing. I initially hypothesized that those who grew up in poorer backgrounds would tend to be more liberal as they would more likely be in favour of greater government support to the less fortunate and a stronger social net funded by higher taxes at higher income brackets. However, this hypothesis appears to be incorrect for this time period. "
   ]
  },
  {
   "cell_type": "markdown",
   "metadata": {
    "id": "Ljl_ZVovGvZc"
   },
   "source": [
    "### Run a regression for the second time period: 2010-2020\n",
    "**Why this time period**: Again, we chose this time period to maximise data availability across our variables of interest. Variable incom16's data was not collected in the 2000 GSS survey, so studying the 2000-2010 would lead to significant missing data, and we would only have been able to study 2002-2010. We thus studied 2010-2020."
   ]
  },
  {
   "cell_type": "code",
   "execution_count": 6,
   "metadata": {
    "colab": {
     "base_uri": "https://localhost:8080/"
    },
    "id": "BdgxNDRzGz9d",
    "outputId": "f9261cc8-25e7-4c4e-cff3-a2a762992226"
   },
   "outputs": [
    {
     "name": "stdout",
     "output_type": "stream",
     "text": [
      "                            OLS Regression Results                            \n",
      "==============================================================================\n",
      "Dep. Variable:               polviews   R-squared:                       0.093\n",
      "Model:                            OLS   Adj. R-squared:                  0.092\n",
      "Method:                 Least Squares   F-statistic:                     125.7\n",
      "Date:                Tue, 01 Oct 2024   Prob (F-statistic):          4.44e-226\n",
      "Time:                        13:22:26   Log-Likelihood:                -19367.\n",
      "No. Observations:               11038   AIC:                         3.875e+04\n",
      "Df Residuals:                   11028   BIC:                         3.883e+04\n",
      "Df Model:                           9                                         \n",
      "Covariance Type:            nonrobust                                         \n",
      "===============================================================================\n",
      "                  coef    std err          t      P>|t|      [0.025      0.975]\n",
      "-------------------------------------------------------------------------------\n",
      "Intercept      -2.7144      9.789     -0.277      0.782     -21.904      16.475\n",
      "age             0.0041      0.001      5.159      0.000       0.003       0.006\n",
      "year            0.0033      0.005      0.687      0.492      -0.006       0.013\n",
      "male_dummy      0.1743      0.027      6.464      0.000       0.121       0.227\n",
      "born_dummy      0.1717      0.044      3.867      0.000       0.085       0.259\n",
      "black_dummy    -0.4641      0.038    -12.181      0.000      -0.539      -0.389\n",
      "other_dummy    -0.2663      0.050     -5.291      0.000      -0.365      -0.168\n",
      "incom16         0.0040      0.015      0.266      0.790      -0.025       0.033\n",
      "educ           -0.0538      0.005    -11.619      0.000      -0.063      -0.045\n",
      "attend          0.1360      0.005     27.777      0.000       0.126       0.146\n",
      "==============================================================================\n",
      "Omnibus:                       87.020   Durbin-Watson:                   1.933\n",
      "Prob(Omnibus):                  0.000   Jarque-Bera (JB):               70.000\n",
      "Skew:                          -0.121   Prob(JB):                     6.30e-16\n",
      "Kurtosis:                       2.694   Cond. No.                     1.48e+06\n",
      "==============================================================================\n",
      "\n",
      "Notes:\n",
      "[1] Standard Errors assume that the covariance matrix of the errors is correctly specified.\n",
      "[2] The condition number is large, 1.48e+06. This might indicate that there are\n",
      "strong multicollinearity or other numerical problems.\n"
     ]
    }
   ],
   "source": [
    "# Running the first regression for the 2000-2010 period\n",
    "polviews10 = smf.ols('polviews ~ age + year + male_dummy + born_dummy + '\n",
    "                     'black_dummy + other_dummy + incom16 + educ + attend', \n",
    "                     data=df.query('year >= 2010 & year <= 2020')).fit()\n",
    "\n",
    "# Print the summary of the model\n",
    "print(polviews10.summary())"
   ]
  },
  {
   "cell_type": "markdown",
   "metadata": {},
   "source": [
    "**Analysis of results**:\n",
    "Again, most variables appear to be statistically significant (p < 0.05) predictors of political views, holding the other variables constant. This time, the predictors explain about 9.3% of the variance in political views (R<sup>2</sup> = 0.093), much higher compared to the 1980-1990 period.\n",
    "\n",
    "As with the previous regression, people who are older, male (compared to females), born in the country, and who attend religious services still tend to be more conservative (positive coefficients). Meanwhile, people who are black or another race (compared to whites) and who have completed more years of education tend to be more liberal (negative coefficients).\n",
    "\n",
    "As with the previous regression, 'year' and 'incom16' are not statistically significant predictors of political views. However, for the 2010-2020 regression, 'other_dummy' is now statistically signficant, whearas it was not significant in the 1980-1990 regression.\n",
    "\n",
    "Let us interpret some of the coefficients below:\n",
    "\n",
    "- **age**: a respondent who is a year older is on average 0.0041 points more conservative on the 7-point political view scale, compared to a resondent who is one year younger, all other variables held constant.\n",
    "- **male_dummy**: a male respondent is on average 0.1743 points more conservative on the 7-point political view scale, compared to a female respondent, all other variables held constant.\n",
    "- **born_dummy**: a respondent who is born in the country is on average 0.1717 points more conservative on the 7-point political view scale, compared to a respondent who is born outside the country, all other variables held constant.\n",
    "- **black_dummy**: a black respondent is on average 0.4641 points less conservative on the 7-point political view scale, compared to a white respondent, all other variables held constant.\n",
    "- **other_dummy**: a non-white and non-black respondent is on average 0.2663 points less conservative on the 7-point political view scale, compared to a white respondent, all other variables held constant"
   ]
  },
  {
   "cell_type": "markdown",
   "metadata": {
    "id": "qyAhGCFUG2Vl"
   },
   "source": [
    "### Compare coefficients between the 2 time periods\n",
    "We create a comparison table of 1980-1990 and 2010-2020 coefficients. We also calculate a Z-score and p-value to test if the coefficients for each variable differs between the 2 periods in a statistically significant manner."
   ]
  },
  {
   "cell_type": "code",
   "execution_count": 7,
   "metadata": {
    "colab": {
     "base_uri": "https://localhost:8080/"
    },
    "id": "VK2xmQvdvTKz",
    "outputId": "c3c04e14-ae6d-4f04-fe4a-42b562b62f22"
   },
   "outputs": [
    {
     "name": "stdout",
     "output_type": "stream",
     "text": [
      "         index    coef80    coef10         Z  pvalue\n",
      "0    Intercept  8.615129 -2.714366  0.928439  0.3532\n",
      "1          age  0.005890  0.004052  1.777721  0.0754\n",
      "2         year -0.002513  0.003339 -0.960568  0.3368\n",
      "3   male_dummy  0.124839  0.174263 -1.405372  0.1599\n",
      "4   born_dummy  0.110987  0.171661 -0.925116  0.3549\n",
      "5  black_dummy -0.449995 -0.464108  0.281974  0.7780\n",
      "6  other_dummy -0.106202 -0.266293  1.825516  0.0679\n",
      "7      incom16  0.009959  0.003963  0.297623  0.7660\n",
      "8         educ -0.015252 -0.053795  6.349855  0.0000\n",
      "9       attend  0.071862  0.135980 -9.845164  0.0000\n"
     ]
    }
   ],
   "source": [
    "# Extracting the coefficients and std. errors and renaming columns\n",
    "p80 = (\n",
    "    polviews80.summary2() # provides a detailed summary of polviews80 regression\n",
    "    .tables[1] # table of coefficients, std errors etc. vs table[0] with R^2 etc.\n",
    "    .reset_index()\n",
    "    .rename(columns={ # rename so we can distinguish between regressions later\n",
    "        'Coef.': 'coef80', \n",
    "        'Std.Err.': 'se80'\n",
    "    }))\n",
    "p10 = (\n",
    "    polviews10.summary2()\n",
    "    .tables[1]\n",
    "    .reset_index()\n",
    "    .rename(columns={\n",
    "        'Coef.': 'coef10', \n",
    "        'Std.Err.': 'se10'\n",
    "    }))\n",
    "\n",
    "# Merge the two regression results by on the index column (variable name)\n",
    "df_merged = pd.merge(\n",
    "    p80[['index', 'coef80', 'se80']], \n",
    "    p10[['index', 'coef10', 'se10']], \n",
    "    on='index')\n",
    "\n",
    "# Apply the Z formula to compare coefficients\n",
    "df_merged['b1minusb2'] = df_merged['coef80'] - df_merged['coef10']\n",
    "df_merged['denom'] = (df_merged['se80']**2 + df_merged['se10']**2)**0.5\n",
    "df_merged['Z'] = df_merged['b1minusb2'] / df_merged['denom']\n",
    "\n",
    "# Calculate p-values and set them to 4 decimal places\n",
    "df_merged['pvalue'] = 2 * (1 - norm.cdf(abs(df_merged['Z'])))\n",
    "df_merged['pvalue'] = df_merged['pvalue'].apply(lambda x: f\"{x:.4f}\")\n",
    "\n",
    "\n",
    "# Selecting the relevant columns\n",
    "df_compare = df_merged[['index', 'coef80', 'coef10', 'Z', 'pvalue']]\n",
    "\n",
    "# Display the result\n",
    "print(df_compare)"
   ]
  },
  {
   "cell_type": "markdown",
   "metadata": {
    "id": "anISo5YB7zlD"
   },
   "source": [
    "**Analysis of results**:\n",
    "Most variables appear to have essentially the same effect in the 1980-1990 and the 2010-2020 period as observed by the large p-values (p > 0.05). Whilst the magnitude of some coefficients have changed, and in the case of 'year', even changed directions (from negative to positive), the changes are mostly not statistically signficant.\n",
    "\n",
    "Only the effect of two variables appear to have changed significantly: 'educ' and 'attend' (p < 0.0001).\n",
    "\n",
    "- The magnitude of the effect of education on political views have increased by about 3.5 times while that of religious service attendance have increased by about 1.9 times.\n",
    "- The direction of the effects in both cases have been maintained: more educated people tend to be more liberal while people who attend religious services more often tend to be more conservative.\n",
    "\n",
    "This suggests that political views in the U.S. have become increasingly split on education and religious lines. This could explain the increase in R<sup>2</sup> from 0.045 to 0.093 between the two time periods, as 'educ' and 'attend' become stronger predictors and explain more of the variance in political views in 2010-2020 compared to 1980-1990.\n",
    "\n",
    "At the same time, age, gender, whether one was born in the country, and race continue to predict political views in a similar manner, even 30 years later. "
   ]
  }
 ],
 "metadata": {
  "colab": {
   "provenance": []
  },
  "kernelspec": {
   "display_name": "Python 3 (ipykernel)",
   "language": "python",
   "name": "python3"
  },
  "language_info": {
   "codemirror_mode": {
    "name": "ipython",
    "version": 3
   },
   "file_extension": ".py",
   "mimetype": "text/x-python",
   "name": "python",
   "nbconvert_exporter": "python",
   "pygments_lexer": "ipython3",
   "version": "3.12.4"
  },
  "widgets": {
   "application/vnd.jupyter.widget-state+json": {
    "184be2802da0452f9ff260ea89977cb1": {
     "model_module": "@jupyter-widgets/controls",
     "model_module_version": "1.5.0",
     "model_name": "HBoxModel",
     "state": {
      "_dom_classes": [],
      "_model_module": "@jupyter-widgets/controls",
      "_model_module_version": "1.5.0",
      "_model_name": "HBoxModel",
      "_view_count": null,
      "_view_module": "@jupyter-widgets/controls",
      "_view_module_version": "1.5.0",
      "_view_name": "HBoxView",
      "box_style": "",
      "children": [
       "IPY_MODEL_4e68bd8c76fd4059b13a241e61bd6929",
       "IPY_MODEL_e5a7f8fdbc624f5dad9a422add710b04",
       "IPY_MODEL_1a4ab9e7b6cd44dd9e65a04ae1232892"
      ],
      "layout": "IPY_MODEL_55888845a6754f50b369b93fe5c5beb5"
     }
    },
    "1a4ab9e7b6cd44dd9e65a04ae1232892": {
     "model_module": "@jupyter-widgets/controls",
     "model_module_version": "1.5.0",
     "model_name": "HTMLModel",
     "state": {
      "_dom_classes": [],
      "_model_module": "@jupyter-widgets/controls",
      "_model_module_version": "1.5.0",
      "_model_name": "HTMLModel",
      "_view_count": null,
      "_view_module": "@jupyter-widgets/controls",
      "_view_module_version": "1.5.0",
      "_view_name": "HTMLView",
      "description": "",
      "description_tooltip": null,
      "layout": "IPY_MODEL_ae3cec263be0419aa3a89f52ec6cea54",
      "placeholder": "​",
      "style": "IPY_MODEL_5a93251e2d564f91b209c9ca5a6b24ac",
      "value": " 81.9M/81.9M [00:01&lt;00:00, 45.3MiB/s]"
     }
    },
    "4e68bd8c76fd4059b13a241e61bd6929": {
     "model_module": "@jupyter-widgets/controls",
     "model_module_version": "1.5.0",
     "model_name": "HTMLModel",
     "state": {
      "_dom_classes": [],
      "_model_module": "@jupyter-widgets/controls",
      "_model_module_version": "1.5.0",
      "_model_name": "HTMLModel",
      "_view_count": null,
      "_view_module": "@jupyter-widgets/controls",
      "_view_module_version": "1.5.0",
      "_view_name": "HTMLView",
      "description": "",
      "description_tooltip": null,
      "layout": "IPY_MODEL_9cba0dc58535429e9a3962eaa3e676be",
      "placeholder": "​",
      "style": "IPY_MODEL_fcf67a294c6048fd980af14fe8ff2790",
      "value": "100%"
     }
    },
    "55888845a6754f50b369b93fe5c5beb5": {
     "model_module": "@jupyter-widgets/base",
     "model_module_version": "1.2.0",
     "model_name": "LayoutModel",
     "state": {
      "_model_module": "@jupyter-widgets/base",
      "_model_module_version": "1.2.0",
      "_model_name": "LayoutModel",
      "_view_count": null,
      "_view_module": "@jupyter-widgets/base",
      "_view_module_version": "1.2.0",
      "_view_name": "LayoutView",
      "align_content": null,
      "align_items": null,
      "align_self": null,
      "border": null,
      "bottom": null,
      "display": null,
      "flex": null,
      "flex_flow": null,
      "grid_area": null,
      "grid_auto_columns": null,
      "grid_auto_flow": null,
      "grid_auto_rows": null,
      "grid_column": null,
      "grid_gap": null,
      "grid_row": null,
      "grid_template_areas": null,
      "grid_template_columns": null,
      "grid_template_rows": null,
      "height": null,
      "justify_content": null,
      "justify_items": null,
      "left": null,
      "margin": null,
      "max_height": null,
      "max_width": null,
      "min_height": null,
      "min_width": null,
      "object_fit": null,
      "object_position": null,
      "order": null,
      "overflow": null,
      "overflow_x": null,
      "overflow_y": null,
      "padding": null,
      "right": null,
      "top": null,
      "visibility": null,
      "width": null
     }
    },
    "5a93251e2d564f91b209c9ca5a6b24ac": {
     "model_module": "@jupyter-widgets/controls",
     "model_module_version": "1.5.0",
     "model_name": "DescriptionStyleModel",
     "state": {
      "_model_module": "@jupyter-widgets/controls",
      "_model_module_version": "1.5.0",
      "_model_name": "DescriptionStyleModel",
      "_view_count": null,
      "_view_module": "@jupyter-widgets/base",
      "_view_module_version": "1.2.0",
      "_view_name": "StyleView",
      "description_width": ""
     }
    },
    "9cba0dc58535429e9a3962eaa3e676be": {
     "model_module": "@jupyter-widgets/base",
     "model_module_version": "1.2.0",
     "model_name": "LayoutModel",
     "state": {
      "_model_module": "@jupyter-widgets/base",
      "_model_module_version": "1.2.0",
      "_model_name": "LayoutModel",
      "_view_count": null,
      "_view_module": "@jupyter-widgets/base",
      "_view_module_version": "1.2.0",
      "_view_name": "LayoutView",
      "align_content": null,
      "align_items": null,
      "align_self": null,
      "border": null,
      "bottom": null,
      "display": null,
      "flex": null,
      "flex_flow": null,
      "grid_area": null,
      "grid_auto_columns": null,
      "grid_auto_flow": null,
      "grid_auto_rows": null,
      "grid_column": null,
      "grid_gap": null,
      "grid_row": null,
      "grid_template_areas": null,
      "grid_template_columns": null,
      "grid_template_rows": null,
      "height": null,
      "justify_content": null,
      "justify_items": null,
      "left": null,
      "margin": null,
      "max_height": null,
      "max_width": null,
      "min_height": null,
      "min_width": null,
      "object_fit": null,
      "object_position": null,
      "order": null,
      "overflow": null,
      "overflow_x": null,
      "overflow_y": null,
      "padding": null,
      "right": null,
      "top": null,
      "visibility": null,
      "width": null
     }
    },
    "ae3cec263be0419aa3a89f52ec6cea54": {
     "model_module": "@jupyter-widgets/base",
     "model_module_version": "1.2.0",
     "model_name": "LayoutModel",
     "state": {
      "_model_module": "@jupyter-widgets/base",
      "_model_module_version": "1.2.0",
      "_model_name": "LayoutModel",
      "_view_count": null,
      "_view_module": "@jupyter-widgets/base",
      "_view_module_version": "1.2.0",
      "_view_name": "LayoutView",
      "align_content": null,
      "align_items": null,
      "align_self": null,
      "border": null,
      "bottom": null,
      "display": null,
      "flex": null,
      "flex_flow": null,
      "grid_area": null,
      "grid_auto_columns": null,
      "grid_auto_flow": null,
      "grid_auto_rows": null,
      "grid_column": null,
      "grid_gap": null,
      "grid_row": null,
      "grid_template_areas": null,
      "grid_template_columns": null,
      "grid_template_rows": null,
      "height": null,
      "justify_content": null,
      "justify_items": null,
      "left": null,
      "margin": null,
      "max_height": null,
      "max_width": null,
      "min_height": null,
      "min_width": null,
      "object_fit": null,
      "object_position": null,
      "order": null,
      "overflow": null,
      "overflow_x": null,
      "overflow_y": null,
      "padding": null,
      "right": null,
      "top": null,
      "visibility": null,
      "width": null
     }
    },
    "b55a521e898e4d9bbc12bedfc83add2c": {
     "model_module": "@jupyter-widgets/base",
     "model_module_version": "1.2.0",
     "model_name": "LayoutModel",
     "state": {
      "_model_module": "@jupyter-widgets/base",
      "_model_module_version": "1.2.0",
      "_model_name": "LayoutModel",
      "_view_count": null,
      "_view_module": "@jupyter-widgets/base",
      "_view_module_version": "1.2.0",
      "_view_name": "LayoutView",
      "align_content": null,
      "align_items": null,
      "align_self": null,
      "border": null,
      "bottom": null,
      "display": null,
      "flex": null,
      "flex_flow": null,
      "grid_area": null,
      "grid_auto_columns": null,
      "grid_auto_flow": null,
      "grid_auto_rows": null,
      "grid_column": null,
      "grid_gap": null,
      "grid_row": null,
      "grid_template_areas": null,
      "grid_template_columns": null,
      "grid_template_rows": null,
      "height": null,
      "justify_content": null,
      "justify_items": null,
      "left": null,
      "margin": null,
      "max_height": null,
      "max_width": null,
      "min_height": null,
      "min_width": null,
      "object_fit": null,
      "object_position": null,
      "order": null,
      "overflow": null,
      "overflow_x": null,
      "overflow_y": null,
      "padding": null,
      "right": null,
      "top": null,
      "visibility": null,
      "width": null
     }
    },
    "ba95f7f7cc9945e0bca15135a7b89efe": {
     "model_module": "@jupyter-widgets/controls",
     "model_module_version": "1.5.0",
     "model_name": "ProgressStyleModel",
     "state": {
      "_model_module": "@jupyter-widgets/controls",
      "_model_module_version": "1.5.0",
      "_model_name": "ProgressStyleModel",
      "_view_count": null,
      "_view_module": "@jupyter-widgets/base",
      "_view_module_version": "1.2.0",
      "_view_name": "StyleView",
      "bar_color": null,
      "description_width": ""
     }
    },
    "e5a7f8fdbc624f5dad9a422add710b04": {
     "model_module": "@jupyter-widgets/controls",
     "model_module_version": "1.5.0",
     "model_name": "FloatProgressModel",
     "state": {
      "_dom_classes": [],
      "_model_module": "@jupyter-widgets/controls",
      "_model_module_version": "1.5.0",
      "_model_name": "FloatProgressModel",
      "_view_count": null,
      "_view_module": "@jupyter-widgets/controls",
      "_view_module_version": "1.5.0",
      "_view_name": "ProgressView",
      "bar_style": "success",
      "description": "",
      "description_tooltip": null,
      "layout": "IPY_MODEL_b55a521e898e4d9bbc12bedfc83add2c",
      "max": 81894355,
      "min": 0,
      "orientation": "horizontal",
      "style": "IPY_MODEL_ba95f7f7cc9945e0bca15135a7b89efe",
      "value": 81894355
     }
    },
    "fcf67a294c6048fd980af14fe8ff2790": {
     "model_module": "@jupyter-widgets/controls",
     "model_module_version": "1.5.0",
     "model_name": "DescriptionStyleModel",
     "state": {
      "_model_module": "@jupyter-widgets/controls",
      "_model_module_version": "1.5.0",
      "_model_name": "DescriptionStyleModel",
      "_view_count": null,
      "_view_module": "@jupyter-widgets/base",
      "_view_module_version": "1.2.0",
      "_view_name": "StyleView",
      "description_width": ""
     }
    }
   }
  }
 },
 "nbformat": 4,
 "nbformat_minor": 4
}
