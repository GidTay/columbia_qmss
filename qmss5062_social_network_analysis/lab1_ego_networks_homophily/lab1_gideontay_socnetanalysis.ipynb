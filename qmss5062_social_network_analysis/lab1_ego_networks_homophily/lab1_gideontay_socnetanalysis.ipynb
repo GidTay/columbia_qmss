{
  "cells": [
    {
      "cell_type": "markdown",
      "metadata": {
        "id": "b1rmFKvOOwHT"
      },
      "source": [
        "# Lab 1 (QMSS5062 Social network analysis)\n",
        "**Submitted by**: Gideon Tay\\\n",
        "**My UNI**: gt2528\n",
        "\n",
        "**Overview**: In this lab, we will explore how racial diversity and homophily in a person's social network may be associated with their attitudes on laws against inter-racial marriages."
      ]
    },
    {
      "cell_type": "markdown",
      "metadata": {},
      "source": [
        "### Import all necessary libraries for this lab"
      ]
    },
    {
      "cell_type": "code",
      "execution_count": 1,
      "metadata": {},
      "outputs": [],
      "source": [
        "# Libraries for data analysis\n",
        "import pandas as pd # also used to load data but primarily used in analysis\n",
        "import numpy as np\n",
        "import statsmodels.formula.api as smf\n",
        "import statsmodels.api as sm\n",
        "import matplotlib.pyplot as plt\n",
        "\n",
        "# Libraries to load in data\n",
        "import requests\n",
        "import zipfile\n",
        "import io\n",
        "from tqdm.notebook import tqdm"
      ]
    },
    {
      "cell_type": "markdown",
      "metadata": {},
      "source": [
        "### Load in General Social Survey (GSS) data\n",
        "\n",
        "We load in data for the following variables: 'id', 'racmar', 'year', 'race', 'race1','race2', 'race3', 'race4', 'race5', 'raclive', 'age', 'educ', 'polviews'. We only loaded the numeric labels for these variables. Information on these variables would be provided later. You may view the [GSS codebook here](https://study.sagepub.com/system/files/gss_codebook.pdf)."
      ]
    },
    {
      "cell_type": "code",
      "execution_count": 2,
      "metadata": {
        "colab": {
          "base_uri": "https://localhost:8080/",
          "height": 458,
          "referenced_widgets": [
            "210baced4df146fab7c0186d2efcac52",
            "ea66bdb0f0964180a405b764f6dfd46e",
            "4070fae1abdd4fe38c05959f1b6d6e9e",
            "8cc33b244b74479a8dfefc13e9d027b2",
            "2852f4958af94511a39c47edee243278",
            "32293f89f2be426295ac9072b370d249",
            "5683545d41184b91b542e1b2353b88ed",
            "805232e5e2a4434688273f0e1c89adff",
            "55b4982b21884f5f97023ef0919937a8",
            "3f009354117247e39e379f228f7d5f7a",
            "52f6a85c60e54547a9b352906b694ab0"
          ]
        },
        "id": "agzFSIScVtet",
        "outputId": "15b7e4d8-8c52-47c5-da92-3b98fe321c45"
      },
      "outputs": [
        {
          "data": {
            "application/vnd.jupyter.widget-view+json": {
              "model_id": "f057a43b66b744ea8f4adc6a42988fb2",
              "version_major": 2,
              "version_minor": 0
            },
            "text/plain": [
              "  0%|          | 0.00/42.0M [00:00<?, ?iB/s]"
            ]
          },
          "metadata": {},
          "output_type": "display_data"
        },
        {
          "name": "stdout",
          "output_type": "stream",
          "text": [
            "Download completed!\n",
            "Data loaded successfully!\n"
          ]
        },
        {
          "data": {
            "text/html": [
              "<div>\n",
              "<style scoped>\n",
              "    .dataframe tbody tr th:only-of-type {\n",
              "        vertical-align: middle;\n",
              "    }\n",
              "\n",
              "    .dataframe tbody tr th {\n",
              "        vertical-align: top;\n",
              "    }\n",
              "\n",
              "    .dataframe thead th {\n",
              "        text-align: right;\n",
              "    }\n",
              "</style>\n",
              "<table border=\"1\" class=\"dataframe\">\n",
              "  <thead>\n",
              "    <tr style=\"text-align: right;\">\n",
              "      <th></th>\n",
              "      <th>id</th>\n",
              "      <th>racmar</th>\n",
              "      <th>year</th>\n",
              "      <th>race</th>\n",
              "      <th>race1</th>\n",
              "      <th>race2</th>\n",
              "      <th>race3</th>\n",
              "      <th>race4</th>\n",
              "      <th>race5</th>\n",
              "      <th>raclive</th>\n",
              "      <th>age</th>\n",
              "      <th>educ</th>\n",
              "      <th>polviews</th>\n",
              "    </tr>\n",
              "  </thead>\n",
              "  <tbody>\n",
              "    <tr>\n",
              "      <th>0</th>\n",
              "      <td>1</td>\n",
              "      <td>2.0</td>\n",
              "      <td>1972</td>\n",
              "      <td>1.0</td>\n",
              "      <td>NaN</td>\n",
              "      <td>NaN</td>\n",
              "      <td>NaN</td>\n",
              "      <td>NaN</td>\n",
              "      <td>NaN</td>\n",
              "      <td>1.0</td>\n",
              "      <td>23.0</td>\n",
              "      <td>16.0</td>\n",
              "      <td>NaN</td>\n",
              "    </tr>\n",
              "    <tr>\n",
              "      <th>1</th>\n",
              "      <td>2</td>\n",
              "      <td>1.0</td>\n",
              "      <td>1972</td>\n",
              "      <td>1.0</td>\n",
              "      <td>NaN</td>\n",
              "      <td>NaN</td>\n",
              "      <td>NaN</td>\n",
              "      <td>NaN</td>\n",
              "      <td>NaN</td>\n",
              "      <td>1.0</td>\n",
              "      <td>70.0</td>\n",
              "      <td>10.0</td>\n",
              "      <td>NaN</td>\n",
              "    </tr>\n",
              "    <tr>\n",
              "      <th>2</th>\n",
              "      <td>3</td>\n",
              "      <td>1.0</td>\n",
              "      <td>1972</td>\n",
              "      <td>1.0</td>\n",
              "      <td>NaN</td>\n",
              "      <td>NaN</td>\n",
              "      <td>NaN</td>\n",
              "      <td>NaN</td>\n",
              "      <td>NaN</td>\n",
              "      <td>1.0</td>\n",
              "      <td>48.0</td>\n",
              "      <td>12.0</td>\n",
              "      <td>NaN</td>\n",
              "    </tr>\n",
              "    <tr>\n",
              "      <th>3</th>\n",
              "      <td>4</td>\n",
              "      <td>1.0</td>\n",
              "      <td>1972</td>\n",
              "      <td>1.0</td>\n",
              "      <td>NaN</td>\n",
              "      <td>NaN</td>\n",
              "      <td>NaN</td>\n",
              "      <td>NaN</td>\n",
              "      <td>NaN</td>\n",
              "      <td>1.0</td>\n",
              "      <td>27.0</td>\n",
              "      <td>17.0</td>\n",
              "      <td>NaN</td>\n",
              "    </tr>\n",
              "    <tr>\n",
              "      <th>4</th>\n",
              "      <td>5</td>\n",
              "      <td>2.0</td>\n",
              "      <td>1972</td>\n",
              "      <td>1.0</td>\n",
              "      <td>NaN</td>\n",
              "      <td>NaN</td>\n",
              "      <td>NaN</td>\n",
              "      <td>NaN</td>\n",
              "      <td>NaN</td>\n",
              "      <td>1.0</td>\n",
              "      <td>61.0</td>\n",
              "      <td>12.0</td>\n",
              "      <td>NaN</td>\n",
              "    </tr>\n",
              "  </tbody>\n",
              "</table>\n",
              "</div>"
            ],
            "text/plain": [
              "   id  racmar  year  race  race1  race2  race3  race4  race5  raclive   age  \\\n",
              "0   1     2.0  1972   1.0    NaN    NaN    NaN    NaN    NaN      1.0  23.0   \n",
              "1   2     1.0  1972   1.0    NaN    NaN    NaN    NaN    NaN      1.0  70.0   \n",
              "2   3     1.0  1972   1.0    NaN    NaN    NaN    NaN    NaN      1.0  48.0   \n",
              "3   4     1.0  1972   1.0    NaN    NaN    NaN    NaN    NaN      1.0  27.0   \n",
              "4   5     2.0  1972   1.0    NaN    NaN    NaN    NaN    NaN      1.0  61.0   \n",
              "\n",
              "   educ  polviews  \n",
              "0  16.0       NaN  \n",
              "1  10.0       NaN  \n",
              "2  12.0       NaN  \n",
              "3  17.0       NaN  \n",
              "4  12.0       NaN  "
            ]
          },
          "execution_count": 2,
          "metadata": {},
          "output_type": "execute_result"
        }
      ],
      "source": [
        "# Step 1: Download the ZIP file with progress bar\n",
        "url = 'https://gss.norc.org/content/dam/gss/get-the-data/documents/stata/GSS_stata.zip'\n",
        "\n",
        "# Make a streaming request to get the content in chunks\n",
        "response = requests.get(url, stream=True)\n",
        "total_size = int(response.headers.get('content-length', 0))  # Get the total file size\n",
        "block_size = 1024  # 1 Kilobyte\n",
        "\n",
        "# Progress bar for downloading\n",
        "tqdm_bar = tqdm(total=total_size, unit='iB', unit_scale=True)\n",
        "content = io.BytesIO()\n",
        "\n",
        "# Download the file in chunks with progress bar\n",
        "for data in response.iter_content(block_size):\n",
        "    tqdm_bar.update(len(data))\n",
        "    content.write(data)\n",
        "\n",
        "tqdm_bar.close()\n",
        "\n",
        "# Check if the download is successful\n",
        "if total_size != 0 and tqdm_bar.n != total_size:\n",
        "    print(\"Error in downloading the file.\")\n",
        "else:\n",
        "    print(\"Download completed!\")\n",
        "\n",
        "# Step 2: Extract the ZIP file in memory and display progress\n",
        "with zipfile.ZipFile(content) as z:\n",
        "    # List all files in the zip\n",
        "    file_list = z.namelist()\n",
        "\n",
        "    # Filter for the .dta file (assuming there is only one)\n",
        "    stata_files = [file for file in file_list if file.endswith('.dta')]\n",
        "\n",
        "    # If there is a Stata file, proceed to extract and read it\n",
        "    if stata_files:\n",
        "        stata_file = stata_files[0]  # Take the first .dta file\n",
        "        with z.open(stata_file) as stata_file_stream:\n",
        "            # Step 3: Load only the selected columns into a pandas DataFrame with numeric labels\n",
        "            columns_to_load = [\n",
        "                'id', 'racmar', 'year', 'race', 'race1','race2', 'race3',\n",
        "                'race4', 'race5', 'raclive', 'age', 'educ', 'polviews']\n",
        "            df = pd.read_stata(stata_file_stream, columns=columns_to_load, convert_categoricals=False)\n",
        "            print(\"Data loaded successfully!\")\n",
        "\n",
        "# Step 4: Display the first few rows of the final DataFrame\n",
        "df.head()"
      ]
    },
    {
      "cell_type": "markdown",
      "metadata": {
        "id": "DyXFmyUINQJ1"
      },
      "source": [
        "### 1- Develop a hypothesis about how some ego-network measure (e.g., degree/size, density, diversity, average-level of alters, homophily, structural holes, or brokerage) may be related to some other variable of interest.\n",
        "\n",
        "I am interested in how the characteristics of people’s social circles affect their attitudes.\n",
        "\n",
        "- I hypothesize that people with more racial diversity in their social circle will tend to believe that there should not be laws against marriages between blacks and whites.\n",
        "- I hypothesize that people with lower racial homophily in their social circle will tend to believe that there should not be laws against marriages between blacks and whites."
      ]
    },
    {
      "cell_type": "markdown",
      "metadata": {
        "id": "zHLmPZMdUf4D"
      },
      "source": [
        "### 2- Explain why you think these two variables should be related.\n",
        "\n",
        "People with more racial diversity in their social circle have close relationships with people of a variety of races. Since they socialize across races, they are probably more accepting of interracial marriages. At the very least, they are likely to believe that there should not be laws against marriages between blacks and whites. \n",
        "\n",
        "This is a rather low bar to pass in terms of acceptance toward interracial marriage. After all, laws against interracial marriage seem relatively extreme and could be viewed as government over-reach, even if people are uncomfortable with close relatives marrying someone of another race.\n",
        "\n",
        "Moreover, if someone's social circle is racially diverse, it is likely that the person has more exposure to people of other races in their daily lives (e.g. in the neighbourhood). With greater exposure to people of other races, people may have a better understanding and acceptance of other races socially and culturally. This in turn may lead to greater acceptance of interracial marriage and thus opposition against laws that ban them.\n",
        "\n",
        "It is good to know whether a racially diverse social circle contributes to opposition against anti-interracial marriage laws beyond the correlation between racially diverse social circles and exposure to people of other races.\n",
        "\n",
        "A similar argument holds for racial homophily. People with low racial homophily in their social circle have close relationships with people of other races, though not necessarily a variety of other races. It could simply be close relationships with many people of a single, different race. Nevertheless, this should also reflect greater acceptance of other races and thus greater acceptance of interracial marriages and opposition against anti-interracial marriage laws."
      ]
    },
    {
      "cell_type": "markdown",
      "metadata": {},
      "source": [
        "### 3- Tell me about your variables. What is your dependent variable? What are your independent variables? How are they coded? How are they recoded? How are the calculated, if appropriate?\n",
        "\n",
        "**Dependent variable `rracmar`**: \n",
        "-  Original variable: `racmar`\n",
        "    - > Do you think there should be laws against marriages between (Negroes/Blacks/African-Americans) and whites?\n",
        "    - Possible responses: Yes (1), No (2)\n",
        "    - Missing values: Don't know (8), No answer (9), Not applicable (0)\n",
        "\n",
        "- In 1972-1977, `racmar` was asked of non-blacks only. On the 1978-1996 surveys those questions were asked of all respondents. As I will show later, we will only analyze data for the survey year 1985. As such, `racmar` was asked of all respondents ([source](https://study.sagepub.com/system/files/gss_codebook.pdf)).\n",
        "\n",
        "- For ease of analysis, we recode `racmar` into `rracmar`, a binary variable where Yes (1) and No (0). Missing values are coded as NaN.\n",
        "\n",
        "Let's code this:"
      ]
    },
    {
      "cell_type": "code",
      "execution_count": 3,
      "metadata": {},
      "outputs": [],
      "source": [
        "# Recode rracmar from racmar\n",
        "df['rracmar'] = df['racmar'].replace({\n",
        "    1: 1, 2: 0, 0: np.nan, 8: np.nan, 9: np.nan\n",
        "    })"
      ]
    },
    {
      "cell_type": "markdown",
      "metadata": {},
      "source": [
        "**Independent variable `rhhi`**\n",
        "- Our key variable of interest is racial diversity in a person's social circle.\n",
        "\n",
        "- In the 1985 and 2005 social networks topical module, respondents were asked:\n",
        "    - > From time to time, most people discuss important matters with other people. Looking back over the last six months - who are the people with whom you discussed matters important to you? Just tell me their first names or initials. IF LESS THAN 5 NAMES MENTIONED, PROBE: Anyone else? ONLY RECORD FIRST 5 NAMES\n",
        "\n",
        "- The variables `race1`, `race2`, `race3`, `race4`, `race5` capture the race of the (up to) 5 people mentioned and recorded.\n",
        "    - Possible responses: Asian (1), Black (2), Hispanic (3), White (4), Other (5)\n",
        "    - Missing values: Don't know (8), No answer (9), Not applicable (0)\n",
        "\n",
        "- The Herfindahl–Hirschman Index (HHI) can be used as a measure racial diversity. While initially designed as an indicator to measure firm concentration in an industry, it is a good measure for diversity too:\n",
        "    - $HHI = \\sum_{i=0}^{N} p_i^2$\n",
        "    - where $p_i$ the proportion of individuals from race $i$ in the social circle, and $n$ is the number of different races represented\n",
        "    - Its value ranges from 0 to 1\n",
        "\n",
        "- High HHI values indicate high concentration of one large group, while small HHI values indicates a more equitable distribution of somewhat smaller groups. Hence, smaller HHI reflects greater diversity.\n",
        "\n",
        "- We create `rhhi`, a variable ranging from 0 to 1, where higher values reflect greater racial diversity in a person's social circle\n",
        "    - `rhhi` $= 1 - HHI$\n",
        "\n",
        "Let's code this:"
      ]
    },
    {
      "cell_type": "code",
      "execution_count": 4,
      "metadata": {},
      "outputs": [],
      "source": [
        "# List of race columns\n",
        "race_cols = ['race1', 'race2', 'race3', 'race4', 'race5']\n",
        "\n",
        "# Replace missing values with NaN for easier processing\n",
        "df[race_cols] = df[race_cols].replace({0: np.nan, 8: np.nan, 9: np.nan})\n",
        "\n",
        "# Function to calculate (rhhi = 1 - HHI) for each respondent\n",
        "def calculate_rhhi(row):\n",
        "    # Drop NaN values and get the count of each unique race\n",
        "    race_counts = row.dropna().value_counts(normalize=True)\n",
        "\n",
        "    # If all race1 to race5 values are NaN, return NaN\n",
        "    if race_counts.empty:\n",
        "        return np.nan\n",
        "    \n",
        "    # Calculate the HHI: sum of squared proportions of each race\n",
        "    hhi = (race_counts ** 2).sum()\n",
        "    \n",
        "    return 1 - hhi\n",
        "\n",
        "# Apply the function to each row and create a new column 'HHI' for diversity\n",
        "df['rhhi'] = df[race_cols].apply(calculate_rhhi, axis=1)"
      ]
    },
    {
      "cell_type": "markdown",
      "metadata": {},
      "source": [
        "**Alternate independent variable `racehomo`**\n",
        "- Homophily is a concept related to but different from diversity. We shall code a variable capturing racial homophily in a person's social circle which we will use later in *Question 5*.\n",
        "\n",
        "- Homophily refers to ego’s tendency to have alters who share ego’s attributes. In this case, we want to measure to what extent a person's social circle only includes people of the same race. \n",
        "\n",
        "- Unlike our diversity measure which increases with a greater variety of races in the social circle, homophily only cares about whether the race of others in the social circle are the same as the ego's. \n",
        "    - For example, the homophily measure of a white person with 2 whites, 1 black, and 1 asian in his social circle is identical to another white person with 2 white and 2 blacks in his social circle.\n",
        "    - However, the racial diversity of the first person's social circle is higher than the second person's.\n",
        "\n",
        "- The variable `race` captures the respondent's race\n",
        "    - Possible responses: White (1), Black (2), Other (3)\n",
        "    - Unlike `race1` to `race5`, asians and hispanics are grouped into 'other' in this variable. Hence, we can only calculate racial homophilly for whites and blacks.\n",
        "\n",
        "- We measure racial homophily `racehomo` with the Krackhardt and Stern E-I Index.\n",
        "    - *racehomo = (E - I) / (E + I)*\n",
        "    - Where *E* (external) is number of ties to people of a different race, and *I* (internal) is number of ties to people of same race\n",
        "    - Varies between -1 (homophily) and +1 (heterophily)\n",
        "\n",
        "- As explained above, we will only calculate `racehomo` for blacks and whites. `racehomo` is NaN for other rows.\n",
        "\n",
        "Let's code this:"
      ]
    },
    {
      "cell_type": "code",
      "execution_count": 5,
      "metadata": {},
      "outputs": [],
      "source": [
        "# Recode respondent's race to match the social contacts' race coding\n",
        "df['rrace'] = df['race'].replace({1: 4, 2: 2})  # White→4, Black→2\n",
        "\n",
        "# Compute in-group (I) and out-group (E) counts only for respondents who are White (1) or Black (2)\n",
        "df['I'] = df[race_cols].apply(lambda row: sum(row.dropna() == df.at[row.name, 'rrace']) \n",
        "                              if df.at[row.name, 'race'] in [1, 2] else np.nan, axis=1)\n",
        "df['E'] = df[race_cols].apply(lambda row: sum(row.dropna().isin([1, 2, 3, 4, 5]) & (row != df.at[row.name, 'rrace'])) \n",
        "                              if df.at[row.name, 'race'] in [1, 2] else np.nan, axis=1)\n",
        "\n",
        "# Compute the E-I Index only for White and Black respondents\n",
        "df['racehomo'] = (df['E'] - df['I']) / (df['E'] + df['I'])\n",
        "\n",
        "# Handle division by zero (E + I = 0)\n",
        "df['racehomo'] = df['racehomo'].replace([np.inf, -np.inf], np.nan)"
      ]
    },
    {
      "cell_type": "markdown",
      "metadata": {},
      "source": [
        "**Other variables to include**: \\\n",
        "There are other variables that could affect views toward laws against marriages between blacks and whites, besides racial diversity and homophily of a person's social circle. These may be added to our models later:\n",
        "\n",
        "- `white`\n",
        "    - Recoded from `race`: the respondent's race\n",
        "        - Possible responses: White (1), Black (2), Other (3)\n",
        "    - Recoded values: White (1), Black (0), Other (3)\n",
        "    - Since other races (3) will be dropped later, this will become a binary variable for white people.\n",
        "\n",
        "- `rraclive`\n",
        "    - Recoded from `raclive`\n",
        "    - > Are there any (“whites” for black respondents, “blacks” for non-black respondents) living in this neighborhood now?\n",
        "        - Possible responses: Yes (1), No (2)\n",
        "        - Missing values: Don't know (8), No answer (9), Not applicable (0)\n",
        "    - Recoded values: Yes (1), No (0)\n",
        "\n",
        "- `age`: respondent's age\n",
        "    - Possible responses: ranges from 1 to 8, each representing a decade (e.g. 1 represents 10-19 years old). 8 captures 80 or over.\n",
        "    - Missing values: Don't know, No answer (9)\n",
        "\n",
        "- `educ`: respondent's education\n",
        "    - Possible responses: ranges from 0 to 20, higher values indicating higher education levels\n",
        "    - Missing values: Don't know (98), No answer (99)\n",
        "\n",
        "- `polviews`:\n",
        "    - > We hear a lot of talk these days about liberals and conservatives. I'm going to show you a seven-point scale on which the political views that people might hold are arranged from extremely liberal--point 1--to extremely conservative--point 7. Where would you place yourself on this scale?\n",
        "    - Possible responses: ranges from 1 to 7, from extremely liberal to extremely conservative\n",
        "    - Missing values: Don't know (8), No answer (9), Not applicable (0)"
      ]
    },
    {
      "cell_type": "code",
      "execution_count": 6,
      "metadata": {
        "colab": {
          "base_uri": "https://localhost:8080/",
          "height": 0
        },
        "id": "fikGo9_iX_KD",
        "outputId": "db47f207-270f-4fae-8518-4dffc1e3ab9f"
      },
      "outputs": [
        {
          "name": "stdout",
          "output_type": "stream",
          "text": [
            "           rracmar         rhhi     racehomo     rraclive        white  \\\n",
            "count  1118.000000  1118.000000  1118.000000  1118.000000  1118.000000   \n",
            "mean      0.231664     0.027283    -0.896064     0.504472     0.915921   \n",
            "std       0.422084     0.104901     0.384299     0.500204     0.277630   \n",
            "min       0.000000     0.000000    -1.000000     0.000000     0.000000   \n",
            "25%       0.000000     0.000000    -1.000000     0.000000     1.000000   \n",
            "50%       0.000000     0.000000    -1.000000     1.000000     1.000000   \n",
            "75%       0.000000     0.000000    -1.000000     1.000000     1.000000   \n",
            "max       1.000000     0.720000     1.000000     1.000000     1.000000   \n",
            "\n",
            "              educ     polviews          age    year  \n",
            "count  1118.000000  1118.000000  1118.000000  1118.0  \n",
            "mean     13.176208     4.161002    42.847048  1985.0  \n",
            "std       2.806229     1.362307    16.472294     0.0  \n",
            "min       1.000000     1.000000    18.000000  1985.0  \n",
            "25%      12.000000     3.000000    29.000000  1985.0  \n",
            "50%      12.000000     4.000000    39.000000  1985.0  \n",
            "75%      15.000000     5.000000    55.000000  1985.0  \n",
            "max      20.000000     7.000000    89.000000  1985.0  \n"
          ]
        }
      ],
      "source": [
        "# Other variables to include in regression excluding age\n",
        "vars_excl_age = ['race', 'raclive', 'educ', 'polviews']\n",
        "\n",
        "# Replace missing values with NaN for easier processing\n",
        "df[vars_excl_age] = df[vars_excl_age].replace({\n",
        "    0: np.nan, 8: np.nan, 9: np.nan, 98: np.nan, 99: np.nan, -1: np.nan\n",
        "    })\n",
        "df['age'] = df['age'].replace({9: np.nan}) # 8 is meaningful for age\n",
        "\n",
        "# Recode white from race, white will be a binary as 3 is dropped later\n",
        "df['white'] = df['race'].replace({1: 1, 2: 0})\n",
        "\n",
        "# Recode rraclive from raclive to a dummy variable\n",
        "df['rraclive'] = df['raclive'].replace({1: 1, 2: 0})\n",
        "\n",
        "# Define key variables and drop rows with missing values\n",
        "key_vars = ['rracmar', 'rhhi', 'racehomo', 'rraclive', 'white', 'educ', 'polviews', 'age', 'year']\n",
        "df_clean = df[key_vars].dropna()  # Ensures that all models use the same complete data\n",
        "\n",
        "# Display summary of cleaned and recoded data\n",
        "df_summary = df_clean.describe(include='all')\n",
        "print(df_summary)"
      ]
    },
    {
      "cell_type": "markdown",
      "metadata": {},
      "source": [
        "**Notes from descriptive summary**\n",
        "\n",
        "- `rracmar`: About 23.2% (mean = 0.232) of the respondents think that there should be laws against marriages between blacks and whites. Note that this data sample is from 1985, where interracial marriages were much more taboo compared to today. \n",
        "\n",
        "- `rhhi`: There is rather low racial diversity in social circles on average (mean = 0.027). Up to the 75th percentile of people have social circles with no racial diversity at all (75th percentile = 0). The small variation (sd = 0.105) may hinder our ability to find statistically signficant relationships later.\n",
        "\n",
        "- `racehomo`: There is high racial homophily in social circles (mean = -0.896). Up to the 75th percentile of people have social circles with no one of another race at all (75th percentile = -1).\n",
        "\n",
        "- `white`: there are only two races of people in the dataset (unique = 2). Since we could only code `racehomo` for blacks and whites, only they will be analyzed. However, other races are included in the computation of racial diversity of social circles `rhhi`.\n",
        "\n",
        "- `year`: It is clear that all 1118 observations that will be used for the subsequent models are from surveys taken in 1985 (minimum and maximum `year` is 1985)."
      ]
    },
    {
      "cell_type": "markdown",
      "metadata": {
        "id": "rpaR2iNIQ7Fw"
      },
      "source": [
        "### 4- Present your initial results from your first few models.  What do they indicated about your hypothesis?\n",
        "\n",
        "**Model 1: `rhhi`**\n",
        "\n",
        "Since `rracmar` is a binary variable, we will use logistic regression models, fitted with maximum likelihood estimators. We start with a simple model with only `rhhi` and an intercept."
      ]
    },
    {
      "cell_type": "code",
      "execution_count": 7,
      "metadata": {},
      "outputs": [
        {
          "name": "stdout",
          "output_type": "stream",
          "text": [
            "Optimization terminated successfully.\n",
            "         Current function value: 0.536644\n",
            "         Iterations 6\n",
            "                           Logit Regression Results                           \n",
            "==============================================================================\n",
            "Dep. Variable:                rracmar   No. Observations:                 1118\n",
            "Model:                          Logit   Df Residuals:                     1116\n",
            "Method:                           MLE   Df Model:                            1\n",
            "Date:                Tue, 18 Feb 2025   Pseudo R-squ.:                0.008563\n",
            "Time:                        15:24:49   Log-Likelihood:                -599.97\n",
            "converged:                       True   LL-Null:                       -605.15\n",
            "Covariance Type:            nonrobust   LLR p-value:                  0.001285\n",
            "==============================================================================\n",
            "                 coef    std err          z      P>|z|      [0.025      0.975]\n",
            "------------------------------------------------------------------------------\n",
            "const         -1.1450      0.072    -15.842      0.000      -1.287      -1.003\n",
            "rhhi          -2.7619      1.001     -2.760      0.006      -4.723      -0.801\n",
            "==============================================================================\n"
          ]
        }
      ],
      "source": [
        "# Model 1: rracmar against rhhi\n",
        "X = sm.add_constant(df_clean[['rhhi']])  # Add intercept  \n",
        "logit_model = sm.Logit(df_clean['rracmar'], X).fit()  \n",
        "\n",
        "print(logit_model.summary())  "
      ]
    },
    {
      "cell_type": "markdown",
      "metadata": {},
      "source": [
        "**Interpretation of Model 1**:\n",
        "- The coefficient on `rhhi` is negative and statistically signficant (p-value < 0.01). This suggests that higher social circle racial diversity is associated with the belief that there should not be laws against marriages between blacks and whites. This is line with our hypothesis.\n",
        "\n",
        "- Specifically, going from zero to full social circle racial diversity (increase of 1 unit of `rhhi`) lowers the log odds of thinking that there should be laws against marriages between blacks and whites by 2.7619.\n",
        "    - Note that full racial diversity `rhhi`=1 is impossible. Given the 5-person social circle limitation of the survey design. The maximum racial diversity achievable is $5 × (\\frac{1}{5})^2=0.8$, where the respondent has 5 friends of different races. Even without the 5-person limit, you can only approach, but never obtain,  `rhhi`=1.\n",
        "\n",
        "**Model 2: `rhhi`, `rraclive`**\n",
        "\n",
        "Remember that we wondered if high racial diversity in social circles contribute to people's opposition toward laws against interracial marriage above and beyond the correlation between racially diverse social circles and exposure to people of other races.\n",
        "\n",
        "In other words, people with racially diverse social circles tend to be exposed to people of other races more than people with less diverse social circles. It is possible that simple exposure to people of other races is sufficient to produce opposition toward laws against interracial marriage. \n",
        "\n",
        "Model 2 tests this by including `rraclive`, a binary variable that indicates if there are “whites” (for black respondents) or “blacks” (for non-black respondents) living in their neighborhood. This is thus a dummy for exposure to people of another race.\n",
        "\n",
        "Let's run the regression:"
      ]
    },
    {
      "cell_type": "code",
      "execution_count": 8,
      "metadata": {},
      "outputs": [
        {
          "name": "stdout",
          "output_type": "stream",
          "text": [
            "Optimization terminated successfully.\n",
            "         Current function value: 0.535447\n",
            "         Iterations 6\n",
            "                           Logit Regression Results                           \n",
            "==============================================================================\n",
            "Dep. Variable:                rracmar   No. Observations:                 1118\n",
            "Model:                          Logit   Df Residuals:                     1115\n",
            "Method:                           MLE   Df Model:                            2\n",
            "Date:                Tue, 18 Feb 2025   Pseudo R-squ.:                 0.01077\n",
            "Time:                        15:24:49   Log-Likelihood:                -598.63\n",
            "converged:                       True   LL-Null:                       -605.15\n",
            "Covariance Type:            nonrobust   LLR p-value:                  0.001474\n",
            "==============================================================================\n",
            "                 coef    std err          z      P>|z|      [0.025      0.975]\n",
            "------------------------------------------------------------------------------\n",
            "const         -1.0339      0.098    -10.564      0.000      -1.226      -0.842\n",
            "rhhi          -2.6443      1.003     -2.635      0.008      -4.611      -0.678\n",
            "rraclive      -0.2339      0.143     -1.633      0.102      -0.514       0.047\n",
            "==============================================================================\n"
          ]
        }
      ],
      "source": [
        "# Model 2: rracmar against rhhi and rraclive\n",
        "X = sm.add_constant(df_clean[['rhhi', 'rraclive']])\n",
        "logit_model = sm.Logit(df_clean['rracmar'], X).fit()\n",
        "\n",
        "print(logit_model.summary())"
      ]
    },
    {
      "cell_type": "markdown",
      "metadata": {},
      "source": [
        "**Interpretation of Model 2**:\n",
        "- The coefficient on `rhhi` *remains* negative and statistically signficant (p-value < 0.01). This suggests that positive effect of social circle racial diversity on opposition toward laws against marriages between blacks and whites *persists* even when including a proxy variable for exposure to people of other races.\n",
        "\n",
        "- The coefficient on `rhhi` decreases in magnitude slightly but does not change much. This suggests that `rraclive` is not a significant channel through which `rhhi` acts on `rracmar`.\n",
        "\n",
        "- The coefficient on `rraclive` is directionally in line with expectations. People who have other races living in their neighbourhood tend to oppose laws against marriages between blacks and whites, though this effect is statistically insignficant (p-value > 0.1).\n",
        "\n",
        "Model 1 and 2 both support our initial hypothesis."
      ]
    },
    {
      "cell_type": "markdown",
      "metadata": {
        "id": "Lx28Lli-VlBj"
      },
      "source": [
        "### 5- Consider alternate specifications of your variables (i.e., recodings of various kinds). Consider interactions among your variables.\n",
        "\n",
        "**Model 3: `racehomo`, `rraclive`**\n",
        "\n",
        "Instead of racial diversity in a social circle, let us consider an alternative but related independent variable, racial homophily. Perhaps, having multiple people of a race different from one's own is sufficient to impact attitudes on interracial marriage, and racial variety adds no further value.\n",
        "\n",
        "In other words, it is possible that a white person with 1 asian and 1 black friend would have essentially the same attitudes on interracial marriage compared to a white person with 2 asian friends. The additional racial variety in the first person's social group does not move the needle for their attitudes on interracial marriage.\n",
        "\n",
        "Model 3 tests this, as we study `racehomo`, our measure of racial homophily/ heterophily. Higher values are associated with greater racial heterophily and less homophily in the social circle.\n",
        "\n",
        "We do not include `racehomo` and `rhhi` in the same model, as they measure extremely similar things and are thus highly correlated, which leads to problems with imperfect multicollinearity.\n",
        "\n",
        "Let's run the regression:"
      ]
    },
    {
      "cell_type": "code",
      "execution_count": 9,
      "metadata": {},
      "outputs": [
        {
          "name": "stdout",
          "output_type": "stream",
          "text": [
            "Optimization terminated successfully.\n",
            "         Current function value: 0.534228\n",
            "         Iterations 7\n",
            "                           Logit Regression Results                           \n",
            "==============================================================================\n",
            "Dep. Variable:                rracmar   No. Observations:                 1118\n",
            "Model:                          Logit   Df Residuals:                     1115\n",
            "Method:                           MLE   Df Model:                            2\n",
            "Date:                Tue, 18 Feb 2025   Pseudo R-squ.:                 0.01303\n",
            "Time:                        15:24:49   Log-Likelihood:                -597.27\n",
            "converged:                       True   LL-Null:                       -605.15\n",
            "Covariance Type:            nonrobust   LLR p-value:                 0.0003773\n",
            "==============================================================================\n",
            "                 coef    std err          z      P>|z|      [0.025      0.975]\n",
            "------------------------------------------------------------------------------\n",
            "const         -1.8869      0.312     -6.043      0.000      -2.499      -1.275\n",
            "racehomo      -0.8727      0.308     -2.838      0.005      -1.476      -0.270\n",
            "rraclive      -0.2517      0.143     -1.759      0.079      -0.532       0.029\n",
            "==============================================================================\n"
          ]
        }
      ],
      "source": [
        "# Model 3: rracmar against racehomo, rraclive \n",
        "X = sm.add_constant(df_clean[['racehomo', 'rraclive']])\n",
        "logit_model = sm.Logit(df_clean['rracmar'], X).fit()\n",
        "\n",
        "print(logit_model.summary())"
      ]
    },
    {
      "cell_type": "markdown",
      "metadata": {},
      "source": [
        "**Interpretation of Model 3**:\n",
        "-  The coefficient on `racehomo` is negative and statistically signficant (p-value < 0.01). This suggests that lower social circle racial homophily (higher racial heterophily) is associated with the belief that there should not be laws against marriages between blacks and whites. This is line with our hypothesis.\n",
        "\n",
        "- Specifically, an increase of 1 unit of `racehomo` lowers the log odds of thinking that there should be laws against marriages between blacks and whites by 0.8727.\n",
        "\n",
        "- This suggests that racial variety adds no additional value in affecting attitudes in `rracmar`. Simply having more people of a race other than yours in your social circle is sufficient to explain attitudes towards laws against marriages between blacks and whites. `racehomo` contains less information than `rhhi`, and is still a statistically significant predictor of `rracmar`. \n",
        "\n",
        "- Since `rraclive` is included in this model, it suggests that low racial homophily (high racial heterophly) in social circles contribute to people's opposition toward laws against interracial marriage above and beyond the correlation between racially heterophilous social circles and exposure to people of other races."
      ]
    },
    {
      "cell_type": "markdown",
      "metadata": {},
      "source": [
        "**Model 4: `racehomo`, `rraclive`, controls**\n",
        "\n",
        "Given this finding, let us proceed with `racehomo` instead of `rhhi` in our subsequent models. Let us now consider more factors that we think might affect attitudes toward anti-interracial marriage laws and might be correlated with social circle racial homophily:\n",
        "\n",
        "- `white`: whether a person is white or black. It is possible that racial homophily is higher in one of these racial groups. Given historical context, whites may be more opposed to interracial marriage than blacks, on average, affecting `rracmar`.\n",
        "\n",
        "- `age`: as integration policies were only recently implemented in the decades leading up to survey year 1985, it is possible that older people maintain disapproval to interracial marriages and generally have friends of the same race as they grew up in a more segregated era. Then, they may be more supportive of laws against interracial marriage, and have more racially homophilic social circles.\n",
        "\n",
        "- `educ`: perhaps more educated individuals care less about race as they value the internal aspects of a person (e.g. intellect) more than external aspects of a person, and are thus more approving of interracial marriages.\n",
        "\n",
        "- `polviews`: perhaps people with more liberal political views would support interracial marriage more and have more racially heterophilic social circles compared to people with more conservative political leanings. People with more liberal political views tend to be more socially liberal as well.\n"
      ]
    },
    {
      "cell_type": "code",
      "execution_count": 10,
      "metadata": {},
      "outputs": [
        {
          "name": "stdout",
          "output_type": "stream",
          "text": [
            "Optimization terminated successfully.\n",
            "         Current function value: 0.453972\n",
            "         Iterations 7\n",
            "                           Logit Regression Results                           \n",
            "==============================================================================\n",
            "Dep. Variable:                rracmar   No. Observations:                 1118\n",
            "Model:                          Logit   Df Residuals:                     1111\n",
            "Method:                           MLE   Df Model:                            6\n",
            "Date:                Tue, 18 Feb 2025   Pseudo R-squ.:                  0.1613\n",
            "Time:                        15:24:49   Log-Likelihood:                -507.54\n",
            "converged:                       True   LL-Null:                       -605.15\n",
            "Covariance Type:            nonrobust   LLR p-value:                 1.976e-39\n",
            "==============================================================================\n",
            "                 coef    std err          z      P>|z|      [0.025      0.975]\n",
            "------------------------------------------------------------------------------\n",
            "const         -2.5369      0.752     -3.376      0.001      -4.010      -1.064\n",
            "racehomo      -0.7849      0.299     -2.622      0.009      -1.372      -0.198\n",
            "rraclive      -0.1013      0.158     -0.639      0.523      -0.412       0.209\n",
            "white          2.5361      0.559      4.536      0.000       1.440       3.632\n",
            "age            0.0308      0.005      6.557      0.000       0.022       0.040\n",
            "educ          -0.2752      0.035     -7.803      0.000      -0.344      -0.206\n",
            "polviews       0.0816      0.059      1.380      0.168      -0.034       0.198\n",
            "==============================================================================\n"
          ]
        }
      ],
      "source": [
        "# Model 4: rracmar against rhhi, rraclive, controls\n",
        "X = sm.add_constant(df_clean[['racehomo', 'rraclive', 'white', 'age', 'educ', 'polviews']])\n",
        "logit_model = sm.Logit(df_clean['rracmar'], X).fit()\n",
        "\n",
        "print(logit_model.summary())"
      ]
    },
    {
      "cell_type": "markdown",
      "metadata": {
        "id": "onlqQKuJbUzz"
      },
      "source": [
        "**Interpretation of Model 4**:\n",
        "- The inclusion of other variables lowers the magnitude of `racehomo`'s coefficient slightly, but it is still statistically signficant (p-value < 0.01). The association of social circle racial homophily/ heterophily and attitudes toward anti-interracial marriage laws is therefore robust to the inclusion of these other variables.\n",
        "\n",
        "- The other variables included in the model are directionally associated with `rracmar` as per our expectations:\n",
        "    - Being white (rather than black) raises the log odds of thinking that there should be laws against marriages between blacks and whites by 2.5361, net of other factors. This is highly statistically significant (p-value < 0.001).\n",
        "\n",
        "    - Every additional year of a person's age raises the log odds of thinking that there should be laws against marriages between blacks and whites by 0.0308, net of other factors. This is highly statistically significant (p-value < 0.001).\n",
        "\n",
        "    - Every additional year of education lowers the log odds of thinking that there should be laws against marriages between blacks and whites by 0.2752, net of other factors. This is highly statistically significant (p-value < 0.001).\n",
        "\n",
        "    - Every 1-point increase of a person's conservativeness on a 7-point liberal-conservative scale raises the log odds of thinking that there should be laws against marriages between blacks and whites by 0.0816, net of other factors. However, this effect is not statistically significant (p-value > 0.1).\n"
      ]
    },
    {
      "cell_type": "markdown",
      "metadata": {},
      "source": [
        "**Model 5:  `racehomo`, `rraclive`, interaction term, controls**\n",
        "\n",
        "Model 5 considers if there is an interaction between the effect of social circle racial homopily and age. The intuition here being that older people's views toward interracial marriage may be more deep-seated due to the environment in which they grew up in and the possibility that odler folk face greater inertia in changing their views. Then, we will expect the interaction to have a positive coefficient, indicating that age reduces the effect that lower racial homophily (greater racial heterophily) has on attitudes toward anti-interracial marriage laws."
      ]
    },
    {
      "cell_type": "code",
      "execution_count": 11,
      "metadata": {
        "colab": {
          "base_uri": "https://localhost:8080/",
          "height": 0
        },
        "id": "KmZPSg4hYn1M",
        "outputId": "e0a4dcfd-4bbb-4130-fde1-3d9ada49a69d"
      },
      "outputs": [
        {
          "name": "stdout",
          "output_type": "stream",
          "text": [
            "Optimization terminated successfully.\n",
            "         Current function value: 0.450646\n",
            "         Iterations 8\n",
            "                           Logit Regression Results                           \n",
            "==============================================================================\n",
            "Dep. Variable:                rracmar   No. Observations:                 1118\n",
            "Model:                          Logit   Df Residuals:                     1110\n",
            "Method:                           MLE   Df Model:                            7\n",
            "Date:                Tue, 18 Feb 2025   Pseudo R-squ.:                  0.1674\n",
            "Time:                        15:24:49   Log-Likelihood:                -503.82\n",
            "converged:                       True   LL-Null:                       -605.15\n",
            "Covariance Type:            nonrobust   LLR p-value:                 3.144e-40\n",
            "================================================================================\n",
            "                   coef    std err          z      P>|z|      [0.025      0.975]\n",
            "--------------------------------------------------------------------------------\n",
            "const           -5.4091      1.688     -3.204      0.001      -8.718      -2.100\n",
            "racehomo        -3.8553      1.583     -2.436      0.015      -6.957      -0.753\n",
            "rraclive        -0.1046      0.159     -0.658      0.510      -0.416       0.207\n",
            "white            2.5460      0.558      4.566      0.000       1.453       3.639\n",
            "age              0.0889      0.028      3.160      0.002       0.034       0.144\n",
            "educ            -0.2786      0.036     -7.842      0.000      -0.348      -0.209\n",
            "polviews         0.0695      0.059      1.172      0.241      -0.047       0.186\n",
            "racehomo:age     0.0604      0.028      2.129      0.033       0.005       0.116\n",
            "================================================================================\n"
          ]
        }
      ],
      "source": [
        "# Model 5: rracmar against rhhi, rraclive, controls, interaction term\n",
        "X = sm.add_constant(df_clean[['racehomo', 'rraclive', 'white', 'age', 'educ', 'polviews']])\n",
        "X['racehomo:age'] = df_clean['racehomo'] * df_clean['age']  # Add interaction term\n",
        "logit_model = sm.Logit(df_clean['rracmar'], X).fit()\n",
        "\n",
        "print(logit_model.summary())"
      ]
    },
    {
      "cell_type": "markdown",
      "metadata": {},
      "source": [
        "**Interpretation of Model 5**:\n",
        "- As expected, the coefficient on the interaction term is positive, and it is statistically significant (p-value < 0.05). This suggests that the effect of racial homophily on attitudes toward anti-interracial marriage laws is lower for older people.\n",
        "\n",
        "- The coefficient on `racehomo` is still negative and statistically significnat (p-value < 0.05). An increase of 1 unit of `racehomo` lowers the log odds of thinking that there should be laws against marriages between blacks and whites by 3.8553, net of other factors. This is much larger than our prior estimates. However, every additional year of a person's age reduces this effect's magnitude by 0.0604.\n",
        "\n",
        "- In short, having a social circle with lower racial homophily affects the `rracemar` attitudes of the young much more than the old."
      ]
    },
    {
      "cell_type": "markdown",
      "metadata": {
        "id": "BJQ5tEmNdiTF"
      },
      "source": [
        "### 6- And give your best conclusion as to whether your initial hypothesis held up ­and if not, why not.\n",
        "\n",
        "I have given my conclusions throughout. In summary, the answer appears to be: yes, people with more racial diversity and lower racial homophily in their social circle will tend to believe that there should not be laws against marriages between blacks and whites. \n",
        "\n",
        "- This association is robust to the inclusion of other factors like exposure to people of the other race (other race lives in the neighbourhood),race, age, education, and political views.\n",
        "\n",
        "- Note however, that the association we find is still descriptive (hence the use of 'tend to' in the hypothesis, rather than 'causes' or 'results in'). Whilst including potential confounding variables is a step toward countering omitted variable bias, we do not argue that we have necessarily found a causal link. \n",
        "    - It is possible that more racially diverse and less homophilic social circles changes attitudes on laws against interracial marriage (the causal possibility).\n",
        "    - However, it is also possible that people have some other underlying reason to care little about race as a factor in socializing or marriage. Then, they will tend to have more racially diverse and less homophilic social circles, and they will also tend to oppose laws against interracial marriage. The association may therefore arise from some other unobserved confounding personal characteritic."
      ]
    }
  ],
  "metadata": {
    "colab": {
      "provenance": []
    },
    "kernelspec": {
      "display_name": "base",
      "language": "python",
      "name": "python3"
    },
    "language_info": {
      "codemirror_mode": {
        "name": "ipython",
        "version": 3
      },
      "file_extension": ".py",
      "mimetype": "text/x-python",
      "name": "python",
      "nbconvert_exporter": "python",
      "pygments_lexer": "ipython3",
      "version": "3.12.4"
    },
    "widgets": {
      "application/vnd.jupyter.widget-state+json": {
        "210baced4df146fab7c0186d2efcac52": {
          "model_module": "@jupyter-widgets/controls",
          "model_module_version": "1.5.0",
          "model_name": "HBoxModel",
          "state": {
            "_dom_classes": [],
            "_model_module": "@jupyter-widgets/controls",
            "_model_module_version": "1.5.0",
            "_model_name": "HBoxModel",
            "_view_count": null,
            "_view_module": "@jupyter-widgets/controls",
            "_view_module_version": "1.5.0",
            "_view_name": "HBoxView",
            "box_style": "",
            "children": [
              "IPY_MODEL_ea66bdb0f0964180a405b764f6dfd46e",
              "IPY_MODEL_4070fae1abdd4fe38c05959f1b6d6e9e",
              "IPY_MODEL_8cc33b244b74479a8dfefc13e9d027b2"
            ],
            "layout": "IPY_MODEL_2852f4958af94511a39c47edee243278"
          }
        },
        "2852f4958af94511a39c47edee243278": {
          "model_module": "@jupyter-widgets/base",
          "model_module_version": "1.2.0",
          "model_name": "LayoutModel",
          "state": {
            "_model_module": "@jupyter-widgets/base",
            "_model_module_version": "1.2.0",
            "_model_name": "LayoutModel",
            "_view_count": null,
            "_view_module": "@jupyter-widgets/base",
            "_view_module_version": "1.2.0",
            "_view_name": "LayoutView",
            "align_content": null,
            "align_items": null,
            "align_self": null,
            "border": null,
            "bottom": null,
            "display": null,
            "flex": null,
            "flex_flow": null,
            "grid_area": null,
            "grid_auto_columns": null,
            "grid_auto_flow": null,
            "grid_auto_rows": null,
            "grid_column": null,
            "grid_gap": null,
            "grid_row": null,
            "grid_template_areas": null,
            "grid_template_columns": null,
            "grid_template_rows": null,
            "height": null,
            "justify_content": null,
            "justify_items": null,
            "left": null,
            "margin": null,
            "max_height": null,
            "max_width": null,
            "min_height": null,
            "min_width": null,
            "object_fit": null,
            "object_position": null,
            "order": null,
            "overflow": null,
            "overflow_x": null,
            "overflow_y": null,
            "padding": null,
            "right": null,
            "top": null,
            "visibility": null,
            "width": null
          }
        },
        "32293f89f2be426295ac9072b370d249": {
          "model_module": "@jupyter-widgets/base",
          "model_module_version": "1.2.0",
          "model_name": "LayoutModel",
          "state": {
            "_model_module": "@jupyter-widgets/base",
            "_model_module_version": "1.2.0",
            "_model_name": "LayoutModel",
            "_view_count": null,
            "_view_module": "@jupyter-widgets/base",
            "_view_module_version": "1.2.0",
            "_view_name": "LayoutView",
            "align_content": null,
            "align_items": null,
            "align_self": null,
            "border": null,
            "bottom": null,
            "display": null,
            "flex": null,
            "flex_flow": null,
            "grid_area": null,
            "grid_auto_columns": null,
            "grid_auto_flow": null,
            "grid_auto_rows": null,
            "grid_column": null,
            "grid_gap": null,
            "grid_row": null,
            "grid_template_areas": null,
            "grid_template_columns": null,
            "grid_template_rows": null,
            "height": null,
            "justify_content": null,
            "justify_items": null,
            "left": null,
            "margin": null,
            "max_height": null,
            "max_width": null,
            "min_height": null,
            "min_width": null,
            "object_fit": null,
            "object_position": null,
            "order": null,
            "overflow": null,
            "overflow_x": null,
            "overflow_y": null,
            "padding": null,
            "right": null,
            "top": null,
            "visibility": null,
            "width": null
          }
        },
        "3f009354117247e39e379f228f7d5f7a": {
          "model_module": "@jupyter-widgets/base",
          "model_module_version": "1.2.0",
          "model_name": "LayoutModel",
          "state": {
            "_model_module": "@jupyter-widgets/base",
            "_model_module_version": "1.2.0",
            "_model_name": "LayoutModel",
            "_view_count": null,
            "_view_module": "@jupyter-widgets/base",
            "_view_module_version": "1.2.0",
            "_view_name": "LayoutView",
            "align_content": null,
            "align_items": null,
            "align_self": null,
            "border": null,
            "bottom": null,
            "display": null,
            "flex": null,
            "flex_flow": null,
            "grid_area": null,
            "grid_auto_columns": null,
            "grid_auto_flow": null,
            "grid_auto_rows": null,
            "grid_column": null,
            "grid_gap": null,
            "grid_row": null,
            "grid_template_areas": null,
            "grid_template_columns": null,
            "grid_template_rows": null,
            "height": null,
            "justify_content": null,
            "justify_items": null,
            "left": null,
            "margin": null,
            "max_height": null,
            "max_width": null,
            "min_height": null,
            "min_width": null,
            "object_fit": null,
            "object_position": null,
            "order": null,
            "overflow": null,
            "overflow_x": null,
            "overflow_y": null,
            "padding": null,
            "right": null,
            "top": null,
            "visibility": null,
            "width": null
          }
        },
        "4070fae1abdd4fe38c05959f1b6d6e9e": {
          "model_module": "@jupyter-widgets/controls",
          "model_module_version": "1.5.0",
          "model_name": "FloatProgressModel",
          "state": {
            "_dom_classes": [],
            "_model_module": "@jupyter-widgets/controls",
            "_model_module_version": "1.5.0",
            "_model_name": "FloatProgressModel",
            "_view_count": null,
            "_view_module": "@jupyter-widgets/controls",
            "_view_module_version": "1.5.0",
            "_view_name": "ProgressView",
            "bar_style": "success",
            "description": "",
            "description_tooltip": null,
            "layout": "IPY_MODEL_805232e5e2a4434688273f0e1c89adff",
            "max": 42030619,
            "min": 0,
            "orientation": "horizontal",
            "style": "IPY_MODEL_55b4982b21884f5f97023ef0919937a8",
            "value": 42030619
          }
        },
        "52f6a85c60e54547a9b352906b694ab0": {
          "model_module": "@jupyter-widgets/controls",
          "model_module_version": "1.5.0",
          "model_name": "DescriptionStyleModel",
          "state": {
            "_model_module": "@jupyter-widgets/controls",
            "_model_module_version": "1.5.0",
            "_model_name": "DescriptionStyleModel",
            "_view_count": null,
            "_view_module": "@jupyter-widgets/base",
            "_view_module_version": "1.2.0",
            "_view_name": "StyleView",
            "description_width": ""
          }
        },
        "55b4982b21884f5f97023ef0919937a8": {
          "model_module": "@jupyter-widgets/controls",
          "model_module_version": "1.5.0",
          "model_name": "ProgressStyleModel",
          "state": {
            "_model_module": "@jupyter-widgets/controls",
            "_model_module_version": "1.5.0",
            "_model_name": "ProgressStyleModel",
            "_view_count": null,
            "_view_module": "@jupyter-widgets/base",
            "_view_module_version": "1.2.0",
            "_view_name": "StyleView",
            "bar_color": null,
            "description_width": ""
          }
        },
        "5683545d41184b91b542e1b2353b88ed": {
          "model_module": "@jupyter-widgets/controls",
          "model_module_version": "1.5.0",
          "model_name": "DescriptionStyleModel",
          "state": {
            "_model_module": "@jupyter-widgets/controls",
            "_model_module_version": "1.5.0",
            "_model_name": "DescriptionStyleModel",
            "_view_count": null,
            "_view_module": "@jupyter-widgets/base",
            "_view_module_version": "1.2.0",
            "_view_name": "StyleView",
            "description_width": ""
          }
        },
        "805232e5e2a4434688273f0e1c89adff": {
          "model_module": "@jupyter-widgets/base",
          "model_module_version": "1.2.0",
          "model_name": "LayoutModel",
          "state": {
            "_model_module": "@jupyter-widgets/base",
            "_model_module_version": "1.2.0",
            "_model_name": "LayoutModel",
            "_view_count": null,
            "_view_module": "@jupyter-widgets/base",
            "_view_module_version": "1.2.0",
            "_view_name": "LayoutView",
            "align_content": null,
            "align_items": null,
            "align_self": null,
            "border": null,
            "bottom": null,
            "display": null,
            "flex": null,
            "flex_flow": null,
            "grid_area": null,
            "grid_auto_columns": null,
            "grid_auto_flow": null,
            "grid_auto_rows": null,
            "grid_column": null,
            "grid_gap": null,
            "grid_row": null,
            "grid_template_areas": null,
            "grid_template_columns": null,
            "grid_template_rows": null,
            "height": null,
            "justify_content": null,
            "justify_items": null,
            "left": null,
            "margin": null,
            "max_height": null,
            "max_width": null,
            "min_height": null,
            "min_width": null,
            "object_fit": null,
            "object_position": null,
            "order": null,
            "overflow": null,
            "overflow_x": null,
            "overflow_y": null,
            "padding": null,
            "right": null,
            "top": null,
            "visibility": null,
            "width": null
          }
        },
        "8cc33b244b74479a8dfefc13e9d027b2": {
          "model_module": "@jupyter-widgets/controls",
          "model_module_version": "1.5.0",
          "model_name": "HTMLModel",
          "state": {
            "_dom_classes": [],
            "_model_module": "@jupyter-widgets/controls",
            "_model_module_version": "1.5.0",
            "_model_name": "HTMLModel",
            "_view_count": null,
            "_view_module": "@jupyter-widgets/controls",
            "_view_module_version": "1.5.0",
            "_view_name": "HTMLView",
            "description": "",
            "description_tooltip": null,
            "layout": "IPY_MODEL_3f009354117247e39e379f228f7d5f7a",
            "placeholder": "​",
            "style": "IPY_MODEL_52f6a85c60e54547a9b352906b694ab0",
            "value": " 42.0M/42.0M [00:01&lt;00:00, 25.5MiB/s]"
          }
        },
        "ea66bdb0f0964180a405b764f6dfd46e": {
          "model_module": "@jupyter-widgets/controls",
          "model_module_version": "1.5.0",
          "model_name": "HTMLModel",
          "state": {
            "_dom_classes": [],
            "_model_module": "@jupyter-widgets/controls",
            "_model_module_version": "1.5.0",
            "_model_name": "HTMLModel",
            "_view_count": null,
            "_view_module": "@jupyter-widgets/controls",
            "_view_module_version": "1.5.0",
            "_view_name": "HTMLView",
            "description": "",
            "description_tooltip": null,
            "layout": "IPY_MODEL_32293f89f2be426295ac9072b370d249",
            "placeholder": "​",
            "style": "IPY_MODEL_5683545d41184b91b542e1b2353b88ed",
            "value": "100%"
          }
        }
      }
    }
  },
  "nbformat": 4,
  "nbformat_minor": 0
}
