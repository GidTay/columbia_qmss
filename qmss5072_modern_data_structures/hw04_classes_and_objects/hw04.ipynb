{
 "cells": [
  {
   "cell_type": "markdown",
   "id": "f4f121a0-97c8-46c0-9e8e-7847d4a2bea5",
   "metadata": {},
   "source": [
    "# HW 4: Classes and Objects\n",
    "Submitted by: Gideon Tay\\\n",
    "My UNI: gt2528\\\n",
    "Contact me at: gideon.tay@columbia.edu"
   ]
  },
  {
   "cell_type": "markdown",
   "id": "791a0722-a142-4b39-a1d9-357cf6bbfdb9",
   "metadata": {},
   "source": [
    "## 1. Animal Class\n",
    "### 1a. Create `Animal` class\n",
    "First, let's create a class called `Animal`:"
   ]
  },
  {
   "cell_type": "code",
   "execution_count": 1,
   "id": "2d1d251c-fb08-4d97-b200-21573f4db4ca",
   "metadata": {},
   "outputs": [],
   "source": [
    "# Define the Animal class with hints on data types\n",
    "class Animal:\n",
    "    def __init__(self, name: str, species: str, age: int):\n",
    "        self.name = name\n",
    "        self.species = species\n",
    "        self.age = age"
   ]
  },
  {
   "cell_type": "markdown",
   "id": "3514f3fa-b623-4409-9c2a-fbce2db3b9c5",
   "metadata": {},
   "source": [
    "Then, let's instantiate it with an `Animal` object called `a1` and print the object's attributes:"
   ]
  },
  {
   "cell_type": "code",
   "execution_count": 2,
   "id": "1112ffc8-f8e8-4212-afe8-cf4424028b17",
   "metadata": {},
   "outputs": [
    {
     "name": "stdout",
     "output_type": "stream",
     "text": [
      "{'name': 'Sheldon', 'species': 'Dog', 'age': 4}\n"
     ]
    }
   ],
   "source": [
    "# Instantiate the Animal class by creating an animal object\n",
    "a1 = Animal(\"Sheldon\", \"Dog\", 4)\n",
    "\n",
    "# Print object a1's attributes using the built-in attribute __dict__\n",
    "# Returns object a1’s writable attributes in a dictionary format\n",
    "print(a1.__dict__)"
   ]
  },
  {
   "cell_type": "markdown",
   "id": "8aafb07b-e21e-49ae-9b74-1916504c4f8d",
   "metadata": {},
   "source": [
    "An alternative way to print the object's attributes would be to manually list and print them:"
   ]
  },
  {
   "cell_type": "code",
   "execution_count": 3,
   "id": "5ec53a0c-2e8b-49cc-990e-a76657963daf",
   "metadata": {},
   "outputs": [
    {
     "name": "stdout",
     "output_type": "stream",
     "text": [
      "{'Name': 'Sheldon', 'Species': 'Dog', 'Age': 4}\n"
     ]
    }
   ],
   "source": [
    "# Printing the object's attributes\n",
    "print({\n",
    "    \"Name\": a1.name,\n",
    "    \"Species\": a1.species,\n",
    "    \"Age\": a1.age\n",
    "})"
   ]
  },
  {
   "cell_type": "markdown",
   "id": "61fa45fb-71a3-4653-bdaa-e8da0b56f89f",
   "metadata": {},
   "source": [
    "### 1b. Add `__str__` method to the Animal class\n",
    "I will rewrite the entire `Animal` class again with the new `__str__` method for the sake of clarity."
   ]
  },
  {
   "cell_type": "code",
   "execution_count": 4,
   "id": "5b033cd6-1003-4272-9442-84a846788e6d",
   "metadata": {},
   "outputs": [],
   "source": [
    "# Update the Animal class to include a new __str__ method\n",
    "class Animal:\n",
    "    def __init__(self, name: str, species: str, age: int):\n",
    "        self.name = name\n",
    "        self.species = species\n",
    "        self.age = age\n",
    "        \n",
    "    def __str__(self):\n",
    "        return f\"{self.name} the {self.species} is {self.age} years old.\""
   ]
  },
  {
   "cell_type": "markdown",
   "id": "62a053d1-c1f8-495c-bc49-a5536d6beae9",
   "metadata": {},
   "source": [
    "Create another animal object and print its string representation:"
   ]
  },
  {
   "cell_type": "code",
   "execution_count": 5,
   "id": "bde7d2f0-b956-4b19-920d-31b7827c04cb",
   "metadata": {},
   "outputs": [
    {
     "name": "stdout",
     "output_type": "stream",
     "text": [
      "Amy the Cat is 5 years old.\n"
     ]
    }
   ],
   "source": [
    "# Create another Animal object\n",
    "a2 = Animal(\"Amy\", \"Cat\", 5)\n",
    "\n",
    "# Print object a2's string representation\n",
    "print(a2)"
   ]
  },
  {
   "cell_type": "markdown",
   "id": "9dbf4229-dbe2-49d7-a90d-45935414ce43",
   "metadata": {},
   "source": [
    "### 1c. Create `Animal` objects\n",
    "Create 6 `Animal` objects using the data from `animals_data`, which is a list of dictionaries. Then, we print the string representations of these 6 objects:\r\n"
   ]
  },
  {
   "cell_type": "code",
   "execution_count": 6,
   "id": "a012f734-052c-4800-b45f-d7056abe027c",
   "metadata": {},
   "outputs": [
    {
     "name": "stdout",
     "output_type": "stream",
     "text": [
      "Buddy the Dog is 3 years old.\n",
      "Whiskers the Cat is 2 years old.\n",
      "Chirpy the Bird is 1 years old.\n",
      "Nibbles the Rabbit is 4 years old.\n",
      "Goldie the Fish is 1 years old.\n",
      "Spike the Lizard is 5 years old.\n"
     ]
    }
   ],
   "source": [
    "# List of dictionaries with 6 animals' details\n",
    "animals_data = [\n",
    "    {\"name\": \"Buddy\", \"species\": \"Dog\", \"age\": 3},\n",
    "    {\"name\": \"Whiskers\", \"species\": \"Cat\", \"age\": 2},\n",
    "    {\"name\": \"Chirpy\", \"species\": \"Bird\", \"age\": 1},\n",
    "    {\"name\": \"Nibbles\", \"species\": \"Rabbit\", \"age\": 4},\n",
    "    {\"name\": \"Goldie\", \"species\": \"Fish\", \"age\": 1},\n",
    "    {\"name\": \"Spike\", \"species\": \"Lizard\", \"age\": 5}\n",
    "]\n",
    "\n",
    "# Use list comprehension to create a list of Animal objects\n",
    "# The list 'animals' contains 6 Animal objects, one for each animal\n",
    "animals = [\n",
    "    Animal(data['name'], data['species'], data['age']) \n",
    "    for data in animals_data\n",
    "]\n",
    "\n",
    "# Print their string representations\n",
    "for animal in animals:\n",
    "    print(animal)"
   ]
  },
  {
   "cell_type": "markdown",
   "id": "38b6bb62-43c7-4d56-8731-5acb953c4506",
   "metadata": {},
   "source": [
    "### 1d. Add Adoption Status\n",
    "I will rewrite the entire `Animal` class again with the new `adopt()` method for the sake of clarity. We ensure that an animal cannot be adopted more than once.\n",
    "\n",
    "- Note that when Animal objects are instantiated (first created), we assume they are not yet adopted. We only update their adoption status after the `adopt()` method is called.\n",
    "- Also, we now include adoption status in Animal objects' string representation."
   ]
  },
  {
   "cell_type": "code",
   "execution_count": 7,
   "id": "d9f05fbf-237f-4b2b-be73-1cec98315041",
   "metadata": {},
   "outputs": [],
   "source": [
    "# Update the Animal class with an adopt method\n",
    "class Animal:\n",
    "    def __init__(self, name: str, species: str, age: int):\n",
    "        self.name = name\n",
    "        self.species = species\n",
    "        self.age = age\n",
    "        self.adopted = False  # New attribute to track adoption status\n",
    "\n",
    "    # Update to include adoption status in the string representation\n",
    "    def __str__(self):\n",
    "        adopted_status = \"adopted\" if self.adopted else \"available for adoption\"\n",
    "        return (f\"{self.name} the {self.species} is {self.age} years old \"\n",
    "                f\"and is {adopted_status}.\")\n",
    "\n",
    "    # Create adopt method to mark the animal as adopted\n",
    "    def adopt(self):\n",
    "        # If the animal is not already adopted, then adopt it\n",
    "        if not self.adopted:\n",
    "            self.adopted = True\n",
    "            return f\"Congratulations, {self.name} has just been adopted!\"\n",
    "            \n",
    "        # If animal is already adopted, flag it\n",
    "        else:\n",
    "            return f\"{self.name} is already adopted. It can't be adopted again.\"\n",
    "\n",
    "# Re-instantiate each Animal object in the animals list using list comprehension\n",
    "# So each object in the list has the newly included adopt() method\n",
    "animals = [\n",
    "    Animal(animal.name, animal.species, animal.age) \n",
    "    for animal in animals\n",
    "]"
   ]
  },
  {
   "cell_type": "markdown",
   "id": "93fd7a0c-68c9-4e24-bb41-d443a585bfd2",
   "metadata": {},
   "source": [
    "Let's demonstrate this method with Whiskers the cat:"
   ]
  },
  {
   "cell_type": "code",
   "execution_count": 8,
   "id": "947bfc3a-43d3-496a-8172-b5089b347970",
   "metadata": {},
   "outputs": [
    {
     "data": {
      "text/plain": [
       "'Congratulations, Whiskers has just been adopted!'"
      ]
     },
     "execution_count": 8,
     "metadata": {},
     "output_type": "execute_result"
    }
   ],
   "source": [
    "# Find Whiskers using a for loop through animals, the list of 6 Animal objects\n",
    "whiskers = None\n",
    "for animal in animals:\n",
    "    if animal.name == \"Whiskers\":\n",
    "        whiskers = animal\n",
    "        break  # Stop looping once we find Whiskers\n",
    "\n",
    "# Adopt Whiskers\n",
    "whiskers.adopt()"
   ]
  },
  {
   "cell_type": "code",
   "execution_count": 9,
   "id": "182ace5c-f792-43cc-8dea-3a44343c75ac",
   "metadata": {},
   "outputs": [
    {
     "data": {
      "text/plain": [
       "\"Whiskers is already adopted. It can't be adopted again.\""
      ]
     },
     "execution_count": 9,
     "metadata": {},
     "output_type": "execute_result"
    }
   ],
   "source": [
    "# Demonstrate that Whiskers cannot be adopted more than once\n",
    "whiskers.adopt()"
   ]
  },
  {
   "cell_type": "code",
   "execution_count": 10,
   "id": "7b5f427c-5d30-429f-b431-57ee89896cca",
   "metadata": {},
   "outputs": [
    {
     "name": "stdout",
     "output_type": "stream",
     "text": [
      "Whiskers the Cat is 2 years old and is adopted.\n"
     ]
    }
   ],
   "source": [
    "# Print Whiskers' updated string representation\n",
    "print(whiskers)"
   ]
  },
  {
   "cell_type": "markdown",
   "id": "accf694f-d7f1-4bec-b38a-8b601d67cc5c",
   "metadata": {},
   "source": [
    "## 2. Shelter Class\n",
    "### 2a. Create `Shelter` class\n",
    "Below, we create the `Shelter` class,  initialize it with `animals`, the list of `Animal` objects from (1c). Then, we print the `shelter` object's attributes.\n"
   ]
  },
  {
   "cell_type": "code",
   "execution_count": 11,
   "id": "269a3419-601e-4157-970c-dcd340391906",
   "metadata": {},
   "outputs": [
    {
     "name": "stdout",
     "output_type": "stream",
     "text": [
      "The shelter has the following animals:\n",
      "Buddy the Dog is 3 years old and is available for adoption.\n",
      "Whiskers the Cat is 2 years old and is adopted.\n",
      "Chirpy the Bird is 1 years old and is available for adoption.\n",
      "Nibbles the Rabbit is 4 years old and is available for adoption.\n",
      "Goldie the Fish is 1 years old and is available for adoption.\n",
      "Spike the Lizard is 5 years old and is available for adoption.\n"
     ]
    }
   ],
   "source": [
    "class Shelter:\n",
    "    \"\"\" Class to hold list of Animal objects \"\"\"\n",
    "    def __init__(self, animal_list: list):\n",
    "        self.animal_list = animal_list  # Store list of Animal objects\n",
    "\n",
    "    def __str__(self):\n",
    "        # Create a string that lists all animals in the shelter\n",
    "        shelter_list = \"\\n\".join(str(animal) for animal in self.animal_list)\n",
    "        return f\"The shelter has the following animals:\\n{shelter_list}\"\n",
    "\n",
    "# Initialize the Shelter with the list of animals from part (1c)\n",
    "shelter = Shelter(animals)\n",
    "\n",
    "# Print the shelter's attributes (the animals inside it)\n",
    "print(shelter)"
   ]
  },
  {
   "cell_type": "markdown",
   "id": "ace0d579-82b7-4b16-92af-22aa05ac3976",
   "metadata": {},
   "source": [
    "### 2b. Check Animal Availability\n",
    "Below, we add a method to `Shelter` called `check_availability` that takes an animal species as an argument and returns a boolean indicating whether there is an available animal of that species. I included hints on the datatype for clarity.\r\n"
   ]
  },
  {
   "cell_type": "code",
   "execution_count": 12,
   "id": "e0fea0ca-fb84-401a-bd6a-09ff5e67393b",
   "metadata": {},
   "outputs": [],
   "source": [
    "class Shelter:\n",
    "    \"\"\" Class to hold list of Animal objects \"\"\"\n",
    "    def __init__(self, animal_list: list):\n",
    "        self.animal_list = animal_list  # Store list of Animal objects\n",
    "\n",
    "    def __str__(self):\n",
    "        # Create a string that lists all animals in the shelter\n",
    "        shelter_list = \"\\n\".join(str(animal) for animal in self.animal_list)\n",
    "        return f\"The shelter has the following animals:\\n{shelter_list}\"\n",
    "    \n",
    "    def check_availability(self, species: str) -> bool:\n",
    "        for animal in self.animal_list:\n",
    "            # Return True if an available animal of the given species is found\n",
    "            # Check if species matches, ignoring capitalization issues\n",
    "            # Check if animal is not adopted, so is available for adoption\n",
    "            if animal.species.lower() == species.lower() and not animal.adopted:\n",
    "                return True \n",
    "        return False  # Return False if no matching animal is found"
   ]
  },
  {
   "cell_type": "markdown",
   "id": "fffe1751-6e7f-4677-bf94-b2be727a789e",
   "metadata": {},
   "source": [
    "Demonstrate this method by checking the availability for \"Dog\" and print the result. Recall that Buddy the dog is still up for adoption. Since the result is true, \"Dog\" is available.\r\n"
   ]
  },
  {
   "cell_type": "code",
   "execution_count": 13,
   "id": "73d001db-84af-47c6-930a-5de8945aa02d",
   "metadata": {},
   "outputs": [
    {
     "name": "stdout",
     "output_type": "stream",
     "text": [
      "Is a dog available? True\n"
     ]
    }
   ],
   "source": [
    "# Re-initialize shelter so it has access to the new method check_availability\n",
    "shelter = Shelter(animals)\n",
    "\n",
    "# Check the availability for \"Dog\"\n",
    "is_dog_available = shelter.check_availability(\"Dog\")\n",
    "print(f\"Is a dog available? {is_dog_available}\")"
   ]
  },
  {
   "cell_type": "markdown",
   "id": "2711ed0b-8446-4005-8df1-387deaaf4f78",
   "metadata": {},
   "source": [
    "### 2c. List Available Animals by Species\n",
    "Next, we add a method to `Shelter` called `list_by_species` that takes a species name as an argument and returns a list of all available (i.e., not yet adopted) animals of that species.\r\n",
    "\n"
   ]
  },
  {
   "cell_type": "code",
   "execution_count": 14,
   "id": "cfff39b3-03a3-42d1-b57f-5156b90dd34f",
   "metadata": {},
   "outputs": [],
   "source": [
    "class Shelter:\n",
    "    \"\"\" Class to hold list of Animal objects \"\"\"\n",
    "    def __init__(self, animal_list: list):\n",
    "        self.animal_list = animal_list  # Store list of Animal objects\n",
    "\n",
    "    def __str__(self):\n",
    "        # Create a string that lists all animals in the shelter\n",
    "        shelter_list = \"\\n\".join(str(animal) for animal in self.animal_list)\n",
    "        return f\"The shelter has the following animals:\\n{shelter_list}\"\n",
    "    \n",
    "    def check_availability(self, species: str) -> bool:\n",
    "        for animal in self.animal_list:\n",
    "            # Return True if an available animal of the given species is found\n",
    "            # Check if species matches, ignoring capitalization issues\n",
    "            # Check if animal is not adopted, so is available for adoption\n",
    "            if animal.species.lower() == species.lower() and not animal.adopted:\n",
    "                return True \n",
    "        return False  # Return False if no matching animal is found\n",
    "\n",
    "    def list_by_species(self, species: str) -> list:\n",
    "        # Use list comprehension to get list of Animal objects \n",
    "        # of matching species that are also not adopted\n",
    "        available_animals = [\n",
    "            animal \n",
    "            for animal in self.animal_list\n",
    "            if animal.species.lower() == species.lower() and not animal.adopted\n",
    "        ]\n",
    "        return available_animals"
   ]
  },
  {
   "cell_type": "markdown",
   "id": "d3bd6bc9-b1b9-4604-a72e-a95d30d697a4",
   "metadata": {},
   "source": [
    "Let's demonstrate this method by listing all available \"Cat\" species. As you can see, the list is empty. This is because the only cat in the `shelter` object, Whiskers, was already adopted in (1d).\r\n"
   ]
  },
  {
   "cell_type": "code",
   "execution_count": 15,
   "id": "ac15d834-9bd3-4ece-9b7e-0b1251029613",
   "metadata": {},
   "outputs": [
    {
     "name": "stdout",
     "output_type": "stream",
     "text": [
      "Available Cats:\n"
     ]
    }
   ],
   "source": [
    "# Re-initialize shelter so it has access to the new method list_by_species\n",
    "shelter = Shelter(animals)\n",
    "\n",
    "# List available cats\n",
    "available_cats = shelter.list_by_species(\"Cat\")\n",
    "print(\"Available Cats:\")\n",
    "for cat in available_cats:\n",
    "    print(cat)"
   ]
  },
  {
   "cell_type": "markdown",
   "id": "8457d582-c537-41e2-a3e0-ed7ba3cf9f84",
   "metadata": {},
   "source": [
    "Now, let's demonstrate the method again by listing all available \"Dog\" species. This time, a non-empty list is produced with Buddy the dog, the only dog in the `shelter` object:"
   ]
  },
  {
   "cell_type": "code",
   "execution_count": 16,
   "id": "700317cf-b530-4260-825e-62ae0c44cb3a",
   "metadata": {},
   "outputs": [
    {
     "name": "stdout",
     "output_type": "stream",
     "text": [
      "Available Dogs:\n",
      "Buddy the Dog is 3 years old and is available for adoption.\n"
     ]
    }
   ],
   "source": [
    "# List available dogs\n",
    "available_dogs = shelter.list_by_species(\"Dog\")\n",
    "print(\"Available Dogs:\")\n",
    "for dog in available_dogs:\n",
    "    print(dog)"
   ]
  },
  {
   "cell_type": "markdown",
   "id": "5823389b-99ca-4b7e-b6ec-f7db251733f3",
   "metadata": {},
   "source": [
    "## 3. Bonus question: Implementing a Weight Monitoring System\n",
    "### 3a. Add `weight` attribute and `update_weight` method\n",
    "We modify the `Animal` class to include a `weight` attribute (float) and an `update_weight` method to change the animal's weight. We ensure that the weight cannot be negative, both during initialization of an `Animal` object and when updateing the weight with the `update_weight` method.\r\n"
   ]
  },
  {
   "cell_type": "code",
   "execution_count": 17,
   "id": "87e7b3d6-b04a-4404-bc8a-bae89b89917c",
   "metadata": {},
   "outputs": [],
   "source": [
    "# Update the Animal class with a weight attribute and update_weight method\n",
    "class Animal:\n",
    "    def __init__(self, name: str, species: str, age: int, weight: float):\n",
    "        self.name = name\n",
    "        self.species = species\n",
    "        self.age = age\n",
    "        self.adopted = False  # Attribute to track adoption status\n",
    "        \n",
    "        # Validate weight during initialization\n",
    "        if weight < 0:\n",
    "            raise ValueError(\"Weight cannot be negative.\")\n",
    "        self.weight = weight  # New weight attribute\n",
    "    \n",
    "    # Update to include weight in string representation\n",
    "    def __str__(self):\n",
    "        adopted_status = \"adopted\" if self.adopted else \"available for adoption\"\n",
    "        return (f\"{self.name} the {self.species} is {self.age} years old, \"\n",
    "                f\"weighs {self.weight}kg, and is {adopted_status}.\")\n",
    "\n",
    "    def adopt(self):\n",
    "        # If the animal is not already adopted, then adopt it\n",
    "        if not self.adopted:\n",
    "            self.adopted = True\n",
    "            return f\"Congratulations, {self.name} has just been adopted!\"\n",
    "            \n",
    "        # If animal is already adopted, flag it\n",
    "        else:\n",
    "            return f\"{self.name} is already adopted. It can't be adopted again.\"\n",
    "    \n",
    "    def update_weight(self, new_weight: float):\n",
    "        if new_weight < 0:\n",
    "            raise ValueError(\"Weight cannot be negative.\") # Validate new_weight\n",
    "        else:\n",
    "            self.weight = new_weight  # Update weight if valid"
   ]
  },
  {
   "cell_type": "markdown",
   "id": "8aa4f2da-5edb-4e5f-9684-b2d32b47496f",
   "metadata": {},
   "source": [
    "Let's demonstrate how this works. First, we show how attempting to input negative weights during initialization results in a Value Error:"
   ]
  },
  {
   "cell_type": "code",
   "execution_count": 18,
   "id": "8f4b2743-abff-4b33-b814-5c08760aab7d",
   "metadata": {},
   "outputs": [
    {
     "name": "stdout",
     "output_type": "stream",
     "text": [
      "Weight cannot be negative.\n"
     ]
    }
   ],
   "source": [
    "# Attempt to create an Animal object with negative weight '-6'\n",
    "try:\n",
    "    a3 = Animal(\"Howard\", \"Dog\", 4, -6)\n",
    "except ValueError as e:\n",
    "    print(e)"
   ]
  },
  {
   "cell_type": "markdown",
   "id": "fe8330a3-dbd2-49dd-b9a6-60cf785a0a96",
   "metadata": {},
   "source": [
    "Next, we show that the weight attribute works if we input a positive weight:"
   ]
  },
  {
   "cell_type": "code",
   "execution_count": 19,
   "id": "fab1cb12-d51d-41e3-b9a8-b24d0f654b33",
   "metadata": {},
   "outputs": [
    {
     "name": "stdout",
     "output_type": "stream",
     "text": [
      "Howard the Dog is 4 years old, weighs 6kg, and is available for adoption.\n"
     ]
    }
   ],
   "source": [
    "# Create a valid Animal object and print its string representation\n",
    "a3 = Animal(\"Howard\", \"Dog\", 4, 6)\n",
    "print(a3)"
   ]
  },
  {
   "cell_type": "markdown",
   "id": "f6f7f14d-cdbd-4ccc-bd58-62f8ff9a489a",
   "metadata": {},
   "source": [
    "Attempting to update the weight to a negative value results in a Value Error:"
   ]
  },
  {
   "cell_type": "code",
   "execution_count": 20,
   "id": "afedd531-318a-480b-bb23-b9da957051af",
   "metadata": {},
   "outputs": [
    {
     "name": "stdout",
     "output_type": "stream",
     "text": [
      "Weight cannot be negative.\n"
     ]
    }
   ],
   "source": [
    "# Attempt to update to a negative weight\n",
    "try:\n",
    "    a3.update_weight(-5)\n",
    "except ValueError as e:\n",
    "    print(e)"
   ]
  },
  {
   "cell_type": "markdown",
   "id": "a2c0c364-32d2-4a1c-8149-317f3aa9d2bc",
   "metadata": {},
   "source": [
    "Updating the weight with a positive value works:"
   ]
  },
  {
   "cell_type": "code",
   "execution_count": 21,
   "id": "a22a6068-9a44-487e-9880-4f392e868076",
   "metadata": {},
   "outputs": [
    {
     "name": "stdout",
     "output_type": "stream",
     "text": [
      "Howard the Dog is 4 years old, weighs 6.5kg, and is available for adoption.\n"
     ]
    }
   ],
   "source": [
    "# Update weight and print string representation\n",
    "a3.update_weight(6.5)\n",
    "print(a3)"
   ]
  },
  {
   "cell_type": "markdown",
   "id": "ef6d0b3d-f20d-4fde-b007-9b518240426b",
   "metadata": {},
   "source": [
    "### 3b. Add `average_weight_by_species` method to the `Shelter` class\n",
    "We add a method `average_weight_by_species` to the `Shelter` class that takes a species name and returns the average weight of all available (not yet adopted) animals of that species.\r\n"
   ]
  },
  {
   "cell_type": "code",
   "execution_count": 22,
   "id": "9020018f-99fb-4654-a751-8a4dbaaa9381",
   "metadata": {},
   "outputs": [],
   "source": [
    "class Shelter:\n",
    "    \"\"\" Class to hold list of Animal objects \"\"\"\n",
    "    def __init__(self, animal_list: list):\n",
    "        self.animal_list = animal_list  # Store list of Animal objects\n",
    "\n",
    "    def __str__(self):\n",
    "        # Create a string that lists all animals in the shelter\n",
    "        shelter_list = \"\\n\".join(str(animal) for animal in self.animal_list)\n",
    "        return f\"The shelter has the following animals:\\n{shelter_list}\"\n",
    "    \n",
    "    def check_availability(self, species: str) -> bool:\n",
    "        for animal in self.animal_list:\n",
    "            # Return True if an available animal of the given species is found\n",
    "            # Check if species matches, ignoring capitalization issues\n",
    "            # Check if animal is not adopted, so is available for adoption\n",
    "            if animal.species.lower() == species.lower() and not animal.adopted:\n",
    "                return True \n",
    "        return False  # Return False if no matching animal is found\n",
    "\n",
    "    def list_by_species(self, species: str) -> list:\n",
    "        # Use list comprehension to get list of Animal objects \n",
    "        # of matching species that are also not adopted\n",
    "        available_animals = [\n",
    "            animal \n",
    "            for animal in self.animal_list\n",
    "            if animal.species.lower() == species.lower() and not animal.adopted\n",
    "        ]\n",
    "        return available_animals\n",
    "    \n",
    "    def average_weight_by_species(self, species: str):\n",
    "        # Again, we only look at available animals (not adopted) of that species\n",
    "        available_animals = [\n",
    "            animal \n",
    "            for animal in self.animal_list \n",
    "            if animal.species.lower() == species.lower() and not animal.adopted\n",
    "        ]\n",
    "        \n",
    "        if not available_animals:\n",
    "            return (f\"There are no available {species.lower()}s \"\n",
    "                    f\"to calculate average weight.\")\n",
    "\n",
    "        total_weight = sum(animal.weight for animal in available_animals)\n",
    "        return total_weight / len(available_animals)  # Calculate average weight"
   ]
  },
  {
   "cell_type": "markdown",
   "id": "0423e2b7-a59e-4ee2-867e-67b4f9b402be",
   "metadata": {},
   "source": [
    "Let's demonstrate the `average_weight_by_species` method. Before doing so, we create a new list of `Animal` objects called `animals2` and initialize another shelter called `shelter2` with this list."
   ]
  },
  {
   "cell_type": "code",
   "execution_count": 23,
   "id": "7ef9104a-f3a4-4e2e-a35a-6538694058d8",
   "metadata": {},
   "outputs": [],
   "source": [
    "# Another set of animals' data\n",
    "animals_data2 = [\n",
    "    {\"name\": \"Penny\", \"species\": \"Dog\", \"age\": 3, \"weight\": 9},\n",
    "    {\"name\": \"Leonard\", \"species\": \"Cat\", \"age\": 2, \"weight\": 4},\n",
    "    {\"name\": \"Kripke\", \"species\": \"Fish\", \"age\": 1, \"weight\": 0.8},\n",
    "    {\"name\": \"Bernadette\", \"species\": \"Dog\", \"age\": 3, \"weight\": 7},\n",
    "    {\"name\": \"Raj\", \"species\": \"Fish\", \"age\": 2, \"weight\": 1}\n",
    "]\n",
    "\n",
    "# Create a list of Animal objects using animals_data2\n",
    "animals2 = [\n",
    "    Animal(data['name'], data['species'], data['age'], data['weight']) \n",
    "    for data in animals_data2\n",
    "]\n",
    "\n",
    "# Adopt Penny the dog, who is the first entry in the animals2 list (index=0)\n",
    "animals2[0].adopt()\n",
    "\n",
    "# Create a Shelter object with the animals2 list\n",
    "shelter2 = Shelter(animals2)"
   ]
  },
  {
   "cell_type": "markdown",
   "id": "437bd2cd-084a-4cd3-aed6-94329d02c1a7",
   "metadata": {},
   "source": [
    "Demonstrate that the average weight of the fish is indeed (0.8 + 1)/2 = 0.9kg, using the weights of available fishes Kripke and Raj:"
   ]
  },
  {
   "cell_type": "code",
   "execution_count": 24,
   "id": "b8b50ecb-1411-4cc9-8f58-a050021baf43",
   "metadata": {},
   "outputs": [
    {
     "name": "stdout",
     "output_type": "stream",
     "text": [
      "The average weight of available fish is: 0.9kg.\n"
     ]
    }
   ],
   "source": [
    "# Calculate average weight of available fish\n",
    "avg_weight_fish = shelter2.average_weight_by_species(\"fish\")\n",
    "print(f\"The average weight of available fish is: {avg_weight_fish}kg.\")"
   ]
  },
  {
   "cell_type": "markdown",
   "id": "24013926-bcfb-409b-8750-0570d3a88445",
   "metadata": {},
   "source": [
    "Note that adopted animals are not included in the calculation. Since we adopted Penny the dog, the average weight calculated would only depend on the remaining dog, Bernadette. Hence, it should equal 7kg:"
   ]
  },
  {
   "cell_type": "code",
   "execution_count": 25,
   "id": "e11ce07b-2af2-4175-9c96-8d8c3428bc5b",
   "metadata": {},
   "outputs": [
    {
     "name": "stdout",
     "output_type": "stream",
     "text": [
      "The average weight of available dogs is: 7.0kg.\n"
     ]
    }
   ],
   "source": [
    "# Calculate average weight of available dogs\n",
    "avg_weight_dog = shelter2.average_weight_by_species(\"dog\")\n",
    "print(f\"The average weight of available dogs is: {avg_weight_dog}kg.\")"
   ]
  },
  {
   "cell_type": "markdown",
   "id": "990977c0-eac9-424f-a5aa-c0dee4b43f10",
   "metadata": {},
   "source": [
    "Lastly, notice what happens if we attempt to get an average weight of a species that is not available in the shelter:"
   ]
  },
  {
   "cell_type": "code",
   "execution_count": 26,
   "id": "140e305e-afee-4916-990d-35c3ae30c777",
   "metadata": {},
   "outputs": [
    {
     "data": {
      "text/plain": [
       "'There are no available zebras to calculate average weight.'"
      ]
     },
     "execution_count": 26,
     "metadata": {},
     "output_type": "execute_result"
    }
   ],
   "source": [
    "# Calculate average weight of available zerbas\n",
    "shelter2.average_weight_by_species(\"zebra\")"
   ]
  }
 ],
 "metadata": {
  "kernelspec": {
   "display_name": "Python 3 (ipykernel)",
   "language": "python",
   "name": "python3"
  },
  "language_info": {
   "codemirror_mode": {
    "name": "ipython",
    "version": 3
   },
   "file_extension": ".py",
   "mimetype": "text/x-python",
   "name": "python",
   "nbconvert_exporter": "python",
   "pygments_lexer": "ipython3",
   "version": "3.12.4"
  }
 },
 "nbformat": 4,
 "nbformat_minor": 5
}
