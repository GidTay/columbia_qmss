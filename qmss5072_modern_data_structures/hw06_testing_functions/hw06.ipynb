{
 "cells": [
  {
   "cell_type": "markdown",
   "metadata": {},
   "source": [
    "# HW 6: Tic-Tac-Toe Testing Exercise\n",
    "Submitted by: Gideon Tay\\\n",
    "My UNI: gt2528\\\n",
    "Contact me at: gideon.tay@columbia.edu\n",
    "\n",
    "My submission has the following key files:\n",
    "- `tictactoe.py`: this python file contains the functions needed to run a Tic-Tac-Toe game, copy and pasted from the homework instructions\n",
    "- `test_tictactoe.py`: this python file contains unit and integration test functions to verify that the Tic-Tac-Toe game works as expected. Relevant for both question 1 and 2.\n",
    "- `hw06.ipynb`: this Jupyter notebook includes pytest outputs of the tests in `test_tictactoe.py`"
   ]
  },
  {
   "cell_type": "markdown",
   "metadata": {},
   "source": [
    "### 1. Test the `initialize_board`, `make_move`, `check_winner`, and `reset_game` Functions\n",
    "\n",
    "**1a. Write a test function `test_initialize_board` that verifies the `initialize_board` function creates an empty 3x3 board**\n",
    "\n",
    "As you can see below, the `test_initialize_board` passes:"
   ]
  },
  {
   "cell_type": "code",
   "execution_count": 19,
   "metadata": {},
   "outputs": [
    {
     "name": "stdout",
     "output_type": "stream",
     "text": [
      "\u001b[1m============================= test session starts =============================\u001b[0m\n",
      "platform win32 -- Python 3.10.5, pytest-8.3.3, pluggy-1.5.0 -- C:\\Users\\gideo\\.pyenv\\pyenv-win\\versions\\3.10.5\\python.exe\n",
      "cachedir: .pytest_cache\n",
      "rootdir: c:\\Users\\gideo\\OneDrive\\Desktop\\Columbia\\5072_MDS\\Tay_Gideon\\hw06\n",
      "plugins: anyio-4.6.0\n",
      "\u001b[1mcollecting ... \u001b[0mcollected 1 item\n",
      "\n",
      "test_tictactoe.py::test_initialize_board \u001b[32mPASSED\u001b[0m\u001b[32m                          [100%]\u001b[0m\n",
      "\n",
      "\u001b[32m============================== \u001b[32m\u001b[1m1 passed\u001b[0m\u001b[32m in 0.00s\u001b[0m\u001b[32m ==============================\u001b[0m\n"
     ]
    }
   ],
   "source": [
    "# Use pytest to run test_initialize_board() in test_tictactoe.py\n",
    "!pytest -vv test_tictactoe.py::test_initialize_board"
   ]
  },
  {
   "cell_type": "markdown",
   "metadata": {},
   "source": [
    "**1b. Write a test function `test_make_move_valid` that checks whether `make_move` successfully places a player’s symbol on an empty cell. Test this for both players ‘X’ and ‘O’.**\n",
    "\n",
    "As you can see below, the `test_make_move_valid` passes:"
   ]
  },
  {
   "cell_type": "code",
   "execution_count": 22,
   "metadata": {},
   "outputs": [
    {
     "name": "stdout",
     "output_type": "stream",
     "text": [
      "\u001b[1m============================= test session starts =============================\u001b[0m\n",
      "platform win32 -- Python 3.10.5, pytest-8.3.3, pluggy-1.5.0 -- C:\\Users\\gideo\\.pyenv\\pyenv-win\\versions\\3.10.5\\python.exe\n",
      "cachedir: .pytest_cache\n",
      "rootdir: c:\\Users\\gideo\\OneDrive\\Desktop\\Columbia\\5072_MDS\\Tay_Gideon\\hw06\n",
      "plugins: anyio-4.6.0\n",
      "\u001b[1mcollecting ... \u001b[0mcollected 10 items\n",
      "\n",
      "test_tictactoe.py::test_make_move_valid[X-0-1] \u001b[32mPASSED\u001b[0m\u001b[32m                    [ 10%]\u001b[0m\n",
      "test_tictactoe.py::test_make_move_valid[X-0-2] \u001b[32mPASSED\u001b[0m\u001b[32m                    [ 20%]\u001b[0m\n",
      "test_tictactoe.py::test_make_move_valid[X-1-1] \u001b[32mPASSED\u001b[0m\u001b[32m                    [ 30%]\u001b[0m\n",
      "test_tictactoe.py::test_make_move_valid[X-1-2] \u001b[32mPASSED\u001b[0m\u001b[32m                    [ 40%]\u001b[0m\n",
      "test_tictactoe.py::test_make_move_valid[X-2-2] \u001b[32mPASSED\u001b[0m\u001b[32m                    [ 50%]\u001b[0m\n",
      "test_tictactoe.py::test_make_move_valid[O-0-1] \u001b[32mPASSED\u001b[0m\u001b[32m                    [ 60%]\u001b[0m\n",
      "test_tictactoe.py::test_make_move_valid[O-0-2] \u001b[32mPASSED\u001b[0m\u001b[32m                    [ 70%]\u001b[0m\n",
      "test_tictactoe.py::test_make_move_valid[O-1-1] \u001b[32mPASSED\u001b[0m\u001b[32m                    [ 80%]\u001b[0m\n",
      "test_tictactoe.py::test_make_move_valid[O-1-2] \u001b[32mPASSED\u001b[0m\u001b[32m                    [ 90%]\u001b[0m\n",
      "test_tictactoe.py::test_make_move_valid[O-2-2] \u001b[32mPASSED\u001b[0m\u001b[32m                    [100%]\u001b[0m\n",
      "\n",
      "\u001b[32m============================= \u001b[32m\u001b[1m10 passed\u001b[0m\u001b[32m in 0.03s\u001b[0m\u001b[32m ==============================\u001b[0m\n"
     ]
    }
   ],
   "source": [
    "!pytest -vv test_tictactoe.py::test_make_move_valid"
   ]
  },
  {
   "cell_type": "markdown",
   "metadata": {},
   "source": [
    "**1c. Write a test function `test_make_move_invalid` that ensures `make_move` does not overwrite an occupied cell and returns False when attempting to do so.**\n",
    "\n",
    "As you can see below, the `test_make_move_invalid` passes:"
   ]
  },
  {
   "cell_type": "code",
   "execution_count": 23,
   "metadata": {},
   "outputs": [
    {
     "name": "stdout",
     "output_type": "stream",
     "text": [
      "\u001b[1m============================= test session starts =============================\u001b[0m\n",
      "platform win32 -- Python 3.10.5, pytest-8.3.3, pluggy-1.5.0 -- C:\\Users\\gideo\\.pyenv\\pyenv-win\\versions\\3.10.5\\python.exe\n",
      "cachedir: .pytest_cache\n",
      "rootdir: c:\\Users\\gideo\\OneDrive\\Desktop\\Columbia\\5072_MDS\\Tay_Gideon\\hw06\n",
      "plugins: anyio-4.6.0\n",
      "\u001b[1mcollecting ... \u001b[0mcollected 8 items\n",
      "\n",
      "test_tictactoe.py::test_make_move_invalid[X-0-0] \u001b[32mPASSED\u001b[0m\u001b[32m                  [ 12%]\u001b[0m\n",
      "test_tictactoe.py::test_make_move_invalid[X-1-0] \u001b[32mPASSED\u001b[0m\u001b[32m                  [ 25%]\u001b[0m\n",
      "test_tictactoe.py::test_make_move_invalid[X-2-0] \u001b[32mPASSED\u001b[0m\u001b[32m                  [ 37%]\u001b[0m\n",
      "test_tictactoe.py::test_make_move_invalid[X-2-1] \u001b[32mPASSED\u001b[0m\u001b[32m                  [ 50%]\u001b[0m\n",
      "test_tictactoe.py::test_make_move_invalid[O-0-0] \u001b[32mPASSED\u001b[0m\u001b[32m                  [ 62%]\u001b[0m\n",
      "test_tictactoe.py::test_make_move_invalid[O-1-0] \u001b[32mPASSED\u001b[0m\u001b[32m                  [ 75%]\u001b[0m\n",
      "test_tictactoe.py::test_make_move_invalid[O-2-0] \u001b[32mPASSED\u001b[0m\u001b[32m                  [ 87%]\u001b[0m\n",
      "test_tictactoe.py::test_make_move_invalid[O-2-1] \u001b[32mPASSED\u001b[0m\u001b[32m                  [100%]\u001b[0m\n",
      "\n",
      "\u001b[32m============================== \u001b[32m\u001b[1m8 passed\u001b[0m\u001b[32m in 0.03s\u001b[0m\u001b[32m ==============================\u001b[0m\n"
     ]
    }
   ],
   "source": [
    "!pytest -vv test_tictactoe.py::test_make_move_invalid"
   ]
  },
  {
   "cell_type": "markdown",
   "metadata": {},
   "source": [
    "**1d. Write an integration test `test_game_integration` that performs a series of operations: initializing the board, making multiple moves, checking for a winner, and resetting the game. After each operation, verify the state of the board and the game status (i.e. if there is a winner).**\n",
    "\n",
    "As you can see below, the `test_game_integration` passes:"
   ]
  },
  {
   "cell_type": "code",
   "execution_count": 1,
   "metadata": {},
   "outputs": [
    {
     "name": "stdout",
     "output_type": "stream",
     "text": [
      "\u001b[1m============================= test session starts =============================\u001b[0m\n",
      "platform win32 -- Python 3.10.5, pytest-8.3.3, pluggy-1.5.0 -- C:\\Users\\gideo\\.pyenv\\pyenv-win\\versions\\3.10.5\\python.exe\n",
      "cachedir: .pytest_cache\n",
      "rootdir: c:\\Users\\gideo\\OneDrive\\Desktop\\Columbia\\5072_MDS\\Tay_Gideon\\hw06\n",
      "plugins: anyio-4.6.0\n",
      "\u001b[1mcollecting ... \u001b[0mcollected 1 item\n",
      "\n",
      "test_tictactoe.py::test_game_integration \u001b[32mPASSED\u001b[0m\u001b[32m                          [100%]\u001b[0m\n",
      "\n",
      "\u001b[32m============================== \u001b[32m\u001b[1m1 passed\u001b[0m\u001b[32m in 0.01s\u001b[0m\u001b[32m ==============================\u001b[0m\n"
     ]
    }
   ],
   "source": [
    "!pytest -vv test_tictactoe.py::test_game_integration"
   ]
  },
  {
   "cell_type": "markdown",
   "metadata": {},
   "source": [
    "**1e. Add the tests from 1a, 1b, 1c, and 1d to a file called test_tictactoe.py in your folder. Run all the tests from your command line using pytest (with verbosity setting -vv) and include the output in your homework solution.**\n",
    "\n",
    "As per the instructions, I have included tests for 1a, 1b, 1c, 1d in `test_tictactoe.py`. The pytest output for these tests are in this `hw06.ipynb` Jupyter notebook as shown above. I run shell commands in this Jupyter Notebook by prefixing commands with '!'."
   ]
  },
  {
   "cell_type": "markdown",
   "metadata": {},
   "source": [
    "### 2. Advanced Testing\n",
    "\n",
    "**2a. Utilize the `@pytest.mark.parametrize` decorator to create a parameterized test function `test_make_move` that tests multiple scenarios of making moves, including edge cases such as invalid row or column indices, and placing a marker in an already occupied spot.**\n",
    "\n",
    "The code for `test_make_move` is in `test_tictactoe.py`. I will run it below:"
   ]
  },
  {
   "cell_type": "code",
   "execution_count": 12,
   "metadata": {},
   "outputs": [
    {
     "name": "stdout",
     "output_type": "stream",
     "text": [
      "\u001b[1m============================= test session starts =============================\u001b[0m\n",
      "platform win32 -- Python 3.10.5, pytest-8.3.3, pluggy-1.5.0 -- C:\\Users\\gideo\\.pyenv\\pyenv-win\\versions\\3.10.5\\python.exe\n",
      "cachedir: .pytest_cache\n",
      "rootdir: c:\\Users\\gideo\\OneDrive\\Desktop\\Columbia\\5072_MDS\\Tay_Gideon\\hw06\n",
      "plugins: anyio-4.6.0\n",
      "\u001b[1mcollecting ... \u001b[0mcollected 13 items\n",
      "\n",
      "test_tictactoe.py::test_make_move[initial_board0-0-0-X-True-expected_board0] \u001b[32mPASSED\u001b[0m\u001b[32m [  7%]\u001b[0m\n",
      "test_tictactoe.py::test_make_move[initial_board1-0-1-X-True-expected_board1] \u001b[32mPASSED\u001b[0m\u001b[32m [ 15%]\u001b[0m\n",
      "test_tictactoe.py::test_make_move[initial_board2-0-2-X-True-expected_board2] \u001b[32mPASSED\u001b[0m\u001b[32m [ 23%]\u001b[0m\n",
      "test_tictactoe.py::test_make_move[initial_board3-1-0-X-True-expected_board3] \u001b[32mPASSED\u001b[0m\u001b[32m [ 30%]\u001b[0m\n",
      "test_tictactoe.py::test_make_move[initial_board4-1-1-X-True-expected_board4] \u001b[32mPASSED\u001b[0m\u001b[32m [ 38%]\u001b[0m\n",
      "test_tictactoe.py::test_make_move[initial_board5-1-2-X-True-expected_board5] \u001b[32mPASSED\u001b[0m\u001b[32m [ 46%]\u001b[0m\n",
      "test_tictactoe.py::test_make_move[initial_board6-2-0-X-True-expected_board6] \u001b[32mPASSED\u001b[0m\u001b[32m [ 53%]\u001b[0m\n",
      "test_tictactoe.py::test_make_move[initial_board7-2-1-X-True-expected_board7] \u001b[32mPASSED\u001b[0m\u001b[32m [ 61%]\u001b[0m\n",
      "test_tictactoe.py::test_make_move[initial_board8-2-2-X-True-expected_board8] \u001b[32mPASSED\u001b[0m\u001b[32m [ 69%]\u001b[0m\n",
      "test_tictactoe.py::test_make_move[initial_board9-0-0-O-False-expected_board9] \u001b[32mPASSED\u001b[0m\u001b[32m [ 76%]\u001b[0m\n",
      "test_tictactoe.py::test_make_move[initial_board10-1-1-O-True-expected_board10] \u001b[32mPASSED\u001b[0m\u001b[32m [ 84%]\u001b[0m\n",
      "test_tictactoe.py::test_make_move[initial_board11-3-3-X-expected_result11-expected_board11] \u001b[32mPASSED\u001b[0m\u001b[32m [ 92%]\u001b[0m\n",
      "test_tictactoe.py::test_make_move[initial_board12--1-0-X-expected_result12-expected_board12] \u001b[31mFAILED\u001b[0m\u001b[31m [100%]\u001b[0m\n",
      "\n",
      "================================== FAILURES ===================================\n",
      "\u001b[31m\u001b[1m__ test_make_move[initial_board12--1-0-X-expected_result12-expected_board12] __\u001b[0m\n",
      "\n",
      "initial_board = [['X', ' ', ' '], [' ', ' ', ' '], ['X', ' ', ' ']], row = -1\n",
      "col = 0, player = 'X'\n",
      "expected_result = <_pytest.python_api.RaisesContext object at 0x000001B7EE9E3010>\n",
      "expected_board = [[' ', ' ', ' '], [' ', ' ', ' '], [' ', ' ', ' ']]\n",
      "\n",
      "    \u001b[0m\u001b[37m@pytest\u001b[39;49;00m.mark.parametrize(\u001b[90m\u001b[39;49;00m\n",
      "        \u001b[33m\"\u001b[39;49;00m\u001b[33minitial_board, row, col, player, \u001b[39;49;00m\u001b[33m\"\u001b[39;49;00m\u001b[90m\u001b[39;49;00m\n",
      "        \u001b[33m\"\u001b[39;49;00m\u001b[33mexpected_result, expected_board\u001b[39;49;00m\u001b[33m\"\u001b[39;49;00m,\u001b[90m\u001b[39;49;00m\n",
      "        [\u001b[90m\u001b[39;49;00m\n",
      "            \u001b[90m# Test case 1: Empty board, valid moves for each cell (looped)\u001b[39;49;00m\u001b[90m\u001b[39;49;00m\n",
      "            \u001b[90m# *[] unpacking operator to unpack results of list comprehension\u001b[39;49;00m\u001b[90m\u001b[39;49;00m\n",
      "            \u001b[90m# into separate tuples for testing\u001b[39;49;00m\u001b[90m\u001b[39;49;00m\n",
      "            *[\u001b[90m\u001b[39;49;00m\n",
      "                (\u001b[90m\u001b[39;49;00m\n",
      "                    \u001b[90m# Initial empty board\u001b[39;49;00m\u001b[90m\u001b[39;49;00m\n",
      "                    [[\u001b[33m'\u001b[39;49;00m\u001b[33m \u001b[39;49;00m\u001b[33m'\u001b[39;49;00m, \u001b[33m'\u001b[39;49;00m\u001b[33m \u001b[39;49;00m\u001b[33m'\u001b[39;49;00m, \u001b[33m'\u001b[39;49;00m\u001b[33m \u001b[39;49;00m\u001b[33m'\u001b[39;49;00m],\u001b[90m\u001b[39;49;00m\n",
      "                     [\u001b[33m'\u001b[39;49;00m\u001b[33m \u001b[39;49;00m\u001b[33m'\u001b[39;49;00m, \u001b[33m'\u001b[39;49;00m\u001b[33m \u001b[39;49;00m\u001b[33m'\u001b[39;49;00m, \u001b[33m'\u001b[39;49;00m\u001b[33m \u001b[39;49;00m\u001b[33m'\u001b[39;49;00m],\u001b[90m\u001b[39;49;00m\n",
      "                     [\u001b[33m'\u001b[39;49;00m\u001b[33m \u001b[39;49;00m\u001b[33m'\u001b[39;49;00m, \u001b[33m'\u001b[39;49;00m\u001b[33m \u001b[39;49;00m\u001b[33m'\u001b[39;49;00m, \u001b[33m'\u001b[39;49;00m\u001b[33m \u001b[39;49;00m\u001b[33m'\u001b[39;49;00m]],\u001b[90m\u001b[39;49;00m\n",
      "    \u001b[90m\u001b[39;49;00m\n",
      "                    \u001b[90m# Place 'X' on each valid position (r, c)\u001b[39;49;00m\u001b[90m\u001b[39;49;00m\n",
      "                    r, c, \u001b[33m'\u001b[39;49;00m\u001b[33mX\u001b[39;49;00m\u001b[33m'\u001b[39;49;00m, \u001b[94mTrue\u001b[39;49;00m,\u001b[90m\u001b[39;49;00m\n",
      "    \u001b[90m\u001b[39;49;00m\n",
      "                    \u001b[90m# Expected board with 'X' in position (r, c)\u001b[39;49;00m\u001b[90m\u001b[39;49;00m\n",
      "                    [\u001b[90m\u001b[39;49;00m\n",
      "                        [\u001b[33m'\u001b[39;49;00m\u001b[33mX\u001b[39;49;00m\u001b[33m'\u001b[39;49;00m \u001b[94mif\u001b[39;49;00m (r == i \u001b[95mand\u001b[39;49;00m c == j) \u001b[94melse\u001b[39;49;00m \u001b[33m'\u001b[39;49;00m\u001b[33m \u001b[39;49;00m\u001b[33m'\u001b[39;49;00m \u001b[94mfor\u001b[39;49;00m j \u001b[95min\u001b[39;49;00m \u001b[96mrange\u001b[39;49;00m(\u001b[94m3\u001b[39;49;00m)]\u001b[90m\u001b[39;49;00m\n",
      "                        \u001b[94mfor\u001b[39;49;00m i \u001b[95min\u001b[39;49;00m \u001b[96mrange\u001b[39;49;00m(\u001b[94m3\u001b[39;49;00m)\u001b[90m\u001b[39;49;00m\n",
      "                    ]\u001b[90m\u001b[39;49;00m\n",
      "                )\u001b[90m\u001b[39;49;00m\n",
      "    \u001b[90m\u001b[39;49;00m\n",
      "                \u001b[90m# Loop over all valid positions (0,0) to (2,2)\u001b[39;49;00m\u001b[90m\u001b[39;49;00m\n",
      "                \u001b[94mfor\u001b[39;49;00m r \u001b[95min\u001b[39;49;00m \u001b[96mrange\u001b[39;49;00m(\u001b[94m3\u001b[39;49;00m) \u001b[94mfor\u001b[39;49;00m c \u001b[95min\u001b[39;49;00m \u001b[96mrange\u001b[39;49;00m(\u001b[94m3\u001b[39;49;00m)\u001b[90m\u001b[39;49;00m\n",
      "            ],\u001b[90m\u001b[39;49;00m\n",
      "    \u001b[90m\u001b[39;49;00m\n",
      "            \u001b[90m# Test case 2: Occupied cell, move should fail\u001b[39;49;00m\u001b[90m\u001b[39;49;00m\n",
      "            (\u001b[90m\u001b[39;49;00m\n",
      "                \u001b[90m# Initial board where one cell is taken\u001b[39;49;00m\u001b[90m\u001b[39;49;00m\n",
      "                [[\u001b[33m'\u001b[39;49;00m\u001b[33mX\u001b[39;49;00m\u001b[33m'\u001b[39;49;00m, \u001b[33m'\u001b[39;49;00m\u001b[33m \u001b[39;49;00m\u001b[33m'\u001b[39;49;00m, \u001b[33m'\u001b[39;49;00m\u001b[33m \u001b[39;49;00m\u001b[33m'\u001b[39;49;00m],\u001b[90m\u001b[39;49;00m\n",
      "                 [\u001b[33m'\u001b[39;49;00m\u001b[33m \u001b[39;49;00m\u001b[33m'\u001b[39;49;00m, \u001b[33m'\u001b[39;49;00m\u001b[33m \u001b[39;49;00m\u001b[33m'\u001b[39;49;00m, \u001b[33m'\u001b[39;49;00m\u001b[33m \u001b[39;49;00m\u001b[33m'\u001b[39;49;00m],\u001b[90m\u001b[39;49;00m\n",
      "                 [\u001b[33m'\u001b[39;49;00m\u001b[33m \u001b[39;49;00m\u001b[33m'\u001b[39;49;00m, \u001b[33m'\u001b[39;49;00m\u001b[33m \u001b[39;49;00m\u001b[33m'\u001b[39;49;00m, \u001b[33m'\u001b[39;49;00m\u001b[33m \u001b[39;49;00m\u001b[33m'\u001b[39;49;00m]],\u001b[90m\u001b[39;49;00m\n",
      "    \u001b[90m\u001b[39;49;00m\n",
      "                \u001b[90m# Move on the taken cell should return False\u001b[39;49;00m\u001b[90m\u001b[39;49;00m\n",
      "                \u001b[94m0\u001b[39;49;00m, \u001b[94m0\u001b[39;49;00m, \u001b[33m'\u001b[39;49;00m\u001b[33mO\u001b[39;49;00m\u001b[33m'\u001b[39;49;00m, \u001b[94mFalse\u001b[39;49;00m,\u001b[90m\u001b[39;49;00m\n",
      "    \u001b[90m\u001b[39;49;00m\n",
      "                \u001b[90m# Board should remain unchanged\u001b[39;49;00m\u001b[90m\u001b[39;49;00m\n",
      "                [[\u001b[33m'\u001b[39;49;00m\u001b[33mX\u001b[39;49;00m\u001b[33m'\u001b[39;49;00m, \u001b[33m'\u001b[39;49;00m\u001b[33m \u001b[39;49;00m\u001b[33m'\u001b[39;49;00m, \u001b[33m'\u001b[39;49;00m\u001b[33m \u001b[39;49;00m\u001b[33m'\u001b[39;49;00m],\u001b[90m\u001b[39;49;00m\n",
      "                 [\u001b[33m'\u001b[39;49;00m\u001b[33m \u001b[39;49;00m\u001b[33m'\u001b[39;49;00m, \u001b[33m'\u001b[39;49;00m\u001b[33m \u001b[39;49;00m\u001b[33m'\u001b[39;49;00m, \u001b[33m'\u001b[39;49;00m\u001b[33m \u001b[39;49;00m\u001b[33m'\u001b[39;49;00m],\u001b[90m\u001b[39;49;00m\n",
      "                 [\u001b[33m'\u001b[39;49;00m\u001b[33m \u001b[39;49;00m\u001b[33m'\u001b[39;49;00m, \u001b[33m'\u001b[39;49;00m\u001b[33m \u001b[39;49;00m\u001b[33m'\u001b[39;49;00m, \u001b[33m'\u001b[39;49;00m\u001b[33m \u001b[39;49;00m\u001b[33m'\u001b[39;49;00m]]\u001b[90m\u001b[39;49;00m\n",
      "            ),\u001b[90m\u001b[39;49;00m\n",
      "    \u001b[90m\u001b[39;49;00m\n",
      "            \u001b[90m# Test case 3: Valid move, place 'O' at (1, 1)\u001b[39;49;00m\u001b[90m\u001b[39;49;00m\n",
      "            (\u001b[90m\u001b[39;49;00m\n",
      "                \u001b[90m# Initial board\u001b[39;49;00m\u001b[90m\u001b[39;49;00m\n",
      "                [[\u001b[33m'\u001b[39;49;00m\u001b[33mX\u001b[39;49;00m\u001b[33m'\u001b[39;49;00m, \u001b[33m'\u001b[39;49;00m\u001b[33m \u001b[39;49;00m\u001b[33m'\u001b[39;49;00m, \u001b[33m'\u001b[39;49;00m\u001b[33m \u001b[39;49;00m\u001b[33m'\u001b[39;49;00m],\u001b[90m\u001b[39;49;00m\n",
      "                 [\u001b[33m'\u001b[39;49;00m\u001b[33m \u001b[39;49;00m\u001b[33m'\u001b[39;49;00m, \u001b[33m'\u001b[39;49;00m\u001b[33m \u001b[39;49;00m\u001b[33m'\u001b[39;49;00m, \u001b[33m'\u001b[39;49;00m\u001b[33m \u001b[39;49;00m\u001b[33m'\u001b[39;49;00m],\u001b[90m\u001b[39;49;00m\n",
      "                 [\u001b[33m'\u001b[39;49;00m\u001b[33m \u001b[39;49;00m\u001b[33m'\u001b[39;49;00m, \u001b[33m'\u001b[39;49;00m\u001b[33m \u001b[39;49;00m\u001b[33m'\u001b[39;49;00m, \u001b[33m'\u001b[39;49;00m\u001b[33m \u001b[39;49;00m\u001b[33m'\u001b[39;49;00m]],\u001b[90m\u001b[39;49;00m\n",
      "    \u001b[90m\u001b[39;49;00m\n",
      "                \u001b[90m# Move on a valid, empty cell\u001b[39;49;00m\u001b[90m\u001b[39;49;00m\n",
      "                \u001b[94m1\u001b[39;49;00m, \u001b[94m1\u001b[39;49;00m, \u001b[33m'\u001b[39;49;00m\u001b[33mO\u001b[39;49;00m\u001b[33m'\u001b[39;49;00m, \u001b[94mTrue\u001b[39;49;00m,\u001b[90m\u001b[39;49;00m\n",
      "    \u001b[90m\u001b[39;49;00m\n",
      "                \u001b[90m# Expected board with 'O' at (1, 1)\u001b[39;49;00m\u001b[90m\u001b[39;49;00m\n",
      "                [[\u001b[33m'\u001b[39;49;00m\u001b[33mX\u001b[39;49;00m\u001b[33m'\u001b[39;49;00m, \u001b[33m'\u001b[39;49;00m\u001b[33m \u001b[39;49;00m\u001b[33m'\u001b[39;49;00m, \u001b[33m'\u001b[39;49;00m\u001b[33m \u001b[39;49;00m\u001b[33m'\u001b[39;49;00m],\u001b[90m\u001b[39;49;00m\n",
      "                 [\u001b[33m'\u001b[39;49;00m\u001b[33m \u001b[39;49;00m\u001b[33m'\u001b[39;49;00m, \u001b[33m'\u001b[39;49;00m\u001b[33mO\u001b[39;49;00m\u001b[33m'\u001b[39;49;00m, \u001b[33m'\u001b[39;49;00m\u001b[33m \u001b[39;49;00m\u001b[33m'\u001b[39;49;00m],\u001b[90m\u001b[39;49;00m\n",
      "                 [\u001b[33m'\u001b[39;49;00m\u001b[33m \u001b[39;49;00m\u001b[33m'\u001b[39;49;00m, \u001b[33m'\u001b[39;49;00m\u001b[33m \u001b[39;49;00m\u001b[33m'\u001b[39;49;00m, \u001b[33m'\u001b[39;49;00m\u001b[33m \u001b[39;49;00m\u001b[33m'\u001b[39;49;00m]]\u001b[90m\u001b[39;49;00m\n",
      "            ),\u001b[90m\u001b[39;49;00m\n",
      "    \u001b[90m\u001b[39;49;00m\n",
      "            \u001b[90m# Test case 4: Out-of-bounds move (index too large), should raise IndexError\u001b[39;49;00m\u001b[90m\u001b[39;49;00m\n",
      "            (\u001b[90m\u001b[39;49;00m\n",
      "                \u001b[90m# Initial board\u001b[39;49;00m\u001b[90m\u001b[39;49;00m\n",
      "                [[\u001b[33m'\u001b[39;49;00m\u001b[33mX\u001b[39;49;00m\u001b[33m'\u001b[39;49;00m, \u001b[33m'\u001b[39;49;00m\u001b[33m \u001b[39;49;00m\u001b[33m'\u001b[39;49;00m, \u001b[33m'\u001b[39;49;00m\u001b[33m \u001b[39;49;00m\u001b[33m'\u001b[39;49;00m],\u001b[90m\u001b[39;49;00m\n",
      "                 [\u001b[33m'\u001b[39;49;00m\u001b[33m \u001b[39;49;00m\u001b[33m'\u001b[39;49;00m, \u001b[33m'\u001b[39;49;00m\u001b[33m \u001b[39;49;00m\u001b[33m'\u001b[39;49;00m, \u001b[33m'\u001b[39;49;00m\u001b[33m \u001b[39;49;00m\u001b[33m'\u001b[39;49;00m],\u001b[90m\u001b[39;49;00m\n",
      "                 [\u001b[33m'\u001b[39;49;00m\u001b[33m \u001b[39;49;00m\u001b[33m'\u001b[39;49;00m, \u001b[33m'\u001b[39;49;00m\u001b[33m \u001b[39;49;00m\u001b[33m'\u001b[39;49;00m, \u001b[33m'\u001b[39;49;00m\u001b[33m \u001b[39;49;00m\u001b[33m'\u001b[39;49;00m]],\u001b[90m\u001b[39;49;00m\n",
      "    \u001b[90m\u001b[39;49;00m\n",
      "                \u001b[90m# Move with too large index should raise error\u001b[39;49;00m\u001b[90m\u001b[39;49;00m\n",
      "                \u001b[94m3\u001b[39;49;00m, \u001b[94m3\u001b[39;49;00m, \u001b[33m'\u001b[39;49;00m\u001b[33mX\u001b[39;49;00m\u001b[33m'\u001b[39;49;00m, pytest.raises(\u001b[96mIndexError\u001b[39;49;00m),\u001b[90m\u001b[39;49;00m\n",
      "    \u001b[90m\u001b[39;49;00m\n",
      "                \u001b[90m# Board should remain unchanged\u001b[39;49;00m\u001b[90m\u001b[39;49;00m\n",
      "                [[\u001b[33m'\u001b[39;49;00m\u001b[33m \u001b[39;49;00m\u001b[33m'\u001b[39;49;00m, \u001b[33m'\u001b[39;49;00m\u001b[33m \u001b[39;49;00m\u001b[33m'\u001b[39;49;00m, \u001b[33m'\u001b[39;49;00m\u001b[33m \u001b[39;49;00m\u001b[33m'\u001b[39;49;00m],\u001b[90m\u001b[39;49;00m\n",
      "                 [\u001b[33m'\u001b[39;49;00m\u001b[33m \u001b[39;49;00m\u001b[33m'\u001b[39;49;00m, \u001b[33m'\u001b[39;49;00m\u001b[33m \u001b[39;49;00m\u001b[33m'\u001b[39;49;00m, \u001b[33m'\u001b[39;49;00m\u001b[33m \u001b[39;49;00m\u001b[33m'\u001b[39;49;00m],\u001b[90m\u001b[39;49;00m\n",
      "                 [\u001b[33m'\u001b[39;49;00m\u001b[33m \u001b[39;49;00m\u001b[33m'\u001b[39;49;00m, \u001b[33m'\u001b[39;49;00m\u001b[33m \u001b[39;49;00m\u001b[33m'\u001b[39;49;00m, \u001b[33m'\u001b[39;49;00m\u001b[33m \u001b[39;49;00m\u001b[33m'\u001b[39;49;00m]]\u001b[90m\u001b[39;49;00m\n",
      "            ),\u001b[90m\u001b[39;49;00m\n",
      "    \u001b[90m\u001b[39;49;00m\n",
      "            \u001b[90m# Test case 5: Out-of-bounds move (negative index), should raise IndexError\u001b[39;49;00m\u001b[90m\u001b[39;49;00m\n",
      "            (\u001b[90m\u001b[39;49;00m\n",
      "                \u001b[90m# Initial board\u001b[39;49;00m\u001b[90m\u001b[39;49;00m\n",
      "                [[\u001b[33m'\u001b[39;49;00m\u001b[33mX\u001b[39;49;00m\u001b[33m'\u001b[39;49;00m, \u001b[33m'\u001b[39;49;00m\u001b[33m \u001b[39;49;00m\u001b[33m'\u001b[39;49;00m, \u001b[33m'\u001b[39;49;00m\u001b[33m \u001b[39;49;00m\u001b[33m'\u001b[39;49;00m],\u001b[90m\u001b[39;49;00m\n",
      "                 [\u001b[33m'\u001b[39;49;00m\u001b[33m \u001b[39;49;00m\u001b[33m'\u001b[39;49;00m, \u001b[33m'\u001b[39;49;00m\u001b[33m \u001b[39;49;00m\u001b[33m'\u001b[39;49;00m, \u001b[33m'\u001b[39;49;00m\u001b[33m \u001b[39;49;00m\u001b[33m'\u001b[39;49;00m],\u001b[90m\u001b[39;49;00m\n",
      "                 [\u001b[33m'\u001b[39;49;00m\u001b[33m \u001b[39;49;00m\u001b[33m'\u001b[39;49;00m, \u001b[33m'\u001b[39;49;00m\u001b[33m \u001b[39;49;00m\u001b[33m'\u001b[39;49;00m, \u001b[33m'\u001b[39;49;00m\u001b[33m \u001b[39;49;00m\u001b[33m'\u001b[39;49;00m]],\u001b[90m\u001b[39;49;00m\n",
      "    \u001b[90m\u001b[39;49;00m\n",
      "                \u001b[90m# Move with negative index should raise error\u001b[39;49;00m\u001b[90m\u001b[39;49;00m\n",
      "                -\u001b[94m1\u001b[39;49;00m, \u001b[94m0\u001b[39;49;00m, \u001b[33m'\u001b[39;49;00m\u001b[33mX\u001b[39;49;00m\u001b[33m'\u001b[39;49;00m, pytest.raises(\u001b[96mIndexError\u001b[39;49;00m),\u001b[90m\u001b[39;49;00m\n",
      "    \u001b[90m\u001b[39;49;00m\n",
      "                \u001b[90m# Board should remain unchanged\u001b[39;49;00m\u001b[90m\u001b[39;49;00m\n",
      "                [[\u001b[33m'\u001b[39;49;00m\u001b[33m \u001b[39;49;00m\u001b[33m'\u001b[39;49;00m, \u001b[33m'\u001b[39;49;00m\u001b[33m \u001b[39;49;00m\u001b[33m'\u001b[39;49;00m, \u001b[33m'\u001b[39;49;00m\u001b[33m \u001b[39;49;00m\u001b[33m'\u001b[39;49;00m],\u001b[90m\u001b[39;49;00m\n",
      "                 [\u001b[33m'\u001b[39;49;00m\u001b[33m \u001b[39;49;00m\u001b[33m'\u001b[39;49;00m, \u001b[33m'\u001b[39;49;00m\u001b[33m \u001b[39;49;00m\u001b[33m'\u001b[39;49;00m, \u001b[33m'\u001b[39;49;00m\u001b[33m \u001b[39;49;00m\u001b[33m'\u001b[39;49;00m],\u001b[90m\u001b[39;49;00m\n",
      "                 [\u001b[33m'\u001b[39;49;00m\u001b[33m \u001b[39;49;00m\u001b[33m'\u001b[39;49;00m, \u001b[33m'\u001b[39;49;00m\u001b[33m \u001b[39;49;00m\u001b[33m'\u001b[39;49;00m, \u001b[33m'\u001b[39;49;00m\u001b[33m \u001b[39;49;00m\u001b[33m'\u001b[39;49;00m]]\u001b[90m\u001b[39;49;00m\n",
      "            )\u001b[90m\u001b[39;49;00m\n",
      "        ]\u001b[90m\u001b[39;49;00m\n",
      "    )\u001b[90m\u001b[39;49;00m\n",
      "    \u001b[94mdef\u001b[39;49;00m \u001b[92mtest_make_move\u001b[39;49;00m(\u001b[90m\u001b[39;49;00m\n",
      "        initial_board, row, col, player,\u001b[90m\u001b[39;49;00m\n",
      "        expected_result, expected_board\u001b[90m\u001b[39;49;00m\n",
      "        ):\u001b[90m\u001b[39;49;00m\n",
      "    \u001b[90m    \u001b[39;49;00m\u001b[33m\"\"\"\u001b[39;49;00m\n",
      "    \u001b[33m    Test make_move's behaviour under different scenarios:\u001b[39;49;00m\n",
      "    \u001b[33m    1. Empty Board: A completely empty board where any\u001b[39;49;00m\n",
      "    \u001b[33m    valid move should succeed.\u001b[39;49;00m\n",
      "    \u001b[33m    2. Occupied Cell: A board where one cell is already\u001b[39;49;00m\n",
      "    \u001b[33m    taken. Making a move on that cell should returns False.\u001b[39;49;00m\n",
      "    \u001b[33m    3. Valid Move: A board where you attempt to place a\u001b[39;49;00m\n",
      "    \u001b[33m    move on a valid, empty cell.\u001b[39;49;00m\n",
      "    \u001b[33m    4. Out-of-Bounds Moves: Consider moves where row or col\u001b[39;49;00m\n",
      "    \u001b[33m    is outside the 3x3 grid. Should raise an IndexError.\u001b[39;49;00m\n",
      "    \u001b[33m    \"\"\"\u001b[39;49;00m\u001b[90m\u001b[39;49;00m\n",
      "        \u001b[90m# Test cases where an exception is expected (out-of-bounds moves)\u001b[39;49;00m\u001b[90m\u001b[39;49;00m\n",
      "        \u001b[94mif\u001b[39;49;00m \u001b[96misinstance\u001b[39;49;00m(expected_result, \u001b[96mtype\u001b[39;49;00m(pytest.raises(\u001b[96mIndexError\u001b[39;49;00m))):\u001b[90m\u001b[39;49;00m\n",
      ">           \u001b[94mwith\u001b[39;49;00m expected_result:\u001b[90m\u001b[39;49;00m\n",
      "\u001b[1m\u001b[31mE           Failed: DID NOT RAISE <class 'IndexError'>\u001b[0m\n",
      "\n",
      "\u001b[1m\u001b[31mtest_tictactoe.py\u001b[0m:316: Failed\n",
      "\u001b[36m\u001b[1m=========================== short test summary info ===========================\u001b[0m\n",
      "\u001b[31mFAILED\u001b[0m test_tictactoe.py::\u001b[1mtest_make_move[initial_board12--1-0-X-expected_result12-expected_board12]\u001b[0m - Failed: DID NOT RAISE <class 'IndexError'>\n",
      "\u001b[31m======================== \u001b[31m\u001b[1m1 failed\u001b[0m, \u001b[32m12 passed\u001b[0m\u001b[31m in 0.13s\u001b[0m\u001b[31m =========================\u001b[0m\n"
     ]
    }
   ],
   "source": [
    "!pytest -vv test_tictactoe.py::test_make_move"
   ]
  },
  {
   "cell_type": "markdown",
   "metadata": {},
   "source": [
    "From our results above, the final test case with out-of-bounds (negative index) move `make_move(initial_board, -1, 0, 'X')` failed. Giving a negative row input did not cause the `make_move()` function to return an IndexError. Let us investigate what happens when we make negative index moves:"
   ]
  },
  {
   "cell_type": "code",
   "execution_count": 13,
   "metadata": {},
   "outputs": [
    {
     "name": "stdout",
     "output_type": "stream",
     "text": [
      "The move succeeded?: True\n",
      "The final board is:\n",
      "[[' ', ' ', ' '], [' ', ' ', ' '], ['X', ' ', ' ']]\n"
     ]
    }
   ],
   "source": [
    "import tictactoe   # Import functions from tictactoe.py\n",
    "\n",
    "# Initialize an empty 3x3 Tic-Tac-Toe board\n",
    "board = tictactoe.initialize_board()\n",
    "\n",
    "# Make a move with an out-of-bound negative row index -1\n",
    "move = tictactoe.make_move(board, -1, 0, 'X')\n",
    "\n",
    "# Investigate what happened\n",
    "print(f\"The move succeeded?: {move}\")\n",
    "print(f\"The final board is:\\n{board}\")"
   ]
  },
  {
   "cell_type": "markdown",
   "metadata": {},
   "source": [
    "From here, we see that when we give negative indices, the code counts backward from the highest index, so row index -1 is equivalent to row index 2 (the maximnum row index)."
   ]
  },
  {
   "cell_type": "markdown",
   "metadata": {},
   "source": [
    "**2b. Use the pytest `fixture` functionality to create a common setup for a game board that will be used in multiple test functions. Ensure that this fixture initializes a fresh board before each test to maintain test independence.**\n",
    "\n",
    "I set up a `set_board` fixture in `test_tictactoe.py` and built a number of test functions which take `set_board` as an input:\n",
    "\n",
    "- test_valid_moves_fixture()\n",
    "- test_out_of_bounds_moves_fixture()\n",
    "- test_occupied_cell_fixture()\n",
    "\n",
    "I run these tests below to show that they work:"
   ]
  },
  {
   "cell_type": "code",
   "execution_count": 16,
   "metadata": {},
   "outputs": [
    {
     "name": "stdout",
     "output_type": "stream",
     "text": [
      "\u001b[1m============================= test session starts =============================\u001b[0m\n",
      "platform win32 -- Python 3.10.5, pytest-8.3.3, pluggy-1.5.0 -- C:\\Users\\gideo\\.pyenv\\pyenv-win\\versions\\3.10.5\\python.exe\n",
      "cachedir: .pytest_cache\n",
      "rootdir: c:\\Users\\gideo\\OneDrive\\Desktop\\Columbia\\5072_MDS\\Tay_Gideon\\hw06\n",
      "plugins: anyio-4.6.0\n",
      "\u001b[1mcollecting ... \u001b[0mcollected 8 items\n",
      "\n",
      "test_tictactoe.py::test_valid_moves_fixture[O-0-1] \u001b[32mPASSED\u001b[0m\u001b[32m                [ 12%]\u001b[0m\n",
      "test_tictactoe.py::test_valid_moves_fixture[O-0-2] \u001b[32mPASSED\u001b[0m\u001b[32m                [ 25%]\u001b[0m\n",
      "test_tictactoe.py::test_valid_moves_fixture[O-1-0] \u001b[32mPASSED\u001b[0m\u001b[32m                [ 37%]\u001b[0m\n",
      "test_tictactoe.py::test_valid_moves_fixture[O-1-1] \u001b[32mPASSED\u001b[0m\u001b[32m                [ 50%]\u001b[0m\n",
      "test_tictactoe.py::test_valid_moves_fixture[O-1-2] \u001b[32mPASSED\u001b[0m\u001b[32m                [ 62%]\u001b[0m\n",
      "test_tictactoe.py::test_valid_moves_fixture[O-2-0] \u001b[32mPASSED\u001b[0m\u001b[32m                [ 75%]\u001b[0m\n",
      "test_tictactoe.py::test_valid_moves_fixture[O-2-1] \u001b[32mPASSED\u001b[0m\u001b[32m                [ 87%]\u001b[0m\n",
      "test_tictactoe.py::test_valid_moves_fixture[O-2-2] \u001b[32mPASSED\u001b[0m\u001b[32m                [100%]\u001b[0m\n",
      "\n",
      "\u001b[32m============================== \u001b[32m\u001b[1m8 passed\u001b[0m\u001b[32m in 0.03s\u001b[0m\u001b[32m ==============================\u001b[0m\n"
     ]
    }
   ],
   "source": [
    "!pytest -vv test_tictactoe.py::test_valid_moves_fixture"
   ]
  },
  {
   "cell_type": "code",
   "execution_count": 17,
   "metadata": {},
   "outputs": [
    {
     "name": "stdout",
     "output_type": "stream",
     "text": [
      "\u001b[1m============================= test session starts =============================\u001b[0m\n",
      "platform win32 -- Python 3.10.5, pytest-8.3.3, pluggy-1.5.0 -- C:\\Users\\gideo\\.pyenv\\pyenv-win\\versions\\3.10.5\\python.exe\n",
      "cachedir: .pytest_cache\n",
      "rootdir: c:\\Users\\gideo\\OneDrive\\Desktop\\Columbia\\5072_MDS\\Tay_Gideon\\hw06\n",
      "plugins: anyio-4.6.0\n",
      "\u001b[1mcollecting ... \u001b[0mcollected 2 items\n",
      "\n",
      "test_tictactoe.py::test_out_of_bounds_moves_fixture[X-3-0-expected_result0] \u001b[32mPASSED\u001b[0m\u001b[32m [ 50%]\u001b[0m\n",
      "test_tictactoe.py::test_out_of_bounds_moves_fixture[X-0-3-expected_result1] \u001b[32mPASSED\u001b[0m\u001b[32m [100%]\u001b[0m\n",
      "\n",
      "\u001b[32m============================== \u001b[32m\u001b[1m2 passed\u001b[0m\u001b[32m in 0.02s\u001b[0m\u001b[32m ==============================\u001b[0m\n"
     ]
    }
   ],
   "source": [
    "!pytest -vv test_tictactoe.py::test_out_of_bounds_moves_fixture"
   ]
  },
  {
   "cell_type": "code",
   "execution_count": 19,
   "metadata": {},
   "outputs": [
    {
     "name": "stdout",
     "output_type": "stream",
     "text": [
      "\u001b[1m============================= test session starts =============================\u001b[0m\n",
      "platform win32 -- Python 3.10.5, pytest-8.3.3, pluggy-1.5.0 -- C:\\Users\\gideo\\.pyenv\\pyenv-win\\versions\\3.10.5\\python.exe\n",
      "cachedir: .pytest_cache\n",
      "rootdir: c:\\Users\\gideo\\OneDrive\\Desktop\\Columbia\\5072_MDS\\Tay_Gideon\\hw06\n",
      "plugins: anyio-4.6.0\n",
      "\u001b[1mcollecting ... \u001b[0mcollected 1 item\n",
      "\n",
      "test_tictactoe.py::test_occupied_cell_fixture \u001b[32mPASSED\u001b[0m\u001b[32m                     [100%]\u001b[0m\n",
      "\n",
      "\u001b[32m============================== \u001b[32m\u001b[1m1 passed\u001b[0m\u001b[32m in 0.02s\u001b[0m\u001b[32m ==============================\u001b[0m\n"
     ]
    }
   ],
   "source": [
    "!pytest -vv test_tictactoe.py::test_occupied_cell_fixture"
   ]
  },
  {
   "cell_type": "markdown",
   "metadata": {},
   "source": [
    "### 3. (Extra) Unit test for `check_winner`\n",
    "\n",
    "I created an additional test `test_check_winner` that is not explicitly asked for in the homework, but which I believe is useful.\n",
    "\n",
    "We have only tested `check_winner` as part of an integration test in question (1d), but have not tested it separately with a unit test. Even  in the integration test, we only tested the function's ability to detect an 'X' winner or an ongoing game. We have not tested the function's ability to check for a draw or an 'O' winner.\n",
    "\n",
    "We test the following scenarios:\n",
    "- Draw: no more possible moves, all cells filled (return `Draw`)\n",
    "- X wins (return `X`)\n",
    "- O wins (return `O`)\n",
    "- Ongoing game: a winner is still possible (return `None`)\n",
    "- Ongoing game: no way for any player to win but valid moves still possible (return `None`)"
   ]
  },
  {
   "cell_type": "code",
   "execution_count": 22,
   "metadata": {},
   "outputs": [
    {
     "name": "stdout",
     "output_type": "stream",
     "text": [
      "\u001b[1m============================= test session starts =============================\u001b[0m\n",
      "platform win32 -- Python 3.10.5, pytest-8.3.3, pluggy-1.5.0 -- C:\\Users\\gideo\\.pyenv\\pyenv-win\\versions\\3.10.5\\python.exe\n",
      "cachedir: .pytest_cache\n",
      "rootdir: c:\\Users\\gideo\\OneDrive\\Desktop\\Columbia\\5072_MDS\\Tay_Gideon\\hw06\n",
      "plugins: anyio-4.6.0\n",
      "\u001b[1mcollecting ... \u001b[0mcollected 5 items\n",
      "\n",
      "test_tictactoe.py::test_check_winner[board0-Draw] \u001b[32mPASSED\u001b[0m\u001b[32m                 [ 20%]\u001b[0m\n",
      "test_tictactoe.py::test_check_winner[board1-X] \u001b[32mPASSED\u001b[0m\u001b[32m                    [ 40%]\u001b[0m\n",
      "test_tictactoe.py::test_check_winner[board2-O] \u001b[32mPASSED\u001b[0m\u001b[32m                    [ 60%]\u001b[0m\n",
      "test_tictactoe.py::test_check_winner[board3-None] \u001b[32mPASSED\u001b[0m\u001b[32m                 [ 80%]\u001b[0m\n",
      "test_tictactoe.py::test_check_winner[board4-None] \u001b[32mPASSED\u001b[0m\u001b[32m                 [100%]\u001b[0m\n",
      "\n",
      "\u001b[32m============================== \u001b[32m\u001b[1m5 passed\u001b[0m\u001b[32m in 0.03s\u001b[0m\u001b[32m ==============================\u001b[0m\n"
     ]
    }
   ],
   "source": [
    "!pytest -vv test_tictactoe.py::test_check_winner"
   ]
  },
  {
   "cell_type": "markdown",
   "metadata": {},
   "source": [
    "All tests pass. Importantly, note that our final scenario shows that for cases where there is clearly no way for either player to win even if the game continues, `check_winner` still returns `None` and treats the game as still ongoing, as long as there is at least one unfilled cell.\n",
    "\n",
    "While not technically wrong, perhaps it would be better to produce a `check_winner` function that returns `Draw` when the game has reached a stage where there clearly is no possibility for either player to win, even though valid moves are still available."
   ]
  }
 ],
 "metadata": {
  "kernelspec": {
   "display_name": "Python 3",
   "language": "python",
   "name": "python3"
  },
  "language_info": {
   "codemirror_mode": {
    "name": "ipython",
    "version": 3
   },
   "file_extension": ".py",
   "mimetype": "text/x-python",
   "name": "python",
   "nbconvert_exporter": "python",
   "pygments_lexer": "ipython3",
   "version": "3.10.5"
  }
 },
 "nbformat": 4,
 "nbformat_minor": 2
}
