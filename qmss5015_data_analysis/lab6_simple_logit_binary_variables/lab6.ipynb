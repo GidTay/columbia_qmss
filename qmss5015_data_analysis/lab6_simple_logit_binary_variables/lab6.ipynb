{
 "cells": [
  {
   "cell_type": "markdown",
   "metadata": {
    "id": "b1rmFKvOOwHT"
   },
   "source": [
    "# Lab 6 (QMSS5015 Data Analysis)\n",
    "**Submitted by**: Gideon Tay\\\n",
    "**My UNI**: gt2528\\\n",
    "**Contact me at**: gideon.tay@columbia.edu\n",
    "\n",
    "**Overview**: for this lab, we will explore the factors affecting the Total early-stage Entrepreneurial Activity (TEA) in a country."
   ]
  },
  {
   "cell_type": "markdown",
   "metadata": {},
   "source": [
    "### Import libraries and load in the data\n",
    "For this lab, I will use the data from Global Entrepreneurship Monitor's [Adult Population Survey (APS)](https://www.gemconsortium.org/data/sets?id=aps). Download their 2020 cross-sectional national level data 'GEM 2020 APS Global National Level Data' as a 'sav' file.\n",
    "\n",
    "Moreover, supplement this dataset with  University of Gothenburg's Quality of Government (QoG) Institute's basic cross-sectional dataset which includes data on countries from around 2020. Download the dataset as a csv from [the website](https://www.gu.se/en/quality-government/qog-data/data-downloads/basic-dataset).\n",
    "\n",
    "Since our key dependent variable of interest, the TEA, is found in the GEM dataset, we will left join the QoG dataset to the GEM dataset on country names. We do not need additional data for countries without TEA data."
   ]
  },
  {
   "cell_type": "code",
   "execution_count": 3,
   "metadata": {},
   "outputs": [
    {
     "name": "stdout",
     "output_type": "stream",
     "text": [
      "Merged dataframe shape: (43, 574)\n",
      "No. of countries in merged dataset: 43\n",
      "No. of variables in merged dataset: 574\n"
     ]
    },
    {
     "data": {
      "text/html": [
       "<div>\n",
       "<style scoped>\n",
       "    .dataframe tbody tr th:only-of-type {\n",
       "        vertical-align: middle;\n",
       "    }\n",
       "\n",
       "    .dataframe tbody tr th {\n",
       "        vertical-align: top;\n",
       "    }\n",
       "\n",
       "    .dataframe thead th {\n",
       "        text-align: right;\n",
       "    }\n",
       "</style>\n",
       "<table border=\"1\" class=\"dataframe\">\n",
       "  <thead>\n",
       "    <tr style=\"text-align: right;\">\n",
       "      <th></th>\n",
       "      <th>country</th>\n",
       "      <th>country_name</th>\n",
       "      <th>ctryalp</th>\n",
       "      <th>REGION</th>\n",
       "      <th>WBinc</th>\n",
       "      <th>WBincREV</th>\n",
       "      <th>Bstart20</th>\n",
       "      <th>Bjobst20</th>\n",
       "      <th>Ownmge20</th>\n",
       "      <th>OMJOBST09</th>\n",
       "      <th>...</th>\n",
       "      <th>wvs_imprel</th>\n",
       "      <th>wvs_pmi12</th>\n",
       "      <th>wvs_psarmy</th>\n",
       "      <th>wvs_psdem</th>\n",
       "      <th>wvs_psexp</th>\n",
       "      <th>wvs_pssl</th>\n",
       "      <th>wvs_relacc</th>\n",
       "      <th>wvs_satfin</th>\n",
       "      <th>wvs_subh</th>\n",
       "      <th>wvs_trust</th>\n",
       "    </tr>\n",
       "  </thead>\n",
       "  <tbody>\n",
       "    <tr>\n",
       "      <th>0</th>\n",
       "      <td>United States</td>\n",
       "      <td>United States</td>\n",
       "      <td>United States</td>\n",
       "      <td>Europe &amp; N America</td>\n",
       "      <td>High</td>\n",
       "      <td>High</td>\n",
       "      <td>16.849614</td>\n",
       "      <td>7.602326</td>\n",
       "      <td>22.299814</td>\n",
       "      <td>12.575008</td>\n",
       "      <td>...</td>\n",
       "      <td>NaN</td>\n",
       "      <td>NaN</td>\n",
       "      <td>NaN</td>\n",
       "      <td>NaN</td>\n",
       "      <td>NaN</td>\n",
       "      <td>NaN</td>\n",
       "      <td>NaN</td>\n",
       "      <td>NaN</td>\n",
       "      <td>NaN</td>\n",
       "      <td>NaN</td>\n",
       "    </tr>\n",
       "    <tr>\n",
       "      <th>1</th>\n",
       "      <td>Russia</td>\n",
       "      <td>Russia</td>\n",
       "      <td>Russia</td>\n",
       "      <td>Europe &amp; N America</td>\n",
       "      <td>Upper Middle</td>\n",
       "      <td>Middle</td>\n",
       "      <td>10.667370</td>\n",
       "      <td>4.638994</td>\n",
       "      <td>10.464741</td>\n",
       "      <td>4.251621</td>\n",
       "      <td>...</td>\n",
       "      <td>NaN</td>\n",
       "      <td>NaN</td>\n",
       "      <td>NaN</td>\n",
       "      <td>NaN</td>\n",
       "      <td>NaN</td>\n",
       "      <td>NaN</td>\n",
       "      <td>NaN</td>\n",
       "      <td>NaN</td>\n",
       "      <td>NaN</td>\n",
       "      <td>NaN</td>\n",
       "    </tr>\n",
       "    <tr>\n",
       "      <th>2</th>\n",
       "      <td>Egypt</td>\n",
       "      <td>Egypt</td>\n",
       "      <td>Egypt</td>\n",
       "      <td>Midde East &amp; Africa</td>\n",
       "      <td>Lower Middle</td>\n",
       "      <td>Low</td>\n",
       "      <td>24.651582</td>\n",
       "      <td>18.156956</td>\n",
       "      <td>13.196965</td>\n",
       "      <td>8.448652</td>\n",
       "      <td>...</td>\n",
       "      <td>3.973333</td>\n",
       "      <td>1.074956</td>\n",
       "      <td>NaN</td>\n",
       "      <td>3.558736</td>\n",
       "      <td>2.824890</td>\n",
       "      <td>2.058824</td>\n",
       "      <td>NaN</td>\n",
       "      <td>4.693912</td>\n",
       "      <td>3.573333</td>\n",
       "      <td>0.073517</td>\n",
       "    </tr>\n",
       "    <tr>\n",
       "      <th>3</th>\n",
       "      <td>Greece</td>\n",
       "      <td>Greece</td>\n",
       "      <td>Greece</td>\n",
       "      <td>Europe &amp; N America</td>\n",
       "      <td>High</td>\n",
       "      <td>High</td>\n",
       "      <td>7.818968</td>\n",
       "      <td>2.982604</td>\n",
       "      <td>21.878063</td>\n",
       "      <td>9.059493</td>\n",
       "      <td>...</td>\n",
       "      <td>3.305018</td>\n",
       "      <td>1.886518</td>\n",
       "      <td>1.288997</td>\n",
       "      <td>3.800163</td>\n",
       "      <td>1.850303</td>\n",
       "      <td>1.408279</td>\n",
       "      <td>2.417056</td>\n",
       "      <td>4.983506</td>\n",
       "      <td>4.164913</td>\n",
       "      <td>0.085268</td>\n",
       "    </tr>\n",
       "    <tr>\n",
       "      <th>4</th>\n",
       "      <td>Netherlands</td>\n",
       "      <td>Netherlands</td>\n",
       "      <td>Netherlands</td>\n",
       "      <td>Europe &amp; N America</td>\n",
       "      <td>High</td>\n",
       "      <td>High</td>\n",
       "      <td>12.806618</td>\n",
       "      <td>10.197113</td>\n",
       "      <td>19.698468</td>\n",
       "      <td>11.636242</td>\n",
       "      <td>...</td>\n",
       "      <td>NaN</td>\n",
       "      <td>NaN</td>\n",
       "      <td>NaN</td>\n",
       "      <td>NaN</td>\n",
       "      <td>NaN</td>\n",
       "      <td>NaN</td>\n",
       "      <td>NaN</td>\n",
       "      <td>NaN</td>\n",
       "      <td>NaN</td>\n",
       "      <td>NaN</td>\n",
       "    </tr>\n",
       "  </tbody>\n",
       "</table>\n",
       "<p>5 rows × 574 columns</p>\n",
       "</div>"
      ],
      "text/plain": [
       "         country   country_name        ctryalp               REGION  \\\n",
       "0  United States  United States  United States   Europe & N America   \n",
       "1         Russia         Russia         Russia   Europe & N America   \n",
       "2          Egypt          Egypt          Egypt  Midde East & Africa   \n",
       "3         Greece         Greece         Greece   Europe & N America   \n",
       "4    Netherlands    Netherlands    Netherlands   Europe & N America   \n",
       "\n",
       "          WBinc WBincREV   Bstart20   Bjobst20   Ownmge20  OMJOBST09  ...  \\\n",
       "0          High     High  16.849614   7.602326  22.299814  12.575008  ...   \n",
       "1  Upper Middle   Middle  10.667370   4.638994  10.464741   4.251621  ...   \n",
       "2  Lower Middle      Low  24.651582  18.156956  13.196965   8.448652  ...   \n",
       "3          High     High   7.818968   2.982604  21.878063   9.059493  ...   \n",
       "4          High     High  12.806618  10.197113  19.698468  11.636242  ...   \n",
       "\n",
       "   wvs_imprel  wvs_pmi12  wvs_psarmy  wvs_psdem  wvs_psexp  wvs_pssl  \\\n",
       "0         NaN        NaN         NaN        NaN        NaN       NaN   \n",
       "1         NaN        NaN         NaN        NaN        NaN       NaN   \n",
       "2    3.973333   1.074956         NaN   3.558736   2.824890  2.058824   \n",
       "3    3.305018   1.886518    1.288997   3.800163   1.850303  1.408279   \n",
       "4         NaN        NaN         NaN        NaN        NaN       NaN   \n",
       "\n",
       "   wvs_relacc  wvs_satfin  wvs_subh  wvs_trust  \n",
       "0         NaN         NaN       NaN        NaN  \n",
       "1         NaN         NaN       NaN        NaN  \n",
       "2         NaN    4.693912  3.573333   0.073517  \n",
       "3    2.417056    4.983506  4.164913   0.085268  \n",
       "4         NaN         NaN       NaN        NaN  \n",
       "\n",
       "[5 rows x 574 columns]"
      ]
     },
     "execution_count": 3,
     "metadata": {},
     "output_type": "execute_result"
    }
   ],
   "source": [
    "# Import libraries needed for this lab assignment\n",
    "import pandas as pd\n",
    "import numpy as np\n",
    "import statsmodels.api as sm\n",
    "import statsmodels.formula.api as smf\n",
    "\n",
    "# Load in the data from the sav and csv stored in the local directory\n",
    "df1 = pd.read_spss('GEM 2020 APS Global National Level Data_7April2021.sav')\n",
    "df2 = pd.read_csv('qog_bas_cs_jan24.csv')\n",
    "\n",
    "# Left join the GEM and QoG datasets\n",
    "df = pd.merge(df1, df2, left_on='country', right_on='cname', how='left')\n",
    "\n",
    "# Print the shape of the resulting dataset\n",
    "print('Merged dataframe shape:', df.shape)\n",
    "print('No. of countries in merged dataset:', df.shape[0])\n",
    "print('No. of variables in merged dataset:', df.shape[1])\n",
    "\n",
    "# View the first 5 rows of the data\n",
    "df.head(5)"
   ]
  },
  {
   "cell_type": "markdown",
   "metadata": {
    "id": "xB8BkBNuIn3g"
   },
   "source": [
    "### 1. Run a multiple linear probability model (have at least 2 Xs in the model). Tell me how you think your independent variables will affect your dependent variable. Interpret your results. Were your expectations correct? Why or why not?"
   ]
  },
  {
   "cell_type": "markdown",
   "metadata": {
    "id": "kUjEOAQQK1ZC"
   },
   "source": [
    "**Dependent variable (`TEA20`)**: the Total early-stage Entrepreneurial Activity (TEA) index. It is defined as the percentage of the 18-64 population who is either an active full or part owner of a nascent business which has not yet paid salaries for over 3 months, or owner-manager of a new business which has paid salaries for between 3 and 42 months.\n",
    "\n",
    "**Independent variables (X)**: we think the following variables are associated with TEA\n",
    "- **Property rights (`wef_pr`)**: In your country, to what extent are property rights, including financial assets, protected? [1 = not at all; 7 = to a great extent]\n",
    "- **Informal investor activity (`BUSANGVL`)**: the percentage of respondents who were informal investors in the last 3 years (and provided value of investment).\n",
    "- **Perceived opportunities (`Opport20`)**: the percentage of 18-64 population who think that in the next 6 months there will be good opportunities for starting a business in the area where they live\n",
    "\n",
    "**Expectation**: I believe that high TEA should be positively associated with a stronger property rights (`wef_pr`), higher informal investor activity (`BUSANGVL`) , and higher levels of perceived opportunities (`Opport20`).\n",
    "\n",
    "Let's first drop all rows (countries) with incomplete data (without our variables of interest), since those rows are not suitable for analysis:"
   ]
  },
  {
   "cell_type": "code",
   "execution_count": null,
   "metadata": {
    "id": "1lbkbXdqI8UA"
   },
   "outputs": [
    {
     "name": "stdout",
     "output_type": "stream",
     "text": [
      "Dataframe shape after dropping countries with incomplete data: (34, 574)\n",
      "No. of countries in dataset: 34\n",
      "No. of variables in dataset: 574\n"
     ]
    }
   ],
   "source": [
    "# Drop rows with incomplete data\n",
    "sub = df.dropna(subset = ['TEA20', 'wef_pr', 'BUSANGVL', 'Opport20'])\n",
    "\n",
    "# Print the shape of the resulting dataset\n",
    "print('Dataframe shape after dropping countries with incomplete data:',\n",
    "      f'{sub.shape}')\n",
    "print('No. of countries in dataset:', sub.shape[0])\n",
    "print('No. of variables in dataset:', sub.shape[1])"
   ]
  },
  {
   "cell_type": "markdown",
   "metadata": {},
   "source": [
    "The TEA data in theory ranges from 0 to 100 since it is a percentage. Let's find the range of TEA for countries in our dataset:"
   ]
  },
  {
   "cell_type": "code",
   "execution_count": 10,
   "metadata": {},
   "outputs": [
    {
     "name": "stdout",
     "output_type": "stream",
     "text": [
      "Maximum TEA: 49.62224395590331\n",
      "Minimum TEA: 1.9243090378454775\n",
      "Median TEA: 11.96330017280575\n"
     ]
    }
   ],
   "source": [
    "# Find min and max TEA in our dataset\n",
    "maxTEA = sub[\"TEA20\"].max()\n",
    "minTEA = sub[\"TEA20\"].min()\n",
    "medianTEA = sub[\"TEA20\"].median()\n",
    "print(f\"Maximum TEA: {maxTEA}\")\n",
    "print(f\"Minimum TEA: {minTEA}\")\n",
    "print(f\"Median TEA: {medianTEA}\")"
   ]
  },
  {
   "cell_type": "markdown",
   "metadata": {},
   "source": [
    "**Recode TEA to binary variable**: Given this TEA range, let's recode TEA into a binary variable so low TEA (0 to 12) is 0 and high TEA (>12 to 100) is 1. Based on this definition, let's view the number of high and low TEA countries:"
   ]
  },
  {
   "cell_type": "code",
   "execution_count": 12,
   "metadata": {
    "colab": {
     "base_uri": "https://localhost:8080/"
    },
    "id": "98dP398ksEQ_",
    "outputId": "b6a10e36-d059-4a4d-e70e-6cfb3addc7d7"
   },
   "outputs": [
    {
     "name": "stderr",
     "output_type": "stream",
     "text": [
      "C:\\Users\\gideo\\AppData\\Local\\Temp\\ipykernel_11872\\712408503.py:4: SettingWithCopyWarning: \n",
      "A value is trying to be set on a copy of a slice from a DataFrame.\n",
      "Try using .loc[row_indexer,col_indexer] = value instead\n",
      "\n",
      "See the caveats in the documentation: https://pandas.pydata.org/pandas-docs/stable/user_guide/indexing.html#returning-a-view-versus-a-copy\n",
      "  sub['high_TEA'] = np.select(conditions, choices, default=np.nan)\n"
     ]
    },
    {
     "data": {
      "text/html": [
       "<div>\n",
       "<style scoped>\n",
       "    .dataframe tbody tr th:only-of-type {\n",
       "        vertical-align: middle;\n",
       "    }\n",
       "\n",
       "    .dataframe tbody tr th {\n",
       "        vertical-align: top;\n",
       "    }\n",
       "\n",
       "    .dataframe thead th {\n",
       "        text-align: right;\n",
       "    }\n",
       "</style>\n",
       "<table border=\"1\" class=\"dataframe\">\n",
       "  <thead>\n",
       "    <tr style=\"text-align: right;\">\n",
       "      <th>col_0</th>\n",
       "      <th>count</th>\n",
       "    </tr>\n",
       "    <tr>\n",
       "      <th>high_TEA</th>\n",
       "      <th></th>\n",
       "    </tr>\n",
       "  </thead>\n",
       "  <tbody>\n",
       "    <tr>\n",
       "      <th>0.0</th>\n",
       "      <td>17</td>\n",
       "    </tr>\n",
       "    <tr>\n",
       "      <th>1.0</th>\n",
       "      <td>17</td>\n",
       "    </tr>\n",
       "  </tbody>\n",
       "</table>\n",
       "</div>"
      ],
      "text/plain": [
       "col_0     count\n",
       "high_TEA       \n",
       "0.0          17\n",
       "1.0          17"
      ]
     },
     "execution_count": 12,
     "metadata": {},
     "output_type": "execute_result"
    }
   ],
   "source": [
    "# Recode high and low TEA\n",
    "conditions = [(sub['TEA20'] <= 12) , (sub['TEA20'] > 12)]\n",
    "choices = [0, 1]\n",
    "sub['high_TEA'] = np.select(conditions, choices, default=np.nan)\n",
    "\n",
    "# Display number of high and low TEA countries\n",
    "pd.crosstab(index=sub[\"high_TEA\"], columns=\"count\")"
   ]
  },
  {
   "cell_type": "markdown",
   "metadata": {},
   "source": [
    "**Run model**: Now, let's run a multiple linear probability model..."
   ]
  },
  {
   "cell_type": "code",
   "execution_count": 14,
   "metadata": {
    "colab": {
     "base_uri": "https://localhost:8080/"
    },
    "id": "k5xrGvsFuOFR",
    "outputId": "f3ca9c6d-e8f6-49a3-c69e-d3c8de403e3f"
   },
   "outputs": [
    {
     "name": "stdout",
     "output_type": "stream",
     "text": [
      "                            OLS Regression Results                            \n",
      "==============================================================================\n",
      "Dep. Variable:               high_TEA   R-squared:                       0.399\n",
      "Model:                            OLS   Adj. R-squared:                  0.339\n",
      "Method:                 Least Squares   F-statistic:                     6.635\n",
      "Date:                Fri, 06 Dec 2024   Prob (F-statistic):            0.00143\n",
      "Time:                        10:57:02   Log-Likelihood:                -16.026\n",
      "No. Observations:                  34   AIC:                             40.05\n",
      "Df Residuals:                      30   BIC:                             46.16\n",
      "Df Model:                           3                                         \n",
      "Covariance Type:            nonrobust                                         \n",
      "==============================================================================\n",
      "                 coef    std err          t      P>|t|      [0.025      0.975]\n",
      "------------------------------------------------------------------------------\n",
      "Intercept      0.9370      0.537      1.745      0.091      -0.160       2.034\n",
      "wef_pr        -0.1964      0.095     -2.073      0.047      -0.390      -0.003\n",
      "BUSANGVL       0.0582      0.018      3.271      0.003       0.022       0.095\n",
      "Opport20       0.0041      0.004      1.053      0.301      -0.004       0.012\n",
      "==============================================================================\n",
      "Omnibus:                        7.844   Durbin-Watson:                   1.747\n",
      "Prob(Omnibus):                  0.020   Jarque-Bera (JB):                3.286\n",
      "Skew:                           0.476   Prob(JB):                        0.193\n",
      "Kurtosis:                       1.812   Cond. No.                         430.\n",
      "==============================================================================\n",
      "\n",
      "Notes:\n",
      "[1] Standard Errors assume that the covariance matrix of the errors is correctly specified.\n"
     ]
    }
   ],
   "source": [
    "lm1 = smf.ols(formula = 'high_TEA ~ wef_pr + BUSANGVL + Opport20', data = sub).fit()\n",
    "print (lm1.summary())"
   ]
  },
  {
   "cell_type": "markdown",
   "metadata": {
    "id": "P-Agiufvuhfr"
   },
   "source": [
    "**Result interpretation**:\n",
    "\n",
    "- **Property rights (`wef_pr`)** is negatively associated with high TEA, and the association is statistically significant (p-value < 0.05).\n",
    "    - This is directly opposite of our initial expectation. Property rights is negatively rather than positively associated with high TEA.\n",
    "    - Our initial expectation is based on a hypothesized causal effect. One possible explanation for this result is that property rights and TEA are related by a confounding variable which produces this unintuitive result.\n",
    "- **Informal investor activity (`BUSANGVL`)** is positively associated with high TEA, and the association is statistically significant (p-value < 0.01).\n",
    "    - This is in line with our expectation.\n",
    "- **Perceived opportunities (`Opport20`)** has a very small coefficient and is not statistically significant  (p-value > 0.1).\n",
    "    - Unlike our expectation, perceived opportunities appears to not be associated with performance of the economy, after controlling for property rights and informal investor activity.\n",
    "    - It is still possible that our expectation holds true in a model of just TEA against perceived opportunities, where we do not control for property rights or informal investor activity."
   ]
  },
  {
   "cell_type": "markdown",
   "metadata": {
    "id": "aeDWvjBsI1c6"
   },
   "source": [
    "### 2. Run a multiple (binary) logistic model. (It can be the same as the above LPM or a new model.) If it is a new model, tell me how you think your independent variables will affect your dependent variable. Interpret your results in the logit scale. Were your expectations correct? Why or why not?"
   ]
  },
  {
   "cell_type": "markdown",
   "metadata": {},
   "source": [
    "Let's run the logit on the same independent and dependent variables as in question (1):"
   ]
  },
  {
   "cell_type": "code",
   "execution_count": 15,
   "metadata": {
    "colab": {
     "base_uri": "https://localhost:8080/"
    },
    "id": "9iYwTRuRiCVr",
    "outputId": "9b05f31c-7194-4537-a927-e2e43567ff68"
   },
   "outputs": [
    {
     "name": "stdout",
     "output_type": "stream",
     "text": [
      "Optimization terminated successfully.\n",
      "         Current function value: 0.362068\n",
      "         Iterations 9\n",
      "                           Logit Regression Results                           \n",
      "==============================================================================\n",
      "Dep. Variable:               high_TEA   No. Observations:                   34\n",
      "Model:                          Logit   Df Residuals:                       30\n",
      "Method:                           MLE   Df Model:                            3\n",
      "Date:                Fri, 06 Dec 2024   Pseudo R-squ.:                  0.4776\n",
      "Time:                        11:05:07   Log-Likelihood:                -12.310\n",
      "converged:                       True   LL-Null:                       -23.567\n",
      "Covariance Type:            nonrobust   LLR p-value:                 5.100e-05\n",
      "==============================================================================\n",
      "                 coef    std err          z      P>|z|      [0.025      0.975]\n",
      "------------------------------------------------------------------------------\n",
      "Intercept      1.7149      3.870      0.443      0.658      -5.870       9.300\n",
      "wef_pr        -1.7454      0.938     -1.860      0.063      -3.585       0.094\n",
      "BUSANGVL       1.1476      0.578      1.987      0.047       0.015       2.280\n",
      "Opport20       0.0458      0.036      1.269      0.205      -0.025       0.116\n",
      "==============================================================================\n",
      "\n",
      "Possibly complete quasi-separation: A fraction 0.12 of observations can be\n",
      "perfectly predicted. This might indicate that there is complete\n",
      "quasi-separation. In this case some parameters will not be identified.\n"
     ]
    }
   ],
   "source": [
    "logit1 = sm.formula.logit(formula = 'high_TEA ~ wef_pr + BUSANGVL + Opport20', data = sub).fit()\n",
    "print (logit1.summary())"
   ]
  },
  {
   "cell_type": "markdown",
   "metadata": {
    "id": "4QoAEKpwM_gl"
   },
   "source": [
    "**Result interpretation**:\n",
    "\n",
    "- **Property rights (`wef_pr`)** is still negatively associated with high TEA, but the association is no longer statistically significant (p-value > 0.05).\n",
    "    - Unlike our expectation, property rights appears to not be associated with performance of the economy, after controlling for property rights and informal investor activity.\n",
    "    - The directionality of the coefficient (negative) is still against our expectation.\n",
    "- **Informal investor activity (`BUSANGVL`)** is still positively associated with high TEA, and the association is still statistically significant (p-value < 0.01).\n",
    "    - This is in line with our expectation.\n",
    "- **Perceived opportunities (`Opport20`)** is still not statistically significant  (p-value > 0.1).\n",
    "    - Unlike our expectation, perceived opportunities appears to not be associated with performance of the economy, after controlling for property rights and informal investor activity.\n",
    "    - It is still possible that our expectation holds true in a model of just TEA against perceived opportunities, where we do not control for property rights or informal investor activity."
   ]
  },
  {
   "cell_type": "markdown",
   "metadata": {
    "id": "M6mpEROTI5PN"
   },
   "source": [
    "### 3. Get odds ratios from your logit model in Question 2 and interpret some of them."
   ]
  },
  {
   "cell_type": "code",
   "execution_count": null,
   "metadata": {
    "colab": {
     "base_uri": "https://localhost:8080/"
    },
    "id": "LqM3etaJI7jF",
    "outputId": "70a72bea-6e2d-4727-9667-163c1b071127"
   },
   "outputs": [
    {
     "data": {
      "text/plain": [
       "Intercept    5.556194\n",
       "wef_pr       0.174567\n",
       "BUSANGVL     3.150574\n",
       "Opport20     1.046815\n",
       "dtype: float64"
      ]
     },
     "execution_count": 16,
     "metadata": {},
     "output_type": "execute_result"
    }
   ],
   "source": [
    "# Get odd ratios by taking exponent of logit model coefficients\n",
    "np.exp(logit1.params)"
   ]
  },
  {
   "cell_type": "code",
   "execution_count": null,
   "metadata": {},
   "outputs": [
    {
     "data": {
      "text/plain": [
       "0.825433"
      ]
     },
     "execution_count": 17,
     "metadata": {},
     "output_type": "execute_result"
    }
   ],
   "source": [
    "# Find percentage decrease for wef_pr\n",
    "1-0.174567"
   ]
  },
  {
   "cell_type": "markdown",
   "metadata": {
    "id": "aGVnvKIfNaZP"
   },
   "source": [
    "**Interpretation**:\n",
    "\n",
    "- For each one-unit increase in property rights (on 1 to 7 scale), the odds of the country being considered as having high TEA decrease by 82.5%.\n",
    "- For each 1% increase in informal investor activity, the odds of the country being considered as having high TEA increases by 115.1%\n",
    "- For each 1% increase in perceived opportunities, the odds of the economy being considered as having high TEA increase by 4.7%."
   ]
  },
  {
   "cell_type": "markdown",
   "metadata": {
    "id": "1TPXd425I7zP"
   },
   "source": [
    "### 4. Get predicted probabilities from your logit model in Question 2 for some constellations of X values and interpret the results.\n",
    "\n",
    "First, let's define a function which gives us probability from logit value. We also create variables for the intercept and logit coefficient values for each dependent variable in our model:"
   ]
  },
  {
   "cell_type": "code",
   "execution_count": 24,
   "metadata": {
    "id": "gCJvilxvvMPM"
   },
   "outputs": [],
   "source": [
    "# Define a function which gives us probability from logit value\n",
    "def logit2prob (logit):\n",
    "    odds = np.exp(logit)\n",
    "    prob = odds / (1 + odds)\n",
    "    return(prob)\n",
    "\n",
    "intercept = logit1.params.Intercept\n",
    "b_wef_pr = logit1.params.wef_pr\n",
    "b_BUSANGVL = logit1.params.BUSANGVL\n",
    "b_Opport20 = logit1.params.Opport20"
   ]
  },
  {
   "cell_type": "markdown",
   "metadata": {
    "id": "xJbyMXedOOG2"
   },
   "source": [
    "**Constellation 1**\n",
    "- For X values:\n",
    "    - wef_pr = 7 (recall this is on a 1 to 7 scale)\n",
    "    - BUSANGVL = 10 (recall this is a %)\n",
    "    - Opport20 = 5 (recall this is a %)\n",
    "- Predicted probability: 77% chance of economy being considered as having high TEA"
   ]
  },
  {
   "cell_type": "code",
   "execution_count": null,
   "metadata": {
    "colab": {
     "base_uri": "https://localhost:8080/"
    },
    "id": "DQaLPt0pOVps",
    "outputId": "7e863c30-8c6c-487c-9aa1-43700e756160"
   },
   "outputs": [
    {
     "name": "stdout",
     "output_type": "stream",
     "text": [
      "Predicted probability: 0.77\n"
     ]
    }
   ],
   "source": [
    "# X values\n",
    "value_wef_pr = 7\n",
    "value_BUSANGVL = 10\n",
    "value_Opport20 = 5\n",
    "\n",
    "# Calculate predicted probability \n",
    "logits_exh = intercept + (value_wef_pr * b_wef_pr) + (value_BUSANGVL * b_BUSANGVL) + (value_Opport20 * b_Opport20)\n",
    "pred_prob = logit2prob(logits_exh)\n",
    "print(f\"Predicted probability: {round(pred_prob,2)}\")"
   ]
  },
  {
   "cell_type": "markdown",
   "metadata": {
    "id": "erpNLXBYPcjc"
   },
   "source": [
    "**Constellation 2**\n",
    "- For X values:\n",
    "    - wef_pr = 3 (recall this is on a 1 to 7 scale)\n",
    "    - BUSANGVL = 5 (recall this is a %)\n",
    "    - Opport20 = 35 (recall this is a %)\n",
    "- Predicted probability: 98% chance of economy being considered as having high TEA"
   ]
  },
  {
   "cell_type": "code",
   "execution_count": 41,
   "metadata": {
    "colab": {
     "base_uri": "https://localhost:8080/"
    },
    "id": "p3AA1GXhPc3O",
    "outputId": "76628708-d45e-4758-96d4-bb9535139f5e"
   },
   "outputs": [
    {
     "name": "stdout",
     "output_type": "stream",
     "text": [
      "Predicted probability: 0.98\n"
     ]
    }
   ],
   "source": [
    "# X values\n",
    "value_wef_pr = 3\n",
    "value_BUSANGVL = 5\n",
    "value_Opport20 = 35\n",
    "\n",
    "# Calculate predicted probability \n",
    "logits_exh = intercept + (value_wef_pr * b_wef_pr) + (value_BUSANGVL * b_BUSANGVL) + (value_Opport20 * b_Opport20)\n",
    "pred_prob = logit2prob(logits_exh)\n",
    "print(f\"Predicted probability: {round(pred_prob,2)}\")"
   ]
  },
  {
   "cell_type": "markdown",
   "metadata": {
    "id": "zOsPgvxXOtzH"
   },
   "source": [
    "**Constellation 3**\n",
    "- For X values:\n",
    "    - wef_pr = 6 (recall this is on a 1 to 7 scale)\n",
    "    - BUSANGVL = 9 (recall this is a %)\n",
    "    - Opport20 = 20 (recall this is a %)\n",
    "- Predicted probability: 92% chance of economy being considered as having high TEA"
   ]
  },
  {
   "cell_type": "code",
   "execution_count": 43,
   "metadata": {
    "colab": {
     "base_uri": "https://localhost:8080/"
    },
    "id": "_lt7YL7tOj4f",
    "outputId": "78ea7634-3d13-4f55-be17-59d1b84fe1c4"
   },
   "outputs": [
    {
     "name": "stdout",
     "output_type": "stream",
     "text": [
      "Predicted probability: 0.92\n"
     ]
    }
   ],
   "source": [
    "# X values\n",
    "value_wef_pr = 6\n",
    "value_BUSANGVL = 9\n",
    "value_Opport20 = 20\n",
    "\n",
    "# Calculate predicted probability \n",
    "logits_exh = intercept + (value_wef_pr * b_wef_pr) + (value_BUSANGVL * b_BUSANGVL) + (value_Opport20 * b_Opport20)\n",
    "pred_prob = logit2prob(logits_exh)\n",
    "print(f\"Predicted probability: {round(pred_prob,2)}\")"
   ]
  }
 ],
 "metadata": {
  "accelerator": "GPU",
  "colab": {
   "gpuType": "T4",
   "provenance": []
  },
  "kernelspec": {
   "display_name": "3.12.5",
   "language": "python",
   "name": "python3"
  },
  "language_info": {
   "codemirror_mode": {
    "name": "ipython",
    "version": 3
   },
   "file_extension": ".py",
   "mimetype": "text/x-python",
   "name": "python",
   "nbconvert_exporter": "python",
   "pygments_lexer": "ipython3",
   "version": "3.12.5"
  }
 },
 "nbformat": 4,
 "nbformat_minor": 0
}
