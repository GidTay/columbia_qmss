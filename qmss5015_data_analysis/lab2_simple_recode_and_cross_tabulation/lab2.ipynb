{
 "cells": [
  {
   "cell_type": "markdown",
   "id": "5eaac1e1",
   "metadata": {},
   "source": [
    "# Lab 2 (QMSS5015 Data Analysis)\n",
    "**Submitted by**: Gideon Tay\\\n",
    "**My UNI**: gt2528\\\n",
    "**Contact me at**: gideon.tay@columbia.edu"
   ]
  },
  {
   "cell_type": "markdown",
   "id": "a98e945a",
   "metadata": {},
   "source": [
    "## Import libraries, load the data, and convert to wide format\n",
    "For this lab, I downloaded data from the World Bank's [World Development Index database](https://databank.worldbank.org/source/world-development-indicators). In the csv download, I set missing data as blanks. I downloaded year 2020 data for all 217 countries for the following 3 variables:\n",
    "\n",
    "- Age dependency ratio (% of working-age population)\n",
    "- Tax revenue (% of GDP)\n",
    "- GDP growth (annual %)"
   ]
  },
  {
   "cell_type": "code",
   "execution_count": 1,
   "id": "086e4cda",
   "metadata": {
    "vscode": {
     "languageId": "plaintext"
    }
   },
   "outputs": [],
   "source": [
    "# import libraries needed for this lab assignment\n",
    "import pandas as pd\n",
    "import numpy as np\n",
    "from matplotlib import pyplot as plt\n",
    "import seaborn as sns\n",
    "\n",
    "# Read csv file from your local computer\n",
    "df_long = pd.read_csv('worldbank_data.csv')"
   ]
  },
  {
   "cell_type": "markdown",
   "id": "d0fe85b3",
   "metadata": {},
   "source": [
    "Since the data is provided in a long format upon download, I also have to convert it to a wide format for easier analysis:"
   ]
  },
  {
   "cell_type": "code",
   "execution_count": 2,
   "id": "49893b01",
   "metadata": {
    "vscode": {
     "languageId": "plaintext"
    }
   },
   "outputs": [
    {
     "data": {
      "text/html": [
       "<div>\n",
       "<style scoped>\n",
       "    .dataframe tbody tr th:only-of-type {\n",
       "        vertical-align: middle;\n",
       "    }\n",
       "\n",
       "    .dataframe tbody tr th {\n",
       "        vertical-align: top;\n",
       "    }\n",
       "\n",
       "    .dataframe thead th {\n",
       "        text-align: right;\n",
       "    }\n",
       "</style>\n",
       "<table border=\"1\" class=\"dataframe\">\n",
       "  <thead>\n",
       "    <tr style=\"text-align: right;\">\n",
       "      <th></th>\n",
       "      <th>country</th>\n",
       "      <th>age_dep_ratio</th>\n",
       "      <th>gdp_growth</th>\n",
       "      <th>tax_revenue</th>\n",
       "    </tr>\n",
       "  </thead>\n",
       "  <tbody>\n",
       "    <tr>\n",
       "      <th>0</th>\n",
       "      <td>Afghanistan</td>\n",
       "      <td>85.959550</td>\n",
       "      <td>-2.351101</td>\n",
       "      <td>NaN</td>\n",
       "    </tr>\n",
       "    <tr>\n",
       "      <th>1</th>\n",
       "      <td>Albania</td>\n",
       "      <td>47.696632</td>\n",
       "      <td>-3.302082</td>\n",
       "      <td>16.983257</td>\n",
       "    </tr>\n",
       "    <tr>\n",
       "      <th>2</th>\n",
       "      <td>Algeria</td>\n",
       "      <td>57.889467</td>\n",
       "      <td>-5.000000</td>\n",
       "      <td>NaN</td>\n",
       "    </tr>\n",
       "    <tr>\n",
       "      <th>3</th>\n",
       "      <td>American Samoa</td>\n",
       "      <td>53.028094</td>\n",
       "      <td>4.411765</td>\n",
       "      <td>NaN</td>\n",
       "    </tr>\n",
       "    <tr>\n",
       "      <th>4</th>\n",
       "      <td>Andorra</td>\n",
       "      <td>37.987924</td>\n",
       "      <td>-11.183940</td>\n",
       "      <td>NaN</td>\n",
       "    </tr>\n",
       "  </tbody>\n",
       "</table>\n",
       "</div>"
      ],
      "text/plain": [
       "          country  age_dep_ratio  gdp_growth  tax_revenue\n",
       "0     Afghanistan      85.959550   -2.351101          NaN\n",
       "1         Albania      47.696632   -3.302082    16.983257\n",
       "2         Algeria      57.889467   -5.000000          NaN\n",
       "3  American Samoa      53.028094    4.411765          NaN\n",
       "4         Andorra      37.987924  -11.183940          NaN"
      ]
     },
     "execution_count": 2,
     "metadata": {},
     "output_type": "execute_result"
    }
   ],
   "source": [
    "# Convert data from long to wide format\n",
    "df = df_long.pivot(index = 'Country Name', \n",
    "                   columns = 'Series Name', \n",
    "                   values = '2020')\n",
    "\n",
    "# Reset index to make 'Country Name' a column\n",
    "df.reset_index(inplace=True)\n",
    "\n",
    "# Rename the columns so it is easier to work with\n",
    "df.columns = ['country', 'age_dep_ratio', 'gdp_growth', 'tax_revenue']\n",
    "\n",
    "# View the data\n",
    "df.head()"
   ]
  },
  {
   "cell_type": "markdown",
   "id": "a81190e3",
   "metadata": {},
   "source": [
    "## 1-- Recode 2 different variables into new categories. They can both be continuous-ish or both be nominal-ish, or one of each. Tell me what you did and explain the variable(s).\n",
    "\n",
    "### Recode a continuous-ish variable into categories and explain\n",
    "Our first variable is **age dependency ratio**. It is the ratio of dependents (people younger than 15 or older than 64) to the working-age population (those ages 15-64). Data are shown as the proportion of dependents per 100 working-age population.\n",
    "\n",
    "Let's convert this continuous variable (previously given as % of working age population) into a categorical variable with 4 categories:\n",
    "\n",
    "- Very Low ADR (age_dep_ratio <= 45%)\n",
    "- Low ADR (45% < age_dep_ratio <= 55%)\n",
    "- Moderate ADR (55% < age_dep_ratio <= 65%)\n",
    "- High ADR (65% < age_dep_ratio)"
   ]
  },
  {
   "cell_type": "code",
   "execution_count": 3,
   "id": "7f2ef640-0a9e-43fd-a53c-66afac9168b1",
   "metadata": {},
   "outputs": [
    {
     "data": {
      "text/plain": [
       "age_dep_ratio_lvl\n",
       "Very Low ADR    41\n",
       "Low ADR         73\n",
       "Moderate ADR    46\n",
       "High ADR        57\n",
       "Name: count, dtype: int64"
      ]
     },
     "execution_count": 3,
     "metadata": {},
     "output_type": "execute_result"
    }
   ],
   "source": [
    "# Define the boundaries for the 4 categories\n",
    "# No lower limit for the first bin, no upper limit for the last\n",
    "bins = [-np.inf, 45, 55, 65, np.inf]\n",
    "\n",
    "# Define the category names\n",
    "labels = ['Very Low ADR', 'Low ADR', 'Moderate ADR', 'High ADR'] \n",
    "\n",
    "# Recode the Age Dependency Ratio into 4 ordinal categories using pd.cut()\n",
    "df['age_dep_ratio_lvl'] = pd.cut(df['age_dep_ratio'],\n",
    "                                 bins = bins, \n",
    "                                 labels = labels)\n",
    "\n",
    "# View the output and display in order with sort_index()\n",
    "df['age_dep_ratio_lvl'].value_counts(dropna=False).sort_index()"
   ]
  },
  {
   "cell_type": "markdown",
   "id": "552a8f6e-94e3-4568-a389-525198876970",
   "metadata": {},
   "source": [
    "To visually confirm that our recoding works, we can produce a boxplot to show how our original `age_dep_ratio` variable relates to the new `age_dep_ratio_lvl` recoded version."
   ]
  },
  {
   "cell_type": "code",
   "execution_count": 4,
   "id": "38f4d936-833f-4d1f-a9be-264f7fda782b",
   "metadata": {},
   "outputs": [
    {
     "data": {
      "text/plain": [
       "<Axes: xlabel='age_dep_ratio_lvl', ylabel='age_dep_ratio'>"
      ]
     },
     "execution_count": 4,
     "metadata": {},
     "output_type": "execute_result"
    },
    {
     "data": {
      "image/png": "[encoded data removed]",
      "text/plain": [
       "<Figure size 640x480 with 1 Axes>"
      ]
     },
     "metadata": {},
     "output_type": "display_data"
    }
   ],
   "source": [
    "# Plot boxplot of original and recoded variable\n",
    "sns.boxplot(x = 'age_dep_ratio_lvl', y = 'age_dep_ratio', data = df)"
   ]
  },
  {
   "cell_type": "markdown",
   "id": "a6658e31-3d9e-4809-976e-fdd49e7adcba",
   "metadata": {},
   "source": [
    "Visually, our recode clearly works. We have created 4 ordinal levels of age dependency ratios. From the distribution, it is clear that for a large proportion of countries, age dependency ratios fall between the narrow 45% and 65% range (the low ADR and moderate ADR categories). This means that most countries have between 45 and 65 dependents for every 100 working-age adults.\n",
    "\n",
    "There is one country with a very low ADR of about 20, as seen from the outlier in the boxplot, far below even the second lowest ADR country."
   ]
  },
  {
   "cell_type": "markdown",
   "id": "a4297848-ba0f-4eca-abcc-b177e4eae05a",
   "metadata": {},
   "source": [
    "### Recode another variable and explain\n",
    "The second variable we will recode is **tax revenue as a percentage of GDP**. Tax revenue refers to compulsory transfers to the central government for public purposes. Certain compulsory transfers such as fines, penalties, and most social security contributions are excluded. Refunds and corrections of erroneously collected tax revenue are treated as negative revenue.\n",
    "\r\n",
    "Again, let's convert this continuous variable (given as % of GDP) into an ordinal categorical variable with 4 categories:\n",
    "\n",
    "- Very Low Tax Rev (tax_revenue <= 10%)\n",
    "- Low Tax Rev (10% < tax_revenue <= 15%)\n",
    "- Moderate Tax Rev (15% < tax_revenue <= 20%)\n",
    "- High Tax Rev (20% < tax_revenue)\n"
   ]
  },
  {
   "cell_type": "code",
   "execution_count": 5,
   "id": "cb547e60-2fb6-4673-bcad-6f69ac4b7a77",
   "metadata": {},
   "outputs": [
    {
     "data": {
      "text/plain": [
       "tax_revenue_lvl\n",
       "Very Low Tax Rev    23\n",
       "Low Tax Rev         40\n",
       "Moderate Tax Rev    31\n",
       "High Tax Rev        42\n",
       "NaN                 81\n",
       "Name: count, dtype: int64"
      ]
     },
     "execution_count": 5,
     "metadata": {},
     "output_type": "execute_result"
    }
   ],
   "source": [
    "# Define the boundaries for the 4 categories\n",
    "# No lower limit for the first bin, no upper limit for the last\n",
    "bins2 = [-np.inf, 10, 15, 20, np.inf]\n",
    "\n",
    "# Define the category names\n",
    "labels2 = ['Very Low Tax Rev', 'Low Tax Rev', \n",
    "           'Moderate Tax Rev', 'High Tax Rev'] \n",
    "\n",
    "# Recode the tax revenue into 4 ordinal categories using pd.cut()\n",
    "df['tax_revenue_lvl'] = pd.cut(df['tax_revenue'],\n",
    "                                 bins = bins2, \n",
    "                                 labels = labels2)\n",
    "\n",
    "# View the output and display in order with sort_index()\n",
    "df['tax_revenue_lvl'].value_counts(dropna=False).sort_index()"
   ]
  },
  {
   "cell_type": "markdown",
   "id": "bcd7be7a-0906-4874-967b-c899f161a3b6",
   "metadata": {},
   "source": [
    "We have missing values for quite a number of countries (81 countries) in the tax_revenue column. Note that missing values (NaN) are not given a category, and remain as NaN. Let us again visually check that our recoding has worked properly by plotting a boxplot to see how the original `tax_revenue` variable relates to the new `tax_revenue_lvl` recoded version."
   ]
  },
  {
   "cell_type": "code",
   "execution_count": 6,
   "id": "14d27c07-146c-485a-b540-f59da73a2c73",
   "metadata": {},
   "outputs": [
    {
     "data": {
      "text/plain": [
       "<Axes: xlabel='tax_revenue_lvl', ylabel='tax_revenue'>"
      ]
     },
     "execution_count": 6,
     "metadata": {},
     "output_type": "execute_result"
    },
    {
     "data": {
      "image/png": "[encoded data removed]",
      "text/plain": [
       "<Figure size 640x480 with 1 Axes>"
      ]
     },
     "metadata": {},
     "output_type": "display_data"
    }
   ],
   "source": [
    "# Plot boxplot of original and recoded variable\n",
    "sns.boxplot(x = 'tax_revenue_lvl', y = 'tax_revenue', data = df)"
   ]
  },
  {
   "cell_type": "markdown",
   "id": "2242a07b-542b-4736-a43e-016838bd418d",
   "metadata": {},
   "source": [
    "Again, with our second variable, the recode appears to check out. There are a few outlier countries: one with tax revenue at >40% GDP (very high), and 3 with tax revenue at <5% GDP (very low). Most of our data points sit within the 5% to 30% range."
   ]
  },
  {
   "cell_type": "markdown",
   "id": "8d4fc859",
   "metadata": {},
   "source": [
    "## 2-- Use one (or both) of your recoded variables to do a cross-tabulation. Explain your results.\n",
    "I will use my 2 recoded variables in my cross-tabulation. I expect countries with higher age dependency ratios to have higher tax revenues as a percentage of GDP. Intuitively, if there are more dependents per working-age adult, higher taxes are likely needed to fund greater state expenditure on healthcare costs (for the elderly) as well as social and education costs (for children and young families)."
   ]
  },
  {
   "cell_type": "code",
   "execution_count": 7,
   "id": "e440de42-ca58-4f36-8595-1c19c60553a7",
   "metadata": {},
   "outputs": [
    {
     "data": {
      "text/html": [
       "<div>\n",
       "<style scoped>\n",
       "    .dataframe tbody tr th:only-of-type {\n",
       "        vertical-align: middle;\n",
       "    }\n",
       "\n",
       "    .dataframe tbody tr th {\n",
       "        vertical-align: top;\n",
       "    }\n",
       "\n",
       "    .dataframe thead th {\n",
       "        text-align: right;\n",
       "    }\n",
       "</style>\n",
       "<table border=\"1\" class=\"dataframe\">\n",
       "  <thead>\n",
       "    <tr style=\"text-align: right;\">\n",
       "      <th>age_dep_ratio_lvl</th>\n",
       "      <th>Very Low ADR</th>\n",
       "      <th>Low ADR</th>\n",
       "      <th>Moderate ADR</th>\n",
       "      <th>High ADR</th>\n",
       "    </tr>\n",
       "    <tr>\n",
       "      <th>tax_revenue_lvl</th>\n",
       "      <th></th>\n",
       "      <th></th>\n",
       "      <th></th>\n",
       "      <th></th>\n",
       "    </tr>\n",
       "  </thead>\n",
       "  <tbody>\n",
       "    <tr>\n",
       "      <th>Very Low Tax Rev</th>\n",
       "      <td>16.666667</td>\n",
       "      <td>14.893617</td>\n",
       "      <td>16.129032</td>\n",
       "      <td>20.588235</td>\n",
       "    </tr>\n",
       "    <tr>\n",
       "      <th>Low Tax Rev</th>\n",
       "      <td>29.166667</td>\n",
       "      <td>25.531915</td>\n",
       "      <td>22.580645</td>\n",
       "      <td>41.176471</td>\n",
       "    </tr>\n",
       "    <tr>\n",
       "      <th>Moderate Tax Rev</th>\n",
       "      <td>25.000000</td>\n",
       "      <td>34.042553</td>\n",
       "      <td>16.129032</td>\n",
       "      <td>11.764706</td>\n",
       "    </tr>\n",
       "    <tr>\n",
       "      <th>High Tax Rev</th>\n",
       "      <td>29.166667</td>\n",
       "      <td>25.531915</td>\n",
       "      <td>45.161290</td>\n",
       "      <td>26.470588</td>\n",
       "    </tr>\n",
       "  </tbody>\n",
       "</table>\n",
       "</div>"
      ],
      "text/plain": [
       "age_dep_ratio_lvl  Very Low ADR    Low ADR  Moderate ADR   High ADR\n",
       "tax_revenue_lvl                                                    \n",
       "Very Low Tax Rev      16.666667  14.893617     16.129032  20.588235\n",
       "Low Tax Rev           29.166667  25.531915     22.580645  41.176471\n",
       "Moderate Tax Rev      25.000000  34.042553     16.129032  11.764706\n",
       "High Tax Rev          29.166667  25.531915     45.161290  26.470588"
      ]
     },
     "execution_count": 7,
     "metadata": {},
     "output_type": "execute_result"
    }
   ],
   "source": [
    "# Cross-tabulate age_dep_ratio_lvl and tax_revenue_lvl\n",
    "pd.crosstab(df.tax_revenue_lvl, df.age_dep_ratio_lvl, normalize='columns')*100"
   ]
  },
  {
   "cell_type": "markdown",
   "id": "f34e3e89-7f7c-46b2-b9d0-c7e0e5ce99ff",
   "metadata": {},
   "source": [
    "Let's visualize this cross-tabulation better with a stacked bar chart"
   ]
  },
  {
   "cell_type": "code",
   "execution_count": 8,
   "id": "e16a5761-3079-4f76-b022-bcc188af13b2",
   "metadata": {},
   "outputs": [
    {
     "data": {
      "image/png": "[encoded data removed]",
      "text/plain": [
       "<Figure size 640x480 with 1 Axes>"
      ]
     },
     "metadata": {},
     "output_type": "display_data"
    }
   ],
   "source": [
    "# Drop rows with missing data\n",
    "df = df.dropna()\n",
    "\n",
    "# Define the variable names\n",
    "variables = ['age_dep_ratio_lvl', 'tax_revenue_lvl']\n",
    "\n",
    "# Group by the variables and count the occurrences\n",
    "group_counts = df.groupby(variables, observed = False).size()\n",
    "\n",
    "# Group by the first variable only and count the occurrences\n",
    "total_counts = df.groupby(variables[0], observed = False).size()\n",
    "\n",
    "# Calculate the percentage\n",
    "percentages = group_counts / total_counts\n",
    "\n",
    "# Unstack and plot the data\n",
    "chart = percentages.unstack().plot(kind='bar', stacked=True)\n",
    "\n",
    "# Move the legend outside the plot\n",
    "chart.legend(title='Tax Revenue Level', \n",
    "             bbox_to_anchor=(1.05, 1), \n",
    "             loc='upper left')\n",
    "\n",
    "# Tilt the x-axis labels\n",
    "plt.xticks(rotation=0)\n",
    "\n",
    "# Show the plot\n",
    "plt.show()"
   ]
  },
  {
   "cell_type": "markdown",
   "id": "97ecdde5-fe57-40ba-bb42-3db111ff1f7c",
   "metadata": {},
   "source": [
    "The cross-tabulation does not show any clear pattern, unlike what I initially expected or hypothesized. I initially expected the red bar to grow larger while the blue bar to grow smalller as age dependency ratio increases. Instead, we observe that moderate ADR has the largest red bar, and high ADR has the largest blue bar.\n",
    "\n",
    "Perhaps this suggests that my initial thought process is a little too simplistic. While countries with higher age dependency ratios may have higher relative social, healthcare, and education expenditure to care for the young and elderly, perhaps this may be funded through means other than high taxes. \n",
    "\n",
    "- Countries may borrow to spend, rather than raise taxes. Recently, we have seen growing sovereign debt levels globally.\n",
    "- Countries may have large financial reserves (Singapore) or government revenue from natural resources (Norway, Saudi Arabia, and Brunei's oil) which can be an alternative source of funding for government spending besides taxes\n",
    "\n",
    "Another possibility is that our large number of missing data points for 81 countries' tax revenue has prevented us from observing the true distribution. This is possible if there is a systematic reason behind why these specific country's data are missing, rather than a random one."
   ]
  },
  {
   "cell_type": "markdown",
   "id": "d7ec297d-1503-4fc3-8181-e4473b8eb837",
   "metadata": {},
   "source": [
    "## 3-- Run a correlation of one variable with another variable; make all of the recodes necessary to make the correlation as easy to interpret as possible; and explain your results.\n",
    "\n",
    "I will investigate the correlation between tax revenue (% of GDP) and GDP growth (annual %). I expect that countries with high tax revenues as a percentage of GDP would have lower growth. \n",
    "\n",
    "Intuitively, taxes disincentivizes economic activity. Corporate taxes reduce the incentive for private sector investment, value added tax (VAT) reduces consumption, income tax reduces the incentive to work, and payroll tax reduces the incentive for firms to hire. Hence, I expect higher tax levels to correlate with lower growth.\n",
    "\n",
    "No recode is necessary since `tax_revenue` and `gdp_growth` columns are continuous variables which allow correlation to be conducted on them easily, and we have already dropped all rows with NaN values."
   ]
  },
  {
   "cell_type": "code",
   "execution_count": 9,
   "id": "4ee7391d-34f6-444c-86b1-4cfc8d7bb264",
   "metadata": {},
   "outputs": [
    {
     "data": {
      "text/plain": [
       "-0.15584156346630249"
      ]
     },
     "execution_count": 9,
     "metadata": {},
     "output_type": "execute_result"
    }
   ],
   "source": [
    "# calculate the Pearson correlation\n",
    "df['tax_revenue'].corr(df['gdp_growth'])"
   ]
  },
  {
   "cell_type": "markdown",
   "id": "01ce5cfb-c745-4fb6-9019-fdfd66a7ba88",
   "metadata": {},
   "source": [
    "As expected, there is a negative correlation between tax revenue as a percentage of GDP and annual percentage GDP growth. Note that this correlation is rather weak in magnitude. In practice, many other variables including external global macroeconomic factors affect GDP growth, so it is difficult for any single variable to correlate very strongly with GDP growth."
   ]
  },
  {
   "cell_type": "markdown",
   "id": "b1c29703-1c79-4d35-82f2-922b4a77663b",
   "metadata": {},
   "source": [
    "## 4-- Identify the most extreme cases on some variable.  Interpret the results."
   ]
  },
  {
   "cell_type": "markdown",
   "id": "799ef2c4-1f63-4d8b-92df-55883950e8a2",
   "metadata": {},
   "source": [
    "I was curious which countries had highest and lowest age dependency ratio. Let's explore:"
   ]
  },
  {
   "cell_type": "code",
   "execution_count": 10,
   "id": "9799fd66-8000-406d-a8f5-d8aa2784ea4f",
   "metadata": {},
   "outputs": [
    {
     "data": {
      "text/html": [
       "<div>\n",
       "<style scoped>\n",
       "    .dataframe tbody tr th:only-of-type {\n",
       "        vertical-align: middle;\n",
       "    }\n",
       "\n",
       "    .dataframe tbody tr th {\n",
       "        vertical-align: top;\n",
       "    }\n",
       "\n",
       "    .dataframe thead th {\n",
       "        text-align: right;\n",
       "    }\n",
       "</style>\n",
       "<table border=\"1\" class=\"dataframe\">\n",
       "  <thead>\n",
       "    <tr style=\"text-align: right;\">\n",
       "      <th></th>\n",
       "      <th>country</th>\n",
       "      <th>age_dep_ratio</th>\n",
       "    </tr>\n",
       "  </thead>\n",
       "  <tbody>\n",
       "    <tr>\n",
       "      <th>37</th>\n",
       "      <td>Central African Republic</td>\n",
       "      <td>102.787588</td>\n",
       "    </tr>\n",
       "    <tr>\n",
       "      <th>122</th>\n",
       "      <td>Mali</td>\n",
       "      <td>100.416318</td>\n",
       "    </tr>\n",
       "    <tr>\n",
       "      <th>176</th>\n",
       "      <td>Somalia</td>\n",
       "      <td>99.822375</td>\n",
       "    </tr>\n",
       "    <tr>\n",
       "      <th>44</th>\n",
       "      <td>Congo, Dem. Rep.</td>\n",
       "      <td>97.998792</td>\n",
       "    </tr>\n",
       "    <tr>\n",
       "      <th>31</th>\n",
       "      <td>Burundi</td>\n",
       "      <td>96.800030</td>\n",
       "    </tr>\n",
       "  </tbody>\n",
       "</table>\n",
       "</div>"
      ],
      "text/plain": [
       "                      country  age_dep_ratio\n",
       "37   Central African Republic     102.787588\n",
       "122                      Mali     100.416318\n",
       "176                   Somalia      99.822375\n",
       "44           Congo, Dem. Rep.      97.998792\n",
       "31                    Burundi      96.800030"
      ]
     },
     "execution_count": 10,
     "metadata": {},
     "output_type": "execute_result"
    }
   ],
   "source": [
    "# Get the 5 highest age dependency ratio, along with the country name\n",
    "df[['country', 'age_dep_ratio']] \\\n",
    "    .dropna() \\\n",
    "    .sort_values(by = 'age_dep_ratio', ascending = False) \\\n",
    "    .head(5)"
   ]
  },
  {
   "cell_type": "markdown",
   "id": "98a72eb3-94ff-41d6-a123-cead7ee3562a",
   "metadata": {},
   "source": [
    "The top five countries with the highest age dependency ratios are the CAR, Mali, Somalia, DRC, and Burundi. These are all African countries.\n",
    "\n",
    "This can be explained by the higher fertility rates in these nations producing a high population of children younger than 15 that drive up the age dependency ratio. Although this means high childcare costs for now, it could be a positive tailwind for these countries' future economic growth, as it suggests rapid growth in workforce size and labour 2 decades down the line."
   ]
  },
  {
   "cell_type": "code",
   "execution_count": 11,
   "id": "c3c29567-ae07-48b4-8295-38ca5d523e29",
   "metadata": {},
   "outputs": [
    {
     "data": {
      "text/html": [
       "<div>\n",
       "<style scoped>\n",
       "    .dataframe tbody tr th:only-of-type {\n",
       "        vertical-align: middle;\n",
       "    }\n",
       "\n",
       "    .dataframe tbody tr th {\n",
       "        vertical-align: top;\n",
       "    }\n",
       "\n",
       "    .dataframe thead th {\n",
       "        text-align: right;\n",
       "    }\n",
       "</style>\n",
       "<table border=\"1\" class=\"dataframe\">\n",
       "  <thead>\n",
       "    <tr style=\"text-align: right;\">\n",
       "      <th></th>\n",
       "      <th>country</th>\n",
       "      <th>age_dep_ratio</th>\n",
       "    </tr>\n",
       "  </thead>\n",
       "  <tbody>\n",
       "    <tr>\n",
       "      <th>204</th>\n",
       "      <td>United Arab Emirates</td>\n",
       "      <td>19.896833</td>\n",
       "    </tr>\n",
       "    <tr>\n",
       "      <th>14</th>\n",
       "      <td>Bahrain</td>\n",
       "      <td>30.712222</td>\n",
       "    </tr>\n",
       "    <tr>\n",
       "      <th>171</th>\n",
       "      <td>Singapore</td>\n",
       "      <td>33.879591</td>\n",
       "    </tr>\n",
       "    <tr>\n",
       "      <th>117</th>\n",
       "      <td>Macao SAR, China</td>\n",
       "      <td>35.161646</td>\n",
       "    </tr>\n",
       "    <tr>\n",
       "      <th>121</th>\n",
       "      <td>Maldives</td>\n",
       "      <td>35.452564</td>\n",
       "    </tr>\n",
       "  </tbody>\n",
       "</table>\n",
       "</div>"
      ],
      "text/plain": [
       "                  country  age_dep_ratio\n",
       "204  United Arab Emirates      19.896833\n",
       "14                Bahrain      30.712222\n",
       "171             Singapore      33.879591\n",
       "117      Macao SAR, China      35.161646\n",
       "121              Maldives      35.452564"
      ]
     },
     "execution_count": 11,
     "metadata": {},
     "output_type": "execute_result"
    }
   ],
   "source": [
    "# Get the 5 lowest age dependency ratio, along with the country name\n",
    "df[['country', 'age_dep_ratio']] \\\n",
    "    .dropna() \\\n",
    "    .sort_values(by = 'age_dep_ratio', ascending = True) \\\n",
    "    .head(5)"
   ]
  },
  {
   "cell_type": "markdown",
   "id": "ae453684-0743-490d-8a28-eb12adf3341b",
   "metadata": {},
   "source": [
    "The bottom five countries with lowest age dependency ratios are the UAE, Bahrain, Singapore, Macao SAR, and Maldives. These are all countries in Asia and the Middle East. Low age dependency ratios means that most of the population are of working age and can contribute to the economy. \n",
    "\n",
    "However, for countries like UAE and Singapore, low age dependency ratios are partially attributed to low fertility rates. Decades down the line, these countries may have issues with an aging population as the large working age population retires and there are insufficient youth that grow into working age."
   ]
  }
 ],
 "metadata": {
  "kernelspec": {
   "display_name": "Python 3 (ipykernel)",
   "language": "python",
   "name": "python3"
  },
  "language_info": {
   "codemirror_mode": {
    "name": "ipython",
    "version": 3
   },
   "file_extension": ".py",
   "mimetype": "text/x-python",
   "name": "python",
   "nbconvert_exporter": "python",
   "pygments_lexer": "ipython3",
   "version": "3.12.4"
  }
 },
 "nbformat": 4,
 "nbformat_minor": 5
}
